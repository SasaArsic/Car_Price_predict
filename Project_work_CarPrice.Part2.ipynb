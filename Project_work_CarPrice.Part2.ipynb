{
 "cells": [
  {
   "cell_type": "markdown",
   "metadata": {},
   "source": [
    "In this notebook we will use our Car price data set, only deference will be that we'll play with our features a little bit."
   ]
  },
  {
   "cell_type": "code",
   "execution_count": 1,
   "metadata": {},
   "outputs": [],
   "source": [
    "# First we will upload elementary libraries\n",
    "import pandas as pd\n",
    "import numpy as np\n",
    "import matplotlib\n",
    "from matplotlib import pyplot as plt\n",
    "import seaborn as sns\n",
    "from sklearn.preprocessing import LabelEncoder #to encode categorical values\n",
    "\n",
    "import warnings\n",
    "warnings.filterwarnings('ignore')"
   ]
  },
  {
   "cell_type": "code",
   "execution_count": 2,
   "metadata": {},
   "outputs": [],
   "source": [
    "# Then comes the data, we're making copy of our original data set and work with it\n",
    "df1=pd.read_csv(\"CarPrice.csv\")\n",
    "dfcars=df1.copy()"
   ]
  },
  {
   "cell_type": "code",
   "execution_count": 3,
   "metadata": {},
   "outputs": [
    {
     "data": {
      "text/html": [
       "<div>\n",
       "<style scoped>\n",
       "    .dataframe tbody tr th:only-of-type {\n",
       "        vertical-align: middle;\n",
       "    }\n",
       "\n",
       "    .dataframe tbody tr th {\n",
       "        vertical-align: top;\n",
       "    }\n",
       "\n",
       "    .dataframe thead th {\n",
       "        text-align: right;\n",
       "    }\n",
       "</style>\n",
       "<table border=\"1\" class=\"dataframe\">\n",
       "  <thead>\n",
       "    <tr style=\"text-align: right;\">\n",
       "      <th></th>\n",
       "      <th>car_ID</th>\n",
       "      <th>symboling</th>\n",
       "      <th>CarBrand</th>\n",
       "      <th>fueltype</th>\n",
       "      <th>aspiration</th>\n",
       "      <th>doornumber</th>\n",
       "      <th>carbody</th>\n",
       "      <th>drivewheel</th>\n",
       "      <th>enginelocation</th>\n",
       "      <th>wheelbase</th>\n",
       "      <th>...</th>\n",
       "      <th>enginesize</th>\n",
       "      <th>fuelsystem</th>\n",
       "      <th>boreratio</th>\n",
       "      <th>stroke</th>\n",
       "      <th>compressionratio</th>\n",
       "      <th>horsepower</th>\n",
       "      <th>peakrpm</th>\n",
       "      <th>citympg</th>\n",
       "      <th>highwaympg</th>\n",
       "      <th>price</th>\n",
       "    </tr>\n",
       "  </thead>\n",
       "  <tbody>\n",
       "    <tr>\n",
       "      <th>0</th>\n",
       "      <td>1</td>\n",
       "      <td>3</td>\n",
       "      <td>alfa-romero</td>\n",
       "      <td>gas</td>\n",
       "      <td>std</td>\n",
       "      <td>two</td>\n",
       "      <td>convertible</td>\n",
       "      <td>rwd</td>\n",
       "      <td>front</td>\n",
       "      <td>88.6</td>\n",
       "      <td>...</td>\n",
       "      <td>130</td>\n",
       "      <td>mpfi</td>\n",
       "      <td>3.47</td>\n",
       "      <td>2.68</td>\n",
       "      <td>9.0</td>\n",
       "      <td>111</td>\n",
       "      <td>5000</td>\n",
       "      <td>21</td>\n",
       "      <td>27</td>\n",
       "      <td>13495.0</td>\n",
       "    </tr>\n",
       "    <tr>\n",
       "      <th>1</th>\n",
       "      <td>2</td>\n",
       "      <td>3</td>\n",
       "      <td>alfa-romero</td>\n",
       "      <td>gas</td>\n",
       "      <td>std</td>\n",
       "      <td>two</td>\n",
       "      <td>convertible</td>\n",
       "      <td>rwd</td>\n",
       "      <td>front</td>\n",
       "      <td>88.6</td>\n",
       "      <td>...</td>\n",
       "      <td>130</td>\n",
       "      <td>mpfi</td>\n",
       "      <td>3.47</td>\n",
       "      <td>2.68</td>\n",
       "      <td>9.0</td>\n",
       "      <td>111</td>\n",
       "      <td>5000</td>\n",
       "      <td>21</td>\n",
       "      <td>27</td>\n",
       "      <td>16500.0</td>\n",
       "    </tr>\n",
       "    <tr>\n",
       "      <th>2</th>\n",
       "      <td>3</td>\n",
       "      <td>1</td>\n",
       "      <td>alfa-romero</td>\n",
       "      <td>gas</td>\n",
       "      <td>std</td>\n",
       "      <td>two</td>\n",
       "      <td>hatchback</td>\n",
       "      <td>rwd</td>\n",
       "      <td>front</td>\n",
       "      <td>94.5</td>\n",
       "      <td>...</td>\n",
       "      <td>152</td>\n",
       "      <td>mpfi</td>\n",
       "      <td>2.68</td>\n",
       "      <td>3.47</td>\n",
       "      <td>9.0</td>\n",
       "      <td>154</td>\n",
       "      <td>5000</td>\n",
       "      <td>19</td>\n",
       "      <td>26</td>\n",
       "      <td>16500.0</td>\n",
       "    </tr>\n",
       "    <tr>\n",
       "      <th>3</th>\n",
       "      <td>4</td>\n",
       "      <td>2</td>\n",
       "      <td>audi</td>\n",
       "      <td>gas</td>\n",
       "      <td>std</td>\n",
       "      <td>four</td>\n",
       "      <td>sedan</td>\n",
       "      <td>fwd</td>\n",
       "      <td>front</td>\n",
       "      <td>99.8</td>\n",
       "      <td>...</td>\n",
       "      <td>109</td>\n",
       "      <td>mpfi</td>\n",
       "      <td>3.19</td>\n",
       "      <td>3.40</td>\n",
       "      <td>10.0</td>\n",
       "      <td>102</td>\n",
       "      <td>5500</td>\n",
       "      <td>24</td>\n",
       "      <td>30</td>\n",
       "      <td>13950.0</td>\n",
       "    </tr>\n",
       "    <tr>\n",
       "      <th>4</th>\n",
       "      <td>5</td>\n",
       "      <td>2</td>\n",
       "      <td>audi</td>\n",
       "      <td>gas</td>\n",
       "      <td>std</td>\n",
       "      <td>four</td>\n",
       "      <td>sedan</td>\n",
       "      <td>4wd</td>\n",
       "      <td>front</td>\n",
       "      <td>99.4</td>\n",
       "      <td>...</td>\n",
       "      <td>136</td>\n",
       "      <td>mpfi</td>\n",
       "      <td>3.19</td>\n",
       "      <td>3.40</td>\n",
       "      <td>8.0</td>\n",
       "      <td>115</td>\n",
       "      <td>5500</td>\n",
       "      <td>18</td>\n",
       "      <td>22</td>\n",
       "      <td>17450.0</td>\n",
       "    </tr>\n",
       "  </tbody>\n",
       "</table>\n",
       "<p>5 rows × 26 columns</p>\n",
       "</div>"
      ],
      "text/plain": [
       "   car_ID  symboling     CarBrand fueltype aspiration doornumber      carbody  \\\n",
       "0       1          3  alfa-romero      gas        std        two  convertible   \n",
       "1       2          3  alfa-romero      gas        std        two  convertible   \n",
       "2       3          1  alfa-romero      gas        std        two    hatchback   \n",
       "3       4          2         audi      gas        std       four        sedan   \n",
       "4       5          2         audi      gas        std       four        sedan   \n",
       "\n",
       "  drivewheel enginelocation  wheelbase  ...  enginesize  fuelsystem  \\\n",
       "0        rwd          front       88.6  ...         130        mpfi   \n",
       "1        rwd          front       88.6  ...         130        mpfi   \n",
       "2        rwd          front       94.5  ...         152        mpfi   \n",
       "3        fwd          front       99.8  ...         109        mpfi   \n",
       "4        4wd          front       99.4  ...         136        mpfi   \n",
       "\n",
       "   boreratio  stroke compressionratio horsepower  peakrpm citympg  highwaympg  \\\n",
       "0       3.47    2.68              9.0        111     5000      21          27   \n",
       "1       3.47    2.68              9.0        111     5000      21          27   \n",
       "2       2.68    3.47              9.0        154     5000      19          26   \n",
       "3       3.19    3.40             10.0        102     5500      24          30   \n",
       "4       3.19    3.40              8.0        115     5500      18          22   \n",
       "\n",
       "     price  \n",
       "0  13495.0  \n",
       "1  16500.0  \n",
       "2  16500.0  \n",
       "3  13950.0  \n",
       "4  17450.0  \n",
       "\n",
       "[5 rows x 26 columns]"
      ]
     },
     "execution_count": 3,
     "metadata": {},
     "output_type": "execute_result"
    }
   ],
   "source": [
    "#Let's just base it on the company name, not the car model, split the CarName column and transform it into CompanyName\n",
    "\n",
    "CarBrand = dfcars['CarName'].apply(lambda x : x.split(' ')[0])\n",
    "dfcars.insert(3,\"CarBrand\",CarBrand)\n",
    "dfcars.drop(['CarName'],axis=1,inplace=True)\n",
    "dfcars.head()"
   ]
  },
  {
   "cell_type": "code",
   "execution_count": 4,
   "metadata": {},
   "outputs": [
    {
     "data": {
      "text/plain": [
       "0    24.0\n",
       "1    24.0\n",
       "2    22.5\n",
       "3    27.0\n",
       "4    20.0\n",
       "Name: avgmpg, dtype: float64"
      ]
     },
     "execution_count": 4,
     "metadata": {},
     "output_type": "execute_result"
    }
   ],
   "source": [
    "# As mentioned in previous notebook, since citympg and highwaympg are so strongly correlated and when you think about it logically these 2 variables \n",
    "# are both related to the car's fuel economy and how many mpg the car can drive.\n",
    "    \n",
    "# I will combine these 2 variables into one by taking the adding the values and dividing by 2. \n",
    "# This will give a rough \"average mpg\".\n",
    "\n",
    "dfcars[\"avgmpg\"] = (dfcars[\"citympg\"]+dfcars[\"highwaympg\"])/2\n",
    "dfcars[\"avgmpg\"].head(5)"
   ]
  },
  {
   "cell_type": "code",
   "execution_count": 5,
   "metadata": {},
   "outputs": [
    {
     "data": {
      "text/plain": [
       "5572.0     2\n",
       "6692.0     2\n",
       "7957.0     2\n",
       "7898.0     2\n",
       "6229.0     2\n",
       "          ..\n",
       "6377.0     1\n",
       "30760.0    1\n",
       "16925.0    1\n",
       "15998.0    1\n",
       "18920.0    1\n",
       "Name: price, Length: 189, dtype: int64"
      ]
     },
     "execution_count": 5,
     "metadata": {},
     "output_type": "execute_result"
    }
   ],
   "source": [
    "df3=dfcars['price']\n",
    "df3.value_counts(ascending = False)"
   ]
  },
  {
   "cell_type": "code",
   "execution_count": 6,
   "metadata": {},
   "outputs": [],
   "source": [
    "# Let's deal with the price range per manufacturer, we will divide the car into 4 categories, Cheap, Affordable, Expensive and Luxury\n",
    "\n",
    "dfcars[\"CarBrand\"] = dfcars['price'].apply(lambda x : \"Cheap\" if x < 10000 \n",
    "                                                     else (\"Affordable\" if 10000 <= x < 15000\n",
    "                                                           else ('Expensive' if 15000 <= x < 25000 \n",
    "                                                           else (\"Luxury\"))))"
   ]
  },
  {
   "cell_type": "code",
   "execution_count": 7,
   "metadata": {},
   "outputs": [
    {
     "data": {
      "text/plain": [
       "pandas.core.series.Series"
      ]
     },
     "execution_count": 7,
     "metadata": {},
     "output_type": "execute_result"
    }
   ],
   "source": [
    "type(dfcars[\"symboling\"])"
   ]
  },
  {
   "cell_type": "code",
   "execution_count": 8,
   "metadata": {},
   "outputs": [],
   "source": [
    "#Symboling refers to the category of insurance, let's put it that way and divide it into cars assessed at high risk, low risk and no risk\n",
    "\n",
    "dfcars[\"symboling\"]=dfcars[\"symboling\"].apply(lambda x : \"No risk\" if x >= -3 & x <= -1\n",
    "                                         else (\"Low risk\" if x>=0 and x <= 1\n",
    "                                            else (\"High risk\")))"
   ]
  },
  {
   "cell_type": "code",
   "execution_count": 9,
   "metadata": {},
   "outputs": [],
   "source": [
    "# As the feature cylinder numer is essentially numerical, we will map it to the numerical values of its string meaning.\n",
    "dfcars['cylindernumber'] = dfcars['cylindernumber'].map({'two':2, 'three': 3,'four': 4, \n",
    "                                                             'five': 5,'six': 6,'eight': 8,'twelve':12})"
   ]
  },
  {
   "cell_type": "code",
   "execution_count": 10,
   "metadata": {},
   "outputs": [],
   "source": [
    "# Next we will use Label Encoder on some of our categorical features\n",
    "le = LabelEncoder()\n",
    "dfcars['fueltype'] = le.fit(dfcars['fueltype']).transform(dfcars['fueltype'])\n",
    "dfcars['aspiration'] = le.fit(dfcars['aspiration']).transform(dfcars['aspiration'])\n",
    "dfcars['doornumber'] = le.fit(dfcars['doornumber']).transform(dfcars['doornumber'])\n",
    "dfcars['enginelocation'] = le.fit(dfcars['enginelocation']).transform(dfcars['enginelocation'])"
   ]
  },
  {
   "cell_type": "code",
   "execution_count": 11,
   "metadata": {},
   "outputs": [
    {
     "data": {
      "text/html": [
       "<div>\n",
       "<style scoped>\n",
       "    .dataframe tbody tr th:only-of-type {\n",
       "        vertical-align: middle;\n",
       "    }\n",
       "\n",
       "    .dataframe tbody tr th {\n",
       "        vertical-align: top;\n",
       "    }\n",
       "\n",
       "    .dataframe thead th {\n",
       "        text-align: right;\n",
       "    }\n",
       "</style>\n",
       "<table border=\"1\" class=\"dataframe\">\n",
       "  <thead>\n",
       "    <tr style=\"text-align: right;\">\n",
       "      <th></th>\n",
       "      <th>car_ID</th>\n",
       "      <th>symboling</th>\n",
       "      <th>CarBrand</th>\n",
       "      <th>fueltype</th>\n",
       "      <th>aspiration</th>\n",
       "      <th>doornumber</th>\n",
       "      <th>carbody</th>\n",
       "      <th>drivewheel</th>\n",
       "      <th>enginelocation</th>\n",
       "      <th>wheelbase</th>\n",
       "      <th>...</th>\n",
       "      <th>fuelsystem</th>\n",
       "      <th>boreratio</th>\n",
       "      <th>stroke</th>\n",
       "      <th>compressionratio</th>\n",
       "      <th>horsepower</th>\n",
       "      <th>peakrpm</th>\n",
       "      <th>citympg</th>\n",
       "      <th>highwaympg</th>\n",
       "      <th>price</th>\n",
       "      <th>avgmpg</th>\n",
       "    </tr>\n",
       "  </thead>\n",
       "  <tbody>\n",
       "    <tr>\n",
       "      <th>0</th>\n",
       "      <td>1</td>\n",
       "      <td>High risk</td>\n",
       "      <td>Affordable</td>\n",
       "      <td>1</td>\n",
       "      <td>0</td>\n",
       "      <td>1</td>\n",
       "      <td>convertible</td>\n",
       "      <td>rwd</td>\n",
       "      <td>0</td>\n",
       "      <td>88.6</td>\n",
       "      <td>...</td>\n",
       "      <td>mpfi</td>\n",
       "      <td>3.47</td>\n",
       "      <td>2.68</td>\n",
       "      <td>9.0</td>\n",
       "      <td>111</td>\n",
       "      <td>5000</td>\n",
       "      <td>21</td>\n",
       "      <td>27</td>\n",
       "      <td>13495.0</td>\n",
       "      <td>24.0</td>\n",
       "    </tr>\n",
       "    <tr>\n",
       "      <th>1</th>\n",
       "      <td>2</td>\n",
       "      <td>High risk</td>\n",
       "      <td>Expensive</td>\n",
       "      <td>1</td>\n",
       "      <td>0</td>\n",
       "      <td>1</td>\n",
       "      <td>convertible</td>\n",
       "      <td>rwd</td>\n",
       "      <td>0</td>\n",
       "      <td>88.6</td>\n",
       "      <td>...</td>\n",
       "      <td>mpfi</td>\n",
       "      <td>3.47</td>\n",
       "      <td>2.68</td>\n",
       "      <td>9.0</td>\n",
       "      <td>111</td>\n",
       "      <td>5000</td>\n",
       "      <td>21</td>\n",
       "      <td>27</td>\n",
       "      <td>16500.0</td>\n",
       "      <td>24.0</td>\n",
       "    </tr>\n",
       "    <tr>\n",
       "      <th>2</th>\n",
       "      <td>3</td>\n",
       "      <td>Low risk</td>\n",
       "      <td>Expensive</td>\n",
       "      <td>1</td>\n",
       "      <td>0</td>\n",
       "      <td>1</td>\n",
       "      <td>hatchback</td>\n",
       "      <td>rwd</td>\n",
       "      <td>0</td>\n",
       "      <td>94.5</td>\n",
       "      <td>...</td>\n",
       "      <td>mpfi</td>\n",
       "      <td>2.68</td>\n",
       "      <td>3.47</td>\n",
       "      <td>9.0</td>\n",
       "      <td>154</td>\n",
       "      <td>5000</td>\n",
       "      <td>19</td>\n",
       "      <td>26</td>\n",
       "      <td>16500.0</td>\n",
       "      <td>22.5</td>\n",
       "    </tr>\n",
       "  </tbody>\n",
       "</table>\n",
       "<p>3 rows × 27 columns</p>\n",
       "</div>"
      ],
      "text/plain": [
       "   car_ID  symboling    CarBrand  fueltype  aspiration  doornumber  \\\n",
       "0       1  High risk  Affordable         1           0           1   \n",
       "1       2  High risk   Expensive         1           0           1   \n",
       "2       3   Low risk   Expensive         1           0           1   \n",
       "\n",
       "       carbody drivewheel  enginelocation  wheelbase  ...  fuelsystem  \\\n",
       "0  convertible        rwd               0       88.6  ...        mpfi   \n",
       "1  convertible        rwd               0       88.6  ...        mpfi   \n",
       "2    hatchback        rwd               0       94.5  ...        mpfi   \n",
       "\n",
       "   boreratio  stroke  compressionratio horsepower  peakrpm  citympg  \\\n",
       "0       3.47    2.68               9.0        111     5000       21   \n",
       "1       3.47    2.68               9.0        111     5000       21   \n",
       "2       2.68    3.47               9.0        154     5000       19   \n",
       "\n",
       "  highwaympg    price  avgmpg  \n",
       "0         27  13495.0    24.0  \n",
       "1         27  16500.0    24.0  \n",
       "2         26  16500.0    22.5  \n",
       "\n",
       "[3 rows x 27 columns]"
      ]
     },
     "execution_count": 11,
     "metadata": {},
     "output_type": "execute_result"
    }
   ],
   "source": [
    "# Let take a look of our data set, with all this changes\n",
    "dfcars.head(3)"
   ]
  },
  {
   "cell_type": "code",
   "execution_count": 12,
   "metadata": {},
   "outputs": [
    {
     "data": {
      "text/plain": [
       "Index(['car_ID', 'symboling', 'CarBrand', 'fueltype', 'aspiration',\n",
       "       'doornumber', 'carbody', 'drivewheel', 'enginelocation', 'wheelbase',\n",
       "       'carlength', 'carwidth', 'carheight', 'curbweight', 'enginetype',\n",
       "       'cylindernumber', 'enginesize', 'fuelsystem', 'boreratio', 'stroke',\n",
       "       'compressionratio', 'horsepower', 'peakrpm', 'citympg', 'highwaympg',\n",
       "       'price', 'avgmpg'],\n",
       "      dtype='object')"
      ]
     },
     "execution_count": 12,
     "metadata": {},
     "output_type": "execute_result"
    }
   ],
   "source": [
    "dfcars.columns"
   ]
  },
  {
   "cell_type": "code",
   "execution_count": 13,
   "metadata": {},
   "outputs": [
    {
     "data": {
      "text/html": [
       "<div>\n",
       "<style scoped>\n",
       "    .dataframe tbody tr th:only-of-type {\n",
       "        vertical-align: middle;\n",
       "    }\n",
       "\n",
       "    .dataframe tbody tr th {\n",
       "        vertical-align: top;\n",
       "    }\n",
       "\n",
       "    .dataframe thead th {\n",
       "        text-align: right;\n",
       "    }\n",
       "</style>\n",
       "<table border=\"1\" class=\"dataframe\">\n",
       "  <thead>\n",
       "    <tr style=\"text-align: right;\">\n",
       "      <th></th>\n",
       "      <th>symboling</th>\n",
       "      <th>CarBrand</th>\n",
       "      <th>fueltype</th>\n",
       "      <th>aspiration</th>\n",
       "      <th>carbody</th>\n",
       "      <th>drivewheel</th>\n",
       "      <th>wheelbase</th>\n",
       "      <th>carlength</th>\n",
       "      <th>carwidth</th>\n",
       "      <th>curbweight</th>\n",
       "      <th>enginetype</th>\n",
       "      <th>cylindernumber</th>\n",
       "      <th>enginesize</th>\n",
       "      <th>fuelsystem</th>\n",
       "      <th>boreratio</th>\n",
       "      <th>horsepower</th>\n",
       "      <th>avgmpg</th>\n",
       "      <th>price</th>\n",
       "    </tr>\n",
       "  </thead>\n",
       "  <tbody>\n",
       "    <tr>\n",
       "      <th>0</th>\n",
       "      <td>High risk</td>\n",
       "      <td>Affordable</td>\n",
       "      <td>1</td>\n",
       "      <td>0</td>\n",
       "      <td>convertible</td>\n",
       "      <td>rwd</td>\n",
       "      <td>88.6</td>\n",
       "      <td>168.8</td>\n",
       "      <td>64.1</td>\n",
       "      <td>2548</td>\n",
       "      <td>dohc</td>\n",
       "      <td>4</td>\n",
       "      <td>130</td>\n",
       "      <td>mpfi</td>\n",
       "      <td>3.47</td>\n",
       "      <td>111</td>\n",
       "      <td>24.0</td>\n",
       "      <td>13495.0</td>\n",
       "    </tr>\n",
       "    <tr>\n",
       "      <th>1</th>\n",
       "      <td>High risk</td>\n",
       "      <td>Expensive</td>\n",
       "      <td>1</td>\n",
       "      <td>0</td>\n",
       "      <td>convertible</td>\n",
       "      <td>rwd</td>\n",
       "      <td>88.6</td>\n",
       "      <td>168.8</td>\n",
       "      <td>64.1</td>\n",
       "      <td>2548</td>\n",
       "      <td>dohc</td>\n",
       "      <td>4</td>\n",
       "      <td>130</td>\n",
       "      <td>mpfi</td>\n",
       "      <td>3.47</td>\n",
       "      <td>111</td>\n",
       "      <td>24.0</td>\n",
       "      <td>16500.0</td>\n",
       "    </tr>\n",
       "    <tr>\n",
       "      <th>2</th>\n",
       "      <td>Low risk</td>\n",
       "      <td>Expensive</td>\n",
       "      <td>1</td>\n",
       "      <td>0</td>\n",
       "      <td>hatchback</td>\n",
       "      <td>rwd</td>\n",
       "      <td>94.5</td>\n",
       "      <td>171.2</td>\n",
       "      <td>65.5</td>\n",
       "      <td>2823</td>\n",
       "      <td>ohcv</td>\n",
       "      <td>6</td>\n",
       "      <td>152</td>\n",
       "      <td>mpfi</td>\n",
       "      <td>2.68</td>\n",
       "      <td>154</td>\n",
       "      <td>22.5</td>\n",
       "      <td>16500.0</td>\n",
       "    </tr>\n",
       "  </tbody>\n",
       "</table>\n",
       "</div>"
      ],
      "text/plain": [
       "   symboling    CarBrand  fueltype  aspiration      carbody drivewheel  \\\n",
       "0  High risk  Affordable         1           0  convertible        rwd   \n",
       "1  High risk   Expensive         1           0  convertible        rwd   \n",
       "2   Low risk   Expensive         1           0    hatchback        rwd   \n",
       "\n",
       "   wheelbase  carlength  carwidth  curbweight enginetype  cylindernumber  \\\n",
       "0       88.6      168.8      64.1        2548       dohc               4   \n",
       "1       88.6      168.8      64.1        2548       dohc               4   \n",
       "2       94.5      171.2      65.5        2823       ohcv               6   \n",
       "\n",
       "   enginesize fuelsystem  boreratio  horsepower  avgmpg    price  \n",
       "0         130       mpfi       3.47         111    24.0  13495.0  \n",
       "1         130       mpfi       3.47         111    24.0  16500.0  \n",
       "2         152       mpfi       2.68         154    22.5  16500.0  "
      ]
     },
     "execution_count": 13,
     "metadata": {},
     "output_type": "execute_result"
    }
   ],
   "source": [
    "# So, in this version, we will only use variables that show us a certain influence on the price, \n",
    "# therefore, we reject Car Id, height, degree of compression,peakrpm speed, stroke, number of doors, location of the engine, highwaympg and citympg since we have avgmpg\n",
    "\n",
    "df= dfcars[['symboling', 'CarBrand', 'fueltype', 'aspiration', 'carbody', 'drivewheel', 'wheelbase',\n",
    "       'carlength', 'carwidth', 'curbweight', 'enginetype',\n",
    "       'cylindernumber', 'enginesize', 'fuelsystem', 'boreratio', 'horsepower',\n",
    "       'avgmpg','price']]\n",
    "df.head(3)"
   ]
  },
  {
   "cell_type": "code",
   "execution_count": 14,
   "metadata": {},
   "outputs": [
    {
     "data": {
      "text/plain": [
       "(205, 18)"
      ]
     },
     "execution_count": 14,
     "metadata": {},
     "output_type": "execute_result"
    }
   ],
   "source": [
    "df.shape # Let us see shape of df"
   ]
  },
  {
   "cell_type": "code",
   "execution_count": 15,
   "metadata": {},
   "outputs": [
    {
     "data": {
      "text/html": [
       "<div>\n",
       "<style scoped>\n",
       "    .dataframe tbody tr th:only-of-type {\n",
       "        vertical-align: middle;\n",
       "    }\n",
       "\n",
       "    .dataframe tbody tr th {\n",
       "        vertical-align: top;\n",
       "    }\n",
       "\n",
       "    .dataframe thead th {\n",
       "        text-align: right;\n",
       "    }\n",
       "</style>\n",
       "<table border=\"1\" class=\"dataframe\">\n",
       "  <thead>\n",
       "    <tr style=\"text-align: right;\">\n",
       "      <th></th>\n",
       "      <th>fueltype</th>\n",
       "      <th>aspiration</th>\n",
       "      <th>wheelbase</th>\n",
       "      <th>carlength</th>\n",
       "      <th>carwidth</th>\n",
       "      <th>curbweight</th>\n",
       "      <th>cylindernumber</th>\n",
       "      <th>enginesize</th>\n",
       "      <th>boreratio</th>\n",
       "      <th>horsepower</th>\n",
       "      <th>avgmpg</th>\n",
       "      <th>price</th>\n",
       "    </tr>\n",
       "  </thead>\n",
       "  <tbody>\n",
       "    <tr>\n",
       "      <th>count</th>\n",
       "      <td>205.000000</td>\n",
       "      <td>205.000000</td>\n",
       "      <td>205.000000</td>\n",
       "      <td>205.000000</td>\n",
       "      <td>205.000000</td>\n",
       "      <td>205.000000</td>\n",
       "      <td>205.000000</td>\n",
       "      <td>205.000000</td>\n",
       "      <td>205.000000</td>\n",
       "      <td>205.000000</td>\n",
       "      <td>205.000000</td>\n",
       "      <td>205.000000</td>\n",
       "    </tr>\n",
       "    <tr>\n",
       "      <th>mean</th>\n",
       "      <td>0.902439</td>\n",
       "      <td>0.180488</td>\n",
       "      <td>98.756585</td>\n",
       "      <td>174.049268</td>\n",
       "      <td>65.907805</td>\n",
       "      <td>2555.565854</td>\n",
       "      <td>4.380488</td>\n",
       "      <td>126.907317</td>\n",
       "      <td>3.329756</td>\n",
       "      <td>104.117073</td>\n",
       "      <td>27.985366</td>\n",
       "      <td>13276.710571</td>\n",
       "    </tr>\n",
       "    <tr>\n",
       "      <th>std</th>\n",
       "      <td>0.297446</td>\n",
       "      <td>0.385535</td>\n",
       "      <td>6.021776</td>\n",
       "      <td>12.337289</td>\n",
       "      <td>2.145204</td>\n",
       "      <td>520.680204</td>\n",
       "      <td>1.080854</td>\n",
       "      <td>41.642693</td>\n",
       "      <td>0.270844</td>\n",
       "      <td>39.544167</td>\n",
       "      <td>6.666038</td>\n",
       "      <td>7988.852332</td>\n",
       "    </tr>\n",
       "    <tr>\n",
       "      <th>min</th>\n",
       "      <td>0.000000</td>\n",
       "      <td>0.000000</td>\n",
       "      <td>86.600000</td>\n",
       "      <td>141.100000</td>\n",
       "      <td>60.300000</td>\n",
       "      <td>1488.000000</td>\n",
       "      <td>2.000000</td>\n",
       "      <td>61.000000</td>\n",
       "      <td>2.540000</td>\n",
       "      <td>48.000000</td>\n",
       "      <td>15.000000</td>\n",
       "      <td>5118.000000</td>\n",
       "    </tr>\n",
       "    <tr>\n",
       "      <th>25%</th>\n",
       "      <td>1.000000</td>\n",
       "      <td>0.000000</td>\n",
       "      <td>94.500000</td>\n",
       "      <td>166.300000</td>\n",
       "      <td>64.100000</td>\n",
       "      <td>2145.000000</td>\n",
       "      <td>4.000000</td>\n",
       "      <td>97.000000</td>\n",
       "      <td>3.150000</td>\n",
       "      <td>70.000000</td>\n",
       "      <td>22.500000</td>\n",
       "      <td>7788.000000</td>\n",
       "    </tr>\n",
       "    <tr>\n",
       "      <th>50%</th>\n",
       "      <td>1.000000</td>\n",
       "      <td>0.000000</td>\n",
       "      <td>97.000000</td>\n",
       "      <td>173.200000</td>\n",
       "      <td>65.500000</td>\n",
       "      <td>2414.000000</td>\n",
       "      <td>4.000000</td>\n",
       "      <td>120.000000</td>\n",
       "      <td>3.310000</td>\n",
       "      <td>95.000000</td>\n",
       "      <td>27.000000</td>\n",
       "      <td>10295.000000</td>\n",
       "    </tr>\n",
       "    <tr>\n",
       "      <th>75%</th>\n",
       "      <td>1.000000</td>\n",
       "      <td>0.000000</td>\n",
       "      <td>102.400000</td>\n",
       "      <td>183.100000</td>\n",
       "      <td>66.900000</td>\n",
       "      <td>2935.000000</td>\n",
       "      <td>4.000000</td>\n",
       "      <td>141.000000</td>\n",
       "      <td>3.580000</td>\n",
       "      <td>116.000000</td>\n",
       "      <td>32.000000</td>\n",
       "      <td>16503.000000</td>\n",
       "    </tr>\n",
       "    <tr>\n",
       "      <th>max</th>\n",
       "      <td>1.000000</td>\n",
       "      <td>1.000000</td>\n",
       "      <td>120.900000</td>\n",
       "      <td>208.100000</td>\n",
       "      <td>72.300000</td>\n",
       "      <td>4066.000000</td>\n",
       "      <td>12.000000</td>\n",
       "      <td>326.000000</td>\n",
       "      <td>3.940000</td>\n",
       "      <td>288.000000</td>\n",
       "      <td>51.500000</td>\n",
       "      <td>45400.000000</td>\n",
       "    </tr>\n",
       "  </tbody>\n",
       "</table>\n",
       "</div>"
      ],
      "text/plain": [
       "         fueltype  aspiration   wheelbase   carlength    carwidth  \\\n",
       "count  205.000000  205.000000  205.000000  205.000000  205.000000   \n",
       "mean     0.902439    0.180488   98.756585  174.049268   65.907805   \n",
       "std      0.297446    0.385535    6.021776   12.337289    2.145204   \n",
       "min      0.000000    0.000000   86.600000  141.100000   60.300000   \n",
       "25%      1.000000    0.000000   94.500000  166.300000   64.100000   \n",
       "50%      1.000000    0.000000   97.000000  173.200000   65.500000   \n",
       "75%      1.000000    0.000000  102.400000  183.100000   66.900000   \n",
       "max      1.000000    1.000000  120.900000  208.100000   72.300000   \n",
       "\n",
       "        curbweight  cylindernumber  enginesize   boreratio  horsepower  \\\n",
       "count   205.000000      205.000000  205.000000  205.000000  205.000000   \n",
       "mean   2555.565854        4.380488  126.907317    3.329756  104.117073   \n",
       "std     520.680204        1.080854   41.642693    0.270844   39.544167   \n",
       "min    1488.000000        2.000000   61.000000    2.540000   48.000000   \n",
       "25%    2145.000000        4.000000   97.000000    3.150000   70.000000   \n",
       "50%    2414.000000        4.000000  120.000000    3.310000   95.000000   \n",
       "75%    2935.000000        4.000000  141.000000    3.580000  116.000000   \n",
       "max    4066.000000       12.000000  326.000000    3.940000  288.000000   \n",
       "\n",
       "           avgmpg         price  \n",
       "count  205.000000    205.000000  \n",
       "mean    27.985366  13276.710571  \n",
       "std      6.666038   7988.852332  \n",
       "min     15.000000   5118.000000  \n",
       "25%     22.500000   7788.000000  \n",
       "50%     27.000000  10295.000000  \n",
       "75%     32.000000  16503.000000  \n",
       "max     51.500000  45400.000000  "
      ]
     },
     "execution_count": 15,
     "metadata": {},
     "output_type": "execute_result"
    }
   ],
   "source": [
    "df.describe() # Describing our modified dataset"
   ]
  },
  {
   "cell_type": "code",
   "execution_count": 16,
   "metadata": {},
   "outputs": [
    {
     "data": {
      "text/plain": [
       "car_ID              0\n",
       "symboling           0\n",
       "CarBrand            0\n",
       "fueltype            0\n",
       "aspiration          0\n",
       "doornumber          0\n",
       "carbody             0\n",
       "drivewheel          0\n",
       "enginelocation      0\n",
       "wheelbase           0\n",
       "carlength           0\n",
       "carwidth            0\n",
       "carheight           0\n",
       "curbweight          0\n",
       "enginetype          0\n",
       "cylindernumber      0\n",
       "enginesize          0\n",
       "fuelsystem          0\n",
       "boreratio           0\n",
       "stroke              0\n",
       "compressionratio    0\n",
       "horsepower          0\n",
       "peakrpm             0\n",
       "citympg             0\n",
       "highwaympg          0\n",
       "price               0\n",
       "avgmpg              0\n",
       "dtype: int64"
      ]
     },
     "execution_count": 16,
     "metadata": {},
     "output_type": "execute_result"
    }
   ],
   "source": [
    "dfcars.isnull().sum() # Routine check for NAN values"
   ]
  },
  {
   "cell_type": "code",
   "execution_count": 17,
   "metadata": {},
   "outputs": [
    {
     "data": {
      "text/plain": [
       "(12.5, -0.5)"
      ]
     },
     "execution_count": 17,
     "metadata": {},
     "output_type": "execute_result"
    },
    {
     "data": {
      "image/png": "[encoded data removed]",
      "text/plain": [
       "<Figure size 1440x720 with 2 Axes>"
      ]
     },
     "metadata": {
      "needs_background": "light"
     },
     "output_type": "display_data"
    }
   ],
   "source": [
    "# correlation \n",
    "plt.figure(figsize=(20,10))\n",
    "ax = sns.heatmap(df.corr(), annot=True, cmap='mako_r',annot_kws={'size': 10},\n",
    "                linecolor='black', center=False,  linewidths=.5)\n",
    "bottom, top = ax.get_ylim()\n",
    "ax.set_ylim(bottom + 0.5, top - 0.5) "
   ]
  },
  {
   "cell_type": "markdown",
   "metadata": {},
   "source": [
    "Now our correlation matrix is balanced colored :)"
   ]
  },
  {
   "cell_type": "code",
   "execution_count": 18,
   "metadata": {},
   "outputs": [
    {
     "data": {
      "text/html": [
       "<div>\n",
       "<style scoped>\n",
       "    .dataframe tbody tr th:only-of-type {\n",
       "        vertical-align: middle;\n",
       "    }\n",
       "\n",
       "    .dataframe tbody tr th {\n",
       "        vertical-align: top;\n",
       "    }\n",
       "\n",
       "    .dataframe thead th {\n",
       "        text-align: right;\n",
       "    }\n",
       "</style>\n",
       "<table border=\"1\" class=\"dataframe\">\n",
       "  <thead>\n",
       "    <tr style=\"text-align: right;\">\n",
       "      <th></th>\n",
       "      <th>x0_Affordable</th>\n",
       "      <th>x0_Cheap</th>\n",
       "      <th>x0_Expensive</th>\n",
       "      <th>x0_Luxury</th>\n",
       "      <th>x1_convertible</th>\n",
       "      <th>x1_hardtop</th>\n",
       "      <th>x1_hatchback</th>\n",
       "      <th>x1_sedan</th>\n",
       "      <th>x1_wagon</th>\n",
       "      <th>x2_High risk</th>\n",
       "      <th>...</th>\n",
       "      <th>x4_ohcv</th>\n",
       "      <th>x4_rotor</th>\n",
       "      <th>x5_1bbl</th>\n",
       "      <th>x5_2bbl</th>\n",
       "      <th>x5_4bbl</th>\n",
       "      <th>x5_idi</th>\n",
       "      <th>x5_mfi</th>\n",
       "      <th>x5_mpfi</th>\n",
       "      <th>x5_spdi</th>\n",
       "      <th>x5_spfi</th>\n",
       "    </tr>\n",
       "  </thead>\n",
       "  <tbody>\n",
       "    <tr>\n",
       "      <th>0</th>\n",
       "      <td>1.0</td>\n",
       "      <td>0.0</td>\n",
       "      <td>0.0</td>\n",
       "      <td>0.0</td>\n",
       "      <td>0.0</td>\n",
       "      <td>0.0</td>\n",
       "      <td>0.0</td>\n",
       "      <td>0.0</td>\n",
       "      <td>0.0</td>\n",
       "      <td>0.0</td>\n",
       "      <td>...</td>\n",
       "      <td>0.0</td>\n",
       "      <td>0.0</td>\n",
       "      <td>0.0</td>\n",
       "      <td>0.0</td>\n",
       "      <td>0.0</td>\n",
       "      <td>0.0</td>\n",
       "      <td>0.0</td>\n",
       "      <td>1.0</td>\n",
       "      <td>0.0</td>\n",
       "      <td>0.0</td>\n",
       "    </tr>\n",
       "    <tr>\n",
       "      <th>1</th>\n",
       "      <td>0.0</td>\n",
       "      <td>0.0</td>\n",
       "      <td>1.0</td>\n",
       "      <td>0.0</td>\n",
       "      <td>0.0</td>\n",
       "      <td>0.0</td>\n",
       "      <td>0.0</td>\n",
       "      <td>0.0</td>\n",
       "      <td>0.0</td>\n",
       "      <td>0.0</td>\n",
       "      <td>...</td>\n",
       "      <td>0.0</td>\n",
       "      <td>0.0</td>\n",
       "      <td>0.0</td>\n",
       "      <td>0.0</td>\n",
       "      <td>0.0</td>\n",
       "      <td>0.0</td>\n",
       "      <td>0.0</td>\n",
       "      <td>1.0</td>\n",
       "      <td>0.0</td>\n",
       "      <td>0.0</td>\n",
       "    </tr>\n",
       "    <tr>\n",
       "      <th>2</th>\n",
       "      <td>0.0</td>\n",
       "      <td>0.0</td>\n",
       "      <td>1.0</td>\n",
       "      <td>0.0</td>\n",
       "      <td>0.0</td>\n",
       "      <td>0.0</td>\n",
       "      <td>0.0</td>\n",
       "      <td>0.0</td>\n",
       "      <td>0.0</td>\n",
       "      <td>0.0</td>\n",
       "      <td>...</td>\n",
       "      <td>1.0</td>\n",
       "      <td>0.0</td>\n",
       "      <td>0.0</td>\n",
       "      <td>0.0</td>\n",
       "      <td>0.0</td>\n",
       "      <td>0.0</td>\n",
       "      <td>0.0</td>\n",
       "      <td>1.0</td>\n",
       "      <td>0.0</td>\n",
       "      <td>0.0</td>\n",
       "    </tr>\n",
       "  </tbody>\n",
       "</table>\n",
       "<p>3 rows × 30 columns</p>\n",
       "</div>"
      ],
      "text/plain": [
       "   x0_Affordable  x0_Cheap  x0_Expensive  x0_Luxury  x1_convertible  \\\n",
       "0            1.0       0.0           0.0        0.0             0.0   \n",
       "1            0.0       0.0           1.0        0.0             0.0   \n",
       "2            0.0       0.0           1.0        0.0             0.0   \n",
       "\n",
       "   x1_hardtop  x1_hatchback  x1_sedan  x1_wagon  x2_High risk  ...  x4_ohcv  \\\n",
       "0         0.0           0.0       0.0       0.0           0.0  ...      0.0   \n",
       "1         0.0           0.0       0.0       0.0           0.0  ...      0.0   \n",
       "2         0.0           0.0       0.0       0.0           0.0  ...      1.0   \n",
       "\n",
       "   x4_rotor  x5_1bbl  x5_2bbl  x5_4bbl  x5_idi  x5_mfi  x5_mpfi  x5_spdi  \\\n",
       "0       0.0      0.0      0.0      0.0     0.0     0.0      1.0      0.0   \n",
       "1       0.0      0.0      0.0      0.0     0.0     0.0      1.0      0.0   \n",
       "2       0.0      0.0      0.0      0.0     0.0     0.0      1.0      0.0   \n",
       "\n",
       "   x5_spfi  \n",
       "0      0.0  \n",
       "1      0.0  \n",
       "2      0.0  \n",
       "\n",
       "[3 rows x 30 columns]"
      ]
     },
     "execution_count": 18,
     "metadata": {},
     "output_type": "execute_result"
    }
   ],
   "source": [
    "# Transform categorical features using OneHotEncoder\n",
    "\n",
    "from sklearn.preprocessing import OneHotEncoder\n",
    "\n",
    "ohe = OneHotEncoder(handle_unknown= 'ignore')\n",
    "ohe.fit(df.loc[:, ['CarBrand','carbody','symboling','drivewheel','enginetype','fuelsystem']])\n",
    "\n",
    "df_enc = pd.DataFrame(ohe.transform(df.loc[:, ['CarBrand','symboling','carbody','drivewheel','enginetype','fuelsystem']]).toarray(), columns=ohe.get_feature_names())\n",
    "df_enc.head(3)"
   ]
  },
  {
   "cell_type": "code",
   "execution_count": 19,
   "metadata": {},
   "outputs": [
    {
     "data": {
      "text/html": [
       "<div>\n",
       "<style scoped>\n",
       "    .dataframe tbody tr th:only-of-type {\n",
       "        vertical-align: middle;\n",
       "    }\n",
       "\n",
       "    .dataframe tbody tr th {\n",
       "        vertical-align: top;\n",
       "    }\n",
       "\n",
       "    .dataframe thead th {\n",
       "        text-align: right;\n",
       "    }\n",
       "</style>\n",
       "<table border=\"1\" class=\"dataframe\">\n",
       "  <thead>\n",
       "    <tr style=\"text-align: right;\">\n",
       "      <th></th>\n",
       "      <th>fueltype</th>\n",
       "      <th>aspiration</th>\n",
       "      <th>wheelbase</th>\n",
       "      <th>carlength</th>\n",
       "      <th>carwidth</th>\n",
       "      <th>curbweight</th>\n",
       "      <th>cylindernumber</th>\n",
       "      <th>enginesize</th>\n",
       "      <th>boreratio</th>\n",
       "      <th>horsepower</th>\n",
       "      <th>...</th>\n",
       "      <th>x4_ohcv</th>\n",
       "      <th>x4_rotor</th>\n",
       "      <th>x5_1bbl</th>\n",
       "      <th>x5_2bbl</th>\n",
       "      <th>x5_4bbl</th>\n",
       "      <th>x5_idi</th>\n",
       "      <th>x5_mfi</th>\n",
       "      <th>x5_mpfi</th>\n",
       "      <th>x5_spdi</th>\n",
       "      <th>x5_spfi</th>\n",
       "    </tr>\n",
       "  </thead>\n",
       "  <tbody>\n",
       "    <tr>\n",
       "      <th>0</th>\n",
       "      <td>1</td>\n",
       "      <td>0</td>\n",
       "      <td>88.6</td>\n",
       "      <td>168.8</td>\n",
       "      <td>64.1</td>\n",
       "      <td>2548</td>\n",
       "      <td>4</td>\n",
       "      <td>130</td>\n",
       "      <td>3.47</td>\n",
       "      <td>111</td>\n",
       "      <td>...</td>\n",
       "      <td>0.0</td>\n",
       "      <td>0.0</td>\n",
       "      <td>0.0</td>\n",
       "      <td>0.0</td>\n",
       "      <td>0.0</td>\n",
       "      <td>0.0</td>\n",
       "      <td>0.0</td>\n",
       "      <td>1.0</td>\n",
       "      <td>0.0</td>\n",
       "      <td>0.0</td>\n",
       "    </tr>\n",
       "    <tr>\n",
       "      <th>1</th>\n",
       "      <td>1</td>\n",
       "      <td>0</td>\n",
       "      <td>88.6</td>\n",
       "      <td>168.8</td>\n",
       "      <td>64.1</td>\n",
       "      <td>2548</td>\n",
       "      <td>4</td>\n",
       "      <td>130</td>\n",
       "      <td>3.47</td>\n",
       "      <td>111</td>\n",
       "      <td>...</td>\n",
       "      <td>0.0</td>\n",
       "      <td>0.0</td>\n",
       "      <td>0.0</td>\n",
       "      <td>0.0</td>\n",
       "      <td>0.0</td>\n",
       "      <td>0.0</td>\n",
       "      <td>0.0</td>\n",
       "      <td>1.0</td>\n",
       "      <td>0.0</td>\n",
       "      <td>0.0</td>\n",
       "    </tr>\n",
       "    <tr>\n",
       "      <th>2</th>\n",
       "      <td>1</td>\n",
       "      <td>0</td>\n",
       "      <td>94.5</td>\n",
       "      <td>171.2</td>\n",
       "      <td>65.5</td>\n",
       "      <td>2823</td>\n",
       "      <td>6</td>\n",
       "      <td>152</td>\n",
       "      <td>2.68</td>\n",
       "      <td>154</td>\n",
       "      <td>...</td>\n",
       "      <td>1.0</td>\n",
       "      <td>0.0</td>\n",
       "      <td>0.0</td>\n",
       "      <td>0.0</td>\n",
       "      <td>0.0</td>\n",
       "      <td>0.0</td>\n",
       "      <td>0.0</td>\n",
       "      <td>1.0</td>\n",
       "      <td>0.0</td>\n",
       "      <td>0.0</td>\n",
       "    </tr>\n",
       "  </tbody>\n",
       "</table>\n",
       "<p>3 rows × 42 columns</p>\n",
       "</div>"
      ],
      "text/plain": [
       "   fueltype  aspiration  wheelbase  carlength  carwidth  curbweight  \\\n",
       "0         1           0       88.6      168.8      64.1        2548   \n",
       "1         1           0       88.6      168.8      64.1        2548   \n",
       "2         1           0       94.5      171.2      65.5        2823   \n",
       "\n",
       "   cylindernumber  enginesize  boreratio  horsepower  ...  x4_ohcv  x4_rotor  \\\n",
       "0               4         130       3.47         111  ...      0.0       0.0   \n",
       "1               4         130       3.47         111  ...      0.0       0.0   \n",
       "2               6         152       2.68         154  ...      1.0       0.0   \n",
       "\n",
       "   x5_1bbl  x5_2bbl  x5_4bbl  x5_idi  x5_mfi  x5_mpfi  x5_spdi  x5_spfi  \n",
       "0      0.0      0.0      0.0     0.0     0.0      1.0      0.0      0.0  \n",
       "1      0.0      0.0      0.0     0.0     0.0      1.0      0.0      0.0  \n",
       "2      0.0      0.0      0.0     0.0     0.0      1.0      0.0      0.0  \n",
       "\n",
       "[3 rows x 42 columns]"
      ]
     },
     "execution_count": 19,
     "metadata": {},
     "output_type": "execute_result"
    }
   ],
   "source": [
    "#Let's merge those two dataset and drop all features on which we applied OHE, we will get our ML data frame\n",
    "\n",
    "df_ml2=pd.concat([df.drop(['CarBrand','symboling','carbody','drivewheel','enginetype','fuelsystem'], axis=1),df_enc], axis=1)\n",
    "df_ml2.head(3)"
   ]
  },
  {
   "cell_type": "code",
   "execution_count": 20,
   "metadata": {},
   "outputs": [
    {
     "data": {
      "text/html": [
       "<div>\n",
       "<style scoped>\n",
       "    .dataframe tbody tr th:only-of-type {\n",
       "        vertical-align: middle;\n",
       "    }\n",
       "\n",
       "    .dataframe tbody tr th {\n",
       "        vertical-align: top;\n",
       "    }\n",
       "\n",
       "    .dataframe thead th {\n",
       "        text-align: right;\n",
       "    }\n",
       "</style>\n",
       "<table border=\"1\" class=\"dataframe\">\n",
       "  <thead>\n",
       "    <tr style=\"text-align: right;\">\n",
       "      <th></th>\n",
       "      <th>fueltype</th>\n",
       "      <th>aspiration</th>\n",
       "      <th>wheelbase</th>\n",
       "      <th>carlength</th>\n",
       "      <th>carwidth</th>\n",
       "      <th>curbweight</th>\n",
       "      <th>cylindernumber</th>\n",
       "      <th>enginesize</th>\n",
       "      <th>boreratio</th>\n",
       "      <th>horsepower</th>\n",
       "      <th>...</th>\n",
       "      <th>x4_ohcv</th>\n",
       "      <th>x4_rotor</th>\n",
       "      <th>x5_1bbl</th>\n",
       "      <th>x5_2bbl</th>\n",
       "      <th>x5_4bbl</th>\n",
       "      <th>x5_idi</th>\n",
       "      <th>x5_mfi</th>\n",
       "      <th>x5_mpfi</th>\n",
       "      <th>x5_spdi</th>\n",
       "      <th>x5_spfi</th>\n",
       "    </tr>\n",
       "  </thead>\n",
       "  <tbody>\n",
       "    <tr>\n",
       "      <th>0</th>\n",
       "      <td>1</td>\n",
       "      <td>0</td>\n",
       "      <td>88.6</td>\n",
       "      <td>168.8</td>\n",
       "      <td>64.1</td>\n",
       "      <td>2548</td>\n",
       "      <td>4</td>\n",
       "      <td>130</td>\n",
       "      <td>3.47</td>\n",
       "      <td>111</td>\n",
       "      <td>...</td>\n",
       "      <td>0.0</td>\n",
       "      <td>0.0</td>\n",
       "      <td>0.0</td>\n",
       "      <td>0.0</td>\n",
       "      <td>0.0</td>\n",
       "      <td>0.0</td>\n",
       "      <td>0.0</td>\n",
       "      <td>1.0</td>\n",
       "      <td>0.0</td>\n",
       "      <td>0.0</td>\n",
       "    </tr>\n",
       "    <tr>\n",
       "      <th>1</th>\n",
       "      <td>1</td>\n",
       "      <td>0</td>\n",
       "      <td>88.6</td>\n",
       "      <td>168.8</td>\n",
       "      <td>64.1</td>\n",
       "      <td>2548</td>\n",
       "      <td>4</td>\n",
       "      <td>130</td>\n",
       "      <td>3.47</td>\n",
       "      <td>111</td>\n",
       "      <td>...</td>\n",
       "      <td>0.0</td>\n",
       "      <td>0.0</td>\n",
       "      <td>0.0</td>\n",
       "      <td>0.0</td>\n",
       "      <td>0.0</td>\n",
       "      <td>0.0</td>\n",
       "      <td>0.0</td>\n",
       "      <td>1.0</td>\n",
       "      <td>0.0</td>\n",
       "      <td>0.0</td>\n",
       "    </tr>\n",
       "    <tr>\n",
       "      <th>2</th>\n",
       "      <td>1</td>\n",
       "      <td>0</td>\n",
       "      <td>94.5</td>\n",
       "      <td>171.2</td>\n",
       "      <td>65.5</td>\n",
       "      <td>2823</td>\n",
       "      <td>6</td>\n",
       "      <td>152</td>\n",
       "      <td>2.68</td>\n",
       "      <td>154</td>\n",
       "      <td>...</td>\n",
       "      <td>1.0</td>\n",
       "      <td>0.0</td>\n",
       "      <td>0.0</td>\n",
       "      <td>0.0</td>\n",
       "      <td>0.0</td>\n",
       "      <td>0.0</td>\n",
       "      <td>0.0</td>\n",
       "      <td>1.0</td>\n",
       "      <td>0.0</td>\n",
       "      <td>0.0</td>\n",
       "    </tr>\n",
       "  </tbody>\n",
       "</table>\n",
       "<p>3 rows × 41 columns</p>\n",
       "</div>"
      ],
      "text/plain": [
       "   fueltype  aspiration  wheelbase  carlength  carwidth  curbweight  \\\n",
       "0         1           0       88.6      168.8      64.1        2548   \n",
       "1         1           0       88.6      168.8      64.1        2548   \n",
       "2         1           0       94.5      171.2      65.5        2823   \n",
       "\n",
       "   cylindernumber  enginesize  boreratio  horsepower  ...  x4_ohcv  x4_rotor  \\\n",
       "0               4         130       3.47         111  ...      0.0       0.0   \n",
       "1               4         130       3.47         111  ...      0.0       0.0   \n",
       "2               6         152       2.68         154  ...      1.0       0.0   \n",
       "\n",
       "   x5_1bbl  x5_2bbl  x5_4bbl  x5_idi  x5_mfi  x5_mpfi  x5_spdi  x5_spfi  \n",
       "0      0.0      0.0      0.0     0.0     0.0      1.0      0.0      0.0  \n",
       "1      0.0      0.0      0.0     0.0     0.0      1.0      0.0      0.0  \n",
       "2      0.0      0.0      0.0     0.0     0.0      1.0      0.0      0.0  \n",
       "\n",
       "[3 rows x 41 columns]"
      ]
     },
     "metadata": {},
     "output_type": "display_data"
    },
    {
     "data": {
      "text/plain": [
       "0      13495.0\n",
       "1      16500.0\n",
       "2      16500.0\n",
       "3      13950.0\n",
       "4      17450.0\n",
       "        ...   \n",
       "200    16845.0\n",
       "201    19045.0\n",
       "202    21485.0\n",
       "203    22470.0\n",
       "204    22625.0\n",
       "Name: price, Length: 205, dtype: float64"
      ]
     },
     "metadata": {},
     "output_type": "display_data"
    }
   ],
   "source": [
    "# We divide the data set into X and y, y contain only dependent feature, and X contain all independent features\n",
    "X = df_ml2.drop(['price'], axis=1)\n",
    "y = df_ml2['price']\n",
    "# Show me X, show me y\n",
    "display(X.head(3))\n",
    "display(y)"
   ]
  },
  {
   "cell_type": "code",
   "execution_count": 21,
   "metadata": {},
   "outputs": [],
   "source": [
    "# Split independent and target variable on train and test dataset\n",
    "from sklearn.model_selection import train_test_split\n",
    "X_train, X_test, y_train, y_test =  train_test_split(X, y, test_size=0.1, random_state=0)"
   ]
  },
  {
   "cell_type": "code",
   "execution_count": 22,
   "metadata": {},
   "outputs": [
    {
     "name": "stdout",
     "output_type": "stream",
     "text": [
      "X_train shape: (184, 41)\n",
      "y_train shape: (184,)\n",
      "X_test shape: (21, 41)\n",
      "y_test shape: (21,)\n"
     ]
    }
   ],
   "source": [
    "# Let us see the ratio between the divided training and test set\n",
    "print(f\"X_train shape: {X_train.shape}\")\n",
    "print(f\"y_train shape: {y_train.shape}\")\n",
    "print(f\"X_test shape: {X_test.shape}\")\n",
    "print(f\"y_test shape: {y_test.shape}\")"
   ]
  },
  {
   "cell_type": "code",
   "execution_count": 23,
   "metadata": {},
   "outputs": [
    {
     "data": {
      "text/html": [
       "<div>\n",
       "<style scoped>\n",
       "    .dataframe tbody tr th:only-of-type {\n",
       "        vertical-align: middle;\n",
       "    }\n",
       "\n",
       "    .dataframe tbody tr th {\n",
       "        vertical-align: top;\n",
       "    }\n",
       "\n",
       "    .dataframe thead th {\n",
       "        text-align: right;\n",
       "    }\n",
       "</style>\n",
       "<table border=\"1\" class=\"dataframe\">\n",
       "  <thead>\n",
       "    <tr style=\"text-align: right;\">\n",
       "      <th></th>\n",
       "      <th>fueltype</th>\n",
       "      <th>aspiration</th>\n",
       "      <th>wheelbase</th>\n",
       "      <th>carlength</th>\n",
       "      <th>carwidth</th>\n",
       "      <th>curbweight</th>\n",
       "      <th>cylindernumber</th>\n",
       "      <th>enginesize</th>\n",
       "      <th>boreratio</th>\n",
       "      <th>horsepower</th>\n",
       "      <th>...</th>\n",
       "      <th>x4_ohcv</th>\n",
       "      <th>x4_rotor</th>\n",
       "      <th>x5_1bbl</th>\n",
       "      <th>x5_2bbl</th>\n",
       "      <th>x5_4bbl</th>\n",
       "      <th>x5_idi</th>\n",
       "      <th>x5_mfi</th>\n",
       "      <th>x5_mpfi</th>\n",
       "      <th>x5_spdi</th>\n",
       "      <th>x5_spfi</th>\n",
       "    </tr>\n",
       "  </thead>\n",
       "  <tbody>\n",
       "    <tr>\n",
       "      <th>0</th>\n",
       "      <td>1.0</td>\n",
       "      <td>0.0</td>\n",
       "      <td>0.620991</td>\n",
       "      <td>0.662992</td>\n",
       "      <td>0.647059</td>\n",
       "      <td>0.578836</td>\n",
       "      <td>0.2</td>\n",
       "      <td>0.195312</td>\n",
       "      <td>0.657143</td>\n",
       "      <td>0.204762</td>\n",
       "      <td>...</td>\n",
       "      <td>0.0</td>\n",
       "      <td>0.0</td>\n",
       "      <td>0.0</td>\n",
       "      <td>0.0</td>\n",
       "      <td>0.0</td>\n",
       "      <td>0.0</td>\n",
       "      <td>0.0</td>\n",
       "      <td>1.0</td>\n",
       "      <td>0.0</td>\n",
       "      <td>0.0</td>\n",
       "    </tr>\n",
       "    <tr>\n",
       "      <th>1</th>\n",
       "      <td>1.0</td>\n",
       "      <td>0.0</td>\n",
       "      <td>0.276968</td>\n",
       "      <td>0.507087</td>\n",
       "      <td>0.470588</td>\n",
       "      <td>0.317467</td>\n",
       "      <td>0.2</td>\n",
       "      <td>0.242188</td>\n",
       "      <td>0.657143</td>\n",
       "      <td>0.180952</td>\n",
       "      <td>...</td>\n",
       "      <td>0.0</td>\n",
       "      <td>0.0</td>\n",
       "      <td>0.0</td>\n",
       "      <td>0.0</td>\n",
       "      <td>0.0</td>\n",
       "      <td>0.0</td>\n",
       "      <td>0.0</td>\n",
       "      <td>1.0</td>\n",
       "      <td>0.0</td>\n",
       "      <td>0.0</td>\n",
       "    </tr>\n",
       "    <tr>\n",
       "      <th>2</th>\n",
       "      <td>1.0</td>\n",
       "      <td>0.0</td>\n",
       "      <td>0.344023</td>\n",
       "      <td>0.497638</td>\n",
       "      <td>0.372549</td>\n",
       "      <td>0.425414</td>\n",
       "      <td>0.2</td>\n",
       "      <td>0.296875</td>\n",
       "      <td>0.771429</td>\n",
       "      <td>0.304762</td>\n",
       "      <td>...</td>\n",
       "      <td>0.0</td>\n",
       "      <td>0.0</td>\n",
       "      <td>0.0</td>\n",
       "      <td>0.0</td>\n",
       "      <td>0.0</td>\n",
       "      <td>0.0</td>\n",
       "      <td>0.0</td>\n",
       "      <td>1.0</td>\n",
       "      <td>0.0</td>\n",
       "      <td>0.0</td>\n",
       "    </tr>\n",
       "  </tbody>\n",
       "</table>\n",
       "<p>3 rows × 41 columns</p>\n",
       "</div>"
      ],
      "text/plain": [
       "   fueltype  aspiration  wheelbase  carlength  carwidth  curbweight  \\\n",
       "0       1.0         0.0   0.620991   0.662992  0.647059    0.578836   \n",
       "1       1.0         0.0   0.276968   0.507087  0.470588    0.317467   \n",
       "2       1.0         0.0   0.344023   0.497638  0.372549    0.425414   \n",
       "\n",
       "   cylindernumber  enginesize  boreratio  horsepower  ...  x4_ohcv  x4_rotor  \\\n",
       "0             0.2    0.195312   0.657143    0.204762  ...      0.0       0.0   \n",
       "1             0.2    0.242188   0.657143    0.180952  ...      0.0       0.0   \n",
       "2             0.2    0.296875   0.771429    0.304762  ...      0.0       0.0   \n",
       "\n",
       "   x5_1bbl  x5_2bbl  x5_4bbl  x5_idi  x5_mfi  x5_mpfi  x5_spdi  x5_spfi  \n",
       "0      0.0      0.0      0.0     0.0     0.0      1.0      0.0      0.0  \n",
       "1      0.0      0.0      0.0     0.0     0.0      1.0      0.0      0.0  \n",
       "2      0.0      0.0      0.0     0.0     0.0      1.0      0.0      0.0  \n",
       "\n",
       "[3 rows x 41 columns]"
      ]
     },
     "execution_count": 23,
     "metadata": {},
     "output_type": "execute_result"
    }
   ],
   "source": [
    "# We will normalize data just in case, we'll try our data without any transformation, then normalized and standardized\n",
    "# So let's normalize the data and leave it here for now\n",
    "\n",
    "from sklearn.preprocessing import MinMaxScaler\n",
    "\n",
    "# fit scaler on training data\n",
    "norm = MinMaxScaler()\n",
    "\n",
    "# transform training data\n",
    "X_train_norm = norm.fit_transform(X_train)\n",
    "\n",
    "# transform testing data\n",
    "X_test_norm = norm.transform(X_test)\n",
    "col_names = list(X.columns)\n",
    "# Let's take a peek of norm data\n",
    "df_norm = pd.DataFrame(data = X_train_norm, columns = col_names)\n",
    "df_norm.head(3)"
   ]
  },
  {
   "cell_type": "code",
   "execution_count": 24,
   "metadata": {},
   "outputs": [
    {
     "data": {
      "text/html": [
       "<div>\n",
       "<style scoped>\n",
       "    .dataframe tbody tr th:only-of-type {\n",
       "        vertical-align: middle;\n",
       "    }\n",
       "\n",
       "    .dataframe tbody tr th {\n",
       "        vertical-align: top;\n",
       "    }\n",
       "\n",
       "    .dataframe thead th {\n",
       "        text-align: right;\n",
       "    }\n",
       "</style>\n",
       "<table border=\"1\" class=\"dataframe\">\n",
       "  <thead>\n",
       "    <tr style=\"text-align: right;\">\n",
       "      <th></th>\n",
       "      <th>fueltype</th>\n",
       "      <th>aspiration</th>\n",
       "      <th>wheelbase</th>\n",
       "      <th>carlength</th>\n",
       "      <th>carwidth</th>\n",
       "      <th>curbweight</th>\n",
       "      <th>cylindernumber</th>\n",
       "      <th>enginesize</th>\n",
       "      <th>boreratio</th>\n",
       "      <th>horsepower</th>\n",
       "      <th>...</th>\n",
       "      <th>x4_ohcv</th>\n",
       "      <th>x4_rotor</th>\n",
       "      <th>x5_1bbl</th>\n",
       "      <th>x5_2bbl</th>\n",
       "      <th>x5_4bbl</th>\n",
       "      <th>x5_idi</th>\n",
       "      <th>x5_mfi</th>\n",
       "      <th>x5_mpfi</th>\n",
       "      <th>x5_spdi</th>\n",
       "      <th>x5_spfi</th>\n",
       "    </tr>\n",
       "  </thead>\n",
       "  <tbody>\n",
       "    <tr>\n",
       "      <th>0</th>\n",
       "      <td>0.33934</td>\n",
       "      <td>-0.493197</td>\n",
       "      <td>1.457095</td>\n",
       "      <td>0.993073</td>\n",
       "      <td>1.177703</td>\n",
       "      <td>0.964918</td>\n",
       "      <td>-0.353447</td>\n",
       "      <td>-0.179363</td>\n",
       "      <td>0.448346</td>\n",
       "      <td>-0.238534</td>\n",
       "      <td>...</td>\n",
       "      <td>-0.264135</td>\n",
       "      <td>-0.128742</td>\n",
       "      <td>-0.226779</td>\n",
       "      <td>-0.695608</td>\n",
       "      <td>-0.104828</td>\n",
       "      <td>-0.33934</td>\n",
       "      <td>-0.073922</td>\n",
       "      <td>1.091089</td>\n",
       "      <td>-0.213201</td>\n",
       "      <td>-0.073922</td>\n",
       "    </tr>\n",
       "    <tr>\n",
       "      <th>1</th>\n",
       "      <td>0.33934</td>\n",
       "      <td>-0.493197</td>\n",
       "      <td>-0.463175</td>\n",
       "      <td>0.183902</td>\n",
       "      <td>0.316654</td>\n",
       "      <td>-0.210079</td>\n",
       "      <td>-0.353447</td>\n",
       "      <td>0.105964</td>\n",
       "      <td>0.448346</td>\n",
       "      <td>-0.370099</td>\n",
       "      <td>...</td>\n",
       "      <td>-0.264135</td>\n",
       "      <td>-0.128742</td>\n",
       "      <td>-0.226779</td>\n",
       "      <td>-0.695608</td>\n",
       "      <td>-0.104828</td>\n",
       "      <td>-0.33934</td>\n",
       "      <td>-0.073922</td>\n",
       "      <td>1.091089</td>\n",
       "      <td>-0.213201</td>\n",
       "      <td>-0.073922</td>\n",
       "    </tr>\n",
       "    <tr>\n",
       "      <th>2</th>\n",
       "      <td>0.33934</td>\n",
       "      <td>-0.493197</td>\n",
       "      <td>-0.088885</td>\n",
       "      <td>0.134862</td>\n",
       "      <td>-0.161707</td>\n",
       "      <td>0.275204</td>\n",
       "      <td>-0.353447</td>\n",
       "      <td>0.438844</td>\n",
       "      <td>1.040510</td>\n",
       "      <td>0.314041</td>\n",
       "      <td>...</td>\n",
       "      <td>-0.264135</td>\n",
       "      <td>-0.128742</td>\n",
       "      <td>-0.226779</td>\n",
       "      <td>-0.695608</td>\n",
       "      <td>-0.104828</td>\n",
       "      <td>-0.33934</td>\n",
       "      <td>-0.073922</td>\n",
       "      <td>1.091089</td>\n",
       "      <td>-0.213201</td>\n",
       "      <td>-0.073922</td>\n",
       "    </tr>\n",
       "  </tbody>\n",
       "</table>\n",
       "<p>3 rows × 41 columns</p>\n",
       "</div>"
      ],
      "text/plain": [
       "   fueltype  aspiration  wheelbase  carlength  carwidth  curbweight  \\\n",
       "0   0.33934   -0.493197   1.457095   0.993073  1.177703    0.964918   \n",
       "1   0.33934   -0.493197  -0.463175   0.183902  0.316654   -0.210079   \n",
       "2   0.33934   -0.493197  -0.088885   0.134862 -0.161707    0.275204   \n",
       "\n",
       "   cylindernumber  enginesize  boreratio  horsepower  ...   x4_ohcv  x4_rotor  \\\n",
       "0       -0.353447   -0.179363   0.448346   -0.238534  ... -0.264135 -0.128742   \n",
       "1       -0.353447    0.105964   0.448346   -0.370099  ... -0.264135 -0.128742   \n",
       "2       -0.353447    0.438844   1.040510    0.314041  ... -0.264135 -0.128742   \n",
       "\n",
       "    x5_1bbl   x5_2bbl   x5_4bbl   x5_idi    x5_mfi   x5_mpfi   x5_spdi  \\\n",
       "0 -0.226779 -0.695608 -0.104828 -0.33934 -0.073922  1.091089 -0.213201   \n",
       "1 -0.226779 -0.695608 -0.104828 -0.33934 -0.073922  1.091089 -0.213201   \n",
       "2 -0.226779 -0.695608 -0.104828 -0.33934 -0.073922  1.091089 -0.213201   \n",
       "\n",
       "    x5_spfi  \n",
       "0 -0.073922  \n",
       "1 -0.073922  \n",
       "2 -0.073922  \n",
       "\n",
       "[3 rows x 41 columns]"
      ]
     },
     "execution_count": 24,
     "metadata": {},
     "output_type": "execute_result"
    }
   ],
   "source": [
    "# Second we will standardize data, same case as with normilization\n",
    "from sklearn.preprocessing import StandardScaler\n",
    "\n",
    "stdsc = StandardScaler()\n",
    "X_train_std = stdsc.fit_transform(X_train)\n",
    "X_test_std = stdsc.transform(X_test)\n",
    "col_names = list(X.columns)\n",
    "df_std = pd.DataFrame(data = X_train_std, columns = col_names)\n",
    "df_std.head(3)"
   ]
  },
  {
   "cell_type": "code",
   "execution_count": 25,
   "metadata": {},
   "outputs": [],
   "source": [
    "# Import metrics aka mean_squere_error, mean_absolute_error and R2 score\n",
    "\n",
    "from sklearn import metrics\n",
    "from sklearn.metrics import mean_absolute_error\n",
    "from sklearn.metrics import mean_squared_error\n",
    "from sklearn.metrics import r2_score"
   ]
  },
  {
   "cell_type": "code",
   "execution_count": 26,
   "metadata": {},
   "outputs": [],
   "source": [
    "# Create a dictionary for each error where you will save the results\n",
    "MSE = {}\n",
    "MAE = {}\n",
    "RMSE={}\n",
    "R2={}"
   ]
  },
  {
   "cell_type": "code",
   "execution_count": 27,
   "metadata": {},
   "outputs": [],
   "source": [
    "# Create a funcion to iterate trough model\n",
    "\n",
    "def models(model, X_train, y_train, X_test, y_test, model_name):\n",
    "    reg = model\n",
    "    reg.fit(X_train, y_train)\n",
    "    y_pred = reg.predict(X_test)\n",
    "    MSE[model_name] = mean_squared_error(y_test, y_pred)\n",
    "    print(f\"Mean_squared_error of {model_name}: {MSE[model_name]}\\n\")\n",
    "    RMSE[model_name]=np.sqrt(metrics.mean_squared_error(y_test, y_pred))\n",
    "    print(f'RMSE of {model_name}: {RMSE[model_name]}\\n')\n",
    "    MAE[model_name]=mean_absolute_error(y_test,y_pred)              \n",
    "    print(f'Mean_absolute_error of {model_name}: {MAE[model_name]}\\n')\n",
    "    R2[model_name]=r2_score(y_test, y_pred)\n",
    "    print(f'R2 score of {model_name} : {R2[model_name]}\\n')\n",
    "    return model, y_pred"
   ]
  },
  {
   "cell_type": "code",
   "execution_count": 28,
   "metadata": {},
   "outputs": [],
   "source": [
    "# we will first try a model with non-normalized/standardized data"
   ]
  },
  {
   "cell_type": "code",
   "execution_count": 29,
   "metadata": {},
   "outputs": [
    {
     "name": "stdout",
     "output_type": "stream",
     "text": [
      "Mean_squared_error of Lin_reg: 2812764.7687872024\n",
      "\n",
      "RMSE of Lin_reg: 1677.129920067972\n",
      "\n",
      "Mean_absolute_error of Lin_reg: 1353.3482142857142\n",
      "\n",
      "R2 score of Lin_reg : 0.9295876478387102\n",
      "\n"
     ]
    }
   ],
   "source": [
    "# First model Linear Regression\n",
    "from sklearn.linear_model import LinearRegression\n",
    "\n",
    "Lin_reg = LinearRegression()\n",
    "model1 = models(Lin_reg, X_train, y_train, X_test, y_test, 'Lin_reg')"
   ]
  },
  {
   "cell_type": "code",
   "execution_count": 30,
   "metadata": {},
   "outputs": [
    {
     "name": "stdout",
     "output_type": "stream",
     "text": [
      "Mean_squared_error of Svr_linear: 8710747.67548912\n",
      "\n",
      "RMSE of Svr_linear: 2951.397580043922\n",
      "\n",
      "Mean_absolute_error of Svr_linear: 2471.194555162658\n",
      "\n",
      "R2 score of Svr_linear : 0.7819425784477754\n",
      "\n"
     ]
    }
   ],
   "source": [
    "# Second model SVC kernel linear\n",
    "from sklearn.svm import SVR, LinearSVR\n",
    "\n",
    "Svr_linear = SVR(kernel='linear', C=1)\n",
    "model2 = models(Svr_linear, X_train, y_train, X_test, y_test, 'Svr_linear')"
   ]
  },
  {
   "cell_type": "code",
   "execution_count": 31,
   "metadata": {},
   "outputs": [
    {
     "name": "stdout",
     "output_type": "stream",
     "text": [
      "Mean_squared_error of SVR_rbf: 29307900.018188454\n",
      "\n",
      "RMSE of SVR_rbf: 5413.6771254100895\n",
      "\n",
      "Mean_absolute_error of SVR_rbf: 3560.707726821511\n",
      "\n",
      "R2 score of SVR_rbf : 0.2663310490488153\n",
      "\n"
     ]
    }
   ],
   "source": [
    "# Third model SVR_rbf\n",
    "\n",
    "SVR_rbf = SVR(kernel='rbf', C=100)\n",
    "model3 = models(SVR_rbf, X_train_std, y_train, X_test_std, y_test, 'SVR_rbf')"
   ]
  },
  {
   "cell_type": "code",
   "execution_count": 32,
   "metadata": {},
   "outputs": [
    {
     "name": "stdout",
     "output_type": "stream",
     "text": [
      "Mean_squared_error of Ran_for_reg: 3298274.1239218586\n",
      "\n",
      "RMSE of Ran_for_reg: 1816.115118576424\n",
      "\n",
      "Mean_absolute_error of Ran_for_reg: 1122.707175555555\n",
      "\n",
      "R2 score of Ran_for_reg : 0.917433821087644\n",
      "\n"
     ]
    }
   ],
   "source": [
    "# Forth model RandomForestRegressor\n",
    "from sklearn.ensemble import RandomForestRegressor\n",
    "\n",
    "Ran_for_reg = RandomForestRegressor(random_state=0)\n",
    "model4 = models(Ran_for_reg, X_train, y_train, X_test, y_test, 'Ran_for_reg')"
   ]
  },
  {
   "cell_type": "code",
   "execution_count": 33,
   "metadata": {},
   "outputs": [
    {
     "name": "stdout",
     "output_type": "stream",
     "text": [
      "Mean_squared_error of KNN: 7650628.583668359\n",
      "\n",
      "RMSE of KNN: 2765.976967306192\n",
      "\n",
      "Mean_absolute_error of KNN: 2166.730161904762\n",
      "\n",
      "R2 score of KNN : 0.8084806948429034\n",
      "\n"
     ]
    }
   ],
   "source": [
    "# Fifth model KNN\n",
    "from sklearn.neighbors import KNeighborsRegressor\n",
    "\n",
    "KNN = KNeighborsRegressor()\n",
    "model4 = models(KNN, X_train, y_train, X_test, y_test, 'KNN')"
   ]
  },
  {
   "cell_type": "code",
   "execution_count": 34,
   "metadata": {},
   "outputs": [
    {
     "name": "stdout",
     "output_type": "stream",
     "text": [
      "Mean_squared_error of Xg_reg: 31878402.9055431\n",
      "\n",
      "RMSE of Xg_reg: 5646.096253655538\n",
      "\n",
      "Mean_absolute_error of Xg_reg: 4536.282180059524\n",
      "\n",
      "R2 score of Xg_reg : 0.20198327402528626\n",
      "\n"
     ]
    }
   ],
   "source": [
    "# 6th XGBoostRegressor\n",
    "import xgboost as xgb\n",
    "\n",
    "Xg_reg = xgb.XGBRegressor(objective ='reg:squarederror', colsample_bytree = 0.3, learning_rate = 0.1,\n",
    "                max_depth = 5, alpha = 10, n_estimators = 10, random_state=0)\n",
    "\n",
    "model5 = models(Xg_reg, X_train, y_train, X_test, y_test, 'Xg_reg')"
   ]
  },
  {
   "cell_type": "code",
   "execution_count": 35,
   "metadata": {},
   "outputs": [
    {
     "name": "stdout",
     "output_type": "stream",
     "text": [
      "Mean_squared_error of Dec_tree_reg: 10529291.273809524\n",
      "\n",
      "RMSE of Dec_tree_reg: 3244.8869431475614\n",
      "\n",
      "Mean_absolute_error of Dec_tree_reg: 1486.8333333333333\n",
      "\n",
      "R2 score of Dec_tree_reg : 0.7364187103708844\n",
      "\n"
     ]
    }
   ],
   "source": [
    "# 7th model DecisionTreeRegressor\n",
    "from sklearn.tree import DecisionTreeRegressor\n",
    "\n",
    "Dec_tree_reg = DecisionTreeRegressor(random_state=0)\n",
    "model7= models(Dec_tree_reg, X_train, y_train, X_test, y_test, 'Dec_tree_reg')"
   ]
  },
  {
   "cell_type": "code",
   "execution_count": 36,
   "metadata": {},
   "outputs": [
    {
     "name": "stdout",
     "output_type": "stream",
     "text": [
      "Mean_squared_error of Bag_reg: 2478598.8759294455\n",
      "\n",
      "RMSE of Bag_reg: 1574.3566546146542\n",
      "\n",
      "Mean_absolute_error of Bag_reg: 1035.4218285714285\n",
      "\n",
      "R2 score of Bag_reg : 0.9379528715464636\n",
      "\n"
     ]
    }
   ],
   "source": [
    "# 8th model ExtraTreeRegressor\n",
    "from sklearn.ensemble import BaggingRegressor\n",
    "\n",
    "Bag_reg = BaggingRegressor(random_state=0)\n",
    "\n",
    "model8= models(Bag_reg, X_train, y_train, X_test, y_test, 'Bag_reg')"
   ]
  },
  {
   "cell_type": "code",
   "execution_count": 37,
   "metadata": {},
   "outputs": [
    {
     "name": "stdout",
     "output_type": "stream",
     "text": [
      "Mean_squared_error of Ransa: 1.4265209107316692e+26\n",
      "\n",
      "RMSE of Ransa: 11943705081471.45\n",
      "\n",
      "Mean_absolute_error of Ransa: 2606330125918.149\n",
      "\n",
      "R2 score of Ransa : -3.5710306758140877e+18\n",
      "\n"
     ]
    }
   ],
   "source": [
    "#9th model RANSACRegressor\n",
    "from sklearn.linear_model import RANSACRegressor\n",
    "\n",
    "Ransa = RANSACRegressor(random_state=0)\n",
    "model9= models(Ransa, X_train, y_train, X_test, y_test, 'Ransa')"
   ]
  },
  {
   "cell_type": "code",
   "execution_count": 38,
   "metadata": {},
   "outputs": [
    {
     "name": "stdout",
     "output_type": "stream",
     "text": [
      "Mean_squared_error of Lasso: 2811756.886149807\n",
      "\n",
      "RMSE of Lasso: 1676.829414743732\n",
      "\n",
      "Mean_absolute_error of Lasso: 1356.341891931168\n",
      "\n",
      "R2 score of Lasso : 0.9296128783122958\n",
      "\n"
     ]
    }
   ],
   "source": [
    "#10th model lasso\n",
    "from sklearn.linear_model import Lasso\n",
    "\n",
    "Lasso = Lasso(random_state=0)\n",
    "model10= models(Lasso, X_train, y_train, X_test, y_test, 'Lasso')"
   ]
  },
  {
   "cell_type": "code",
   "execution_count": 39,
   "metadata": {},
   "outputs": [
    {
     "data": {
      "text/html": [
       "<div>\n",
       "<style scoped>\n",
       "    .dataframe tbody tr th:only-of-type {\n",
       "        vertical-align: middle;\n",
       "    }\n",
       "\n",
       "    .dataframe tbody tr th {\n",
       "        vertical-align: top;\n",
       "    }\n",
       "\n",
       "    .dataframe thead th {\n",
       "        text-align: right;\n",
       "    }\n",
       "</style>\n",
       "<table border=\"1\" class=\"dataframe\">\n",
       "  <thead>\n",
       "    <tr style=\"text-align: right;\">\n",
       "      <th></th>\n",
       "      <th>Models</th>\n",
       "      <th>MSE</th>\n",
       "    </tr>\n",
       "  </thead>\n",
       "  <tbody>\n",
       "    <tr>\n",
       "      <th>0</th>\n",
       "      <td>Lin_reg</td>\n",
       "      <td>2.812765e+06</td>\n",
       "    </tr>\n",
       "    <tr>\n",
       "      <th>1</th>\n",
       "      <td>Svr_linear</td>\n",
       "      <td>8.710748e+06</td>\n",
       "    </tr>\n",
       "    <tr>\n",
       "      <th>2</th>\n",
       "      <td>SVR_rbf</td>\n",
       "      <td>2.930790e+07</td>\n",
       "    </tr>\n",
       "    <tr>\n",
       "      <th>3</th>\n",
       "      <td>Ran_for_reg</td>\n",
       "      <td>3.298274e+06</td>\n",
       "    </tr>\n",
       "    <tr>\n",
       "      <th>4</th>\n",
       "      <td>KNN</td>\n",
       "      <td>7.650629e+06</td>\n",
       "    </tr>\n",
       "    <tr>\n",
       "      <th>5</th>\n",
       "      <td>Xg_reg</td>\n",
       "      <td>3.187840e+07</td>\n",
       "    </tr>\n",
       "    <tr>\n",
       "      <th>6</th>\n",
       "      <td>Dec_tree_reg</td>\n",
       "      <td>1.052929e+07</td>\n",
       "    </tr>\n",
       "    <tr>\n",
       "      <th>7</th>\n",
       "      <td>Bag_reg</td>\n",
       "      <td>2.478599e+06</td>\n",
       "    </tr>\n",
       "    <tr>\n",
       "      <th>8</th>\n",
       "      <td>Ransa</td>\n",
       "      <td>1.426521e+26</td>\n",
       "    </tr>\n",
       "    <tr>\n",
       "      <th>9</th>\n",
       "      <td>Lasso</td>\n",
       "      <td>2.811757e+06</td>\n",
       "    </tr>\n",
       "  </tbody>\n",
       "</table>\n",
       "</div>"
      ],
      "text/plain": [
       "         Models           MSE\n",
       "0       Lin_reg  2.812765e+06\n",
       "1    Svr_linear  8.710748e+06\n",
       "2       SVR_rbf  2.930790e+07\n",
       "3   Ran_for_reg  3.298274e+06\n",
       "4           KNN  7.650629e+06\n",
       "5        Xg_reg  3.187840e+07\n",
       "6  Dec_tree_reg  1.052929e+07\n",
       "7       Bag_reg  2.478599e+06\n",
       "8         Ransa  1.426521e+26\n",
       "9         Lasso  2.811757e+06"
      ]
     },
     "execution_count": 39,
     "metadata": {},
     "output_type": "execute_result"
    }
   ],
   "source": [
    "# Lets see the results of models of MSE\n",
    "df_MSE = pd.DataFrame({'Models': list(MSE.keys()),\n",
    "                          'MSE': list(MSE.values())})\n",
    "df_MSE"
   ]
  },
  {
   "cell_type": "code",
   "execution_count": 40,
   "metadata": {},
   "outputs": [],
   "source": [
    " for c in [c for c in df_MSE.columns if np.issubdtype(df_MSE[c].dtype , np.number)]:\n",
    "    df_MSE[c] = np.log(df_MSE[c])"
   ]
  },
  {
   "cell_type": "code",
   "execution_count": 41,
   "metadata": {},
   "outputs": [
    {
     "data": {
      "text/plain": [
       "[Text(0, 0.5, 'MSE')]"
      ]
     },
     "execution_count": 41,
     "metadata": {},
     "output_type": "execute_result"
    },
    {
     "data": {
      "image/png": "[encoded data removed]",
      "text/plain": [
       "<Figure size 1224x504 with 1 Axes>"
      ]
     },
     "metadata": {
      "needs_background": "light"
     },
     "output_type": "display_data"
    }
   ],
   "source": [
    "plt.figure(figsize=(17,7))\n",
    "ax = sns.barplot(x = \"Models\", y = \"MSE\", data = df_MSE)\n",
    "ax.set(ylabel = \"MSE\")"
   ]
  },
  {
   "cell_type": "code",
   "execution_count": 42,
   "metadata": {},
   "outputs": [
    {
     "name": "stdout",
     "output_type": "stream",
     "text": [
      "The model with the smallest Mean_square_error is Bag_reg and it's error is 2478598.8759294455\n"
     ]
    }
   ],
   "source": [
    "# Model with the smalest error\n",
    "print(f\"The model with the smallest Mean_square_error is {min(MSE, key=MSE.get)} and it's error is {MSE[min(MSE, key=MSE.get)]}\")"
   ]
  },
  {
   "cell_type": "code",
   "execution_count": 43,
   "metadata": {},
   "outputs": [
    {
     "data": {
      "text/html": [
       "<div>\n",
       "<style scoped>\n",
       "    .dataframe tbody tr th:only-of-type {\n",
       "        vertical-align: middle;\n",
       "    }\n",
       "\n",
       "    .dataframe tbody tr th {\n",
       "        vertical-align: top;\n",
       "    }\n",
       "\n",
       "    .dataframe thead th {\n",
       "        text-align: right;\n",
       "    }\n",
       "</style>\n",
       "<table border=\"1\" class=\"dataframe\">\n",
       "  <thead>\n",
       "    <tr style=\"text-align: right;\">\n",
       "      <th></th>\n",
       "      <th>Models</th>\n",
       "      <th>MAE</th>\n",
       "    </tr>\n",
       "  </thead>\n",
       "  <tbody>\n",
       "    <tr>\n",
       "      <th>0</th>\n",
       "      <td>Lin_reg</td>\n",
       "      <td>1.353348e+03</td>\n",
       "    </tr>\n",
       "    <tr>\n",
       "      <th>1</th>\n",
       "      <td>Svr_linear</td>\n",
       "      <td>2.471195e+03</td>\n",
       "    </tr>\n",
       "    <tr>\n",
       "      <th>2</th>\n",
       "      <td>SVR_rbf</td>\n",
       "      <td>3.560708e+03</td>\n",
       "    </tr>\n",
       "    <tr>\n",
       "      <th>3</th>\n",
       "      <td>Ran_for_reg</td>\n",
       "      <td>1.122707e+03</td>\n",
       "    </tr>\n",
       "    <tr>\n",
       "      <th>4</th>\n",
       "      <td>KNN</td>\n",
       "      <td>2.166730e+03</td>\n",
       "    </tr>\n",
       "    <tr>\n",
       "      <th>5</th>\n",
       "      <td>Xg_reg</td>\n",
       "      <td>4.536282e+03</td>\n",
       "    </tr>\n",
       "    <tr>\n",
       "      <th>6</th>\n",
       "      <td>Dec_tree_reg</td>\n",
       "      <td>1.486833e+03</td>\n",
       "    </tr>\n",
       "    <tr>\n",
       "      <th>7</th>\n",
       "      <td>Bag_reg</td>\n",
       "      <td>1.035422e+03</td>\n",
       "    </tr>\n",
       "    <tr>\n",
       "      <th>8</th>\n",
       "      <td>Ransa</td>\n",
       "      <td>2.606330e+12</td>\n",
       "    </tr>\n",
       "    <tr>\n",
       "      <th>9</th>\n",
       "      <td>Lasso</td>\n",
       "      <td>1.356342e+03</td>\n",
       "    </tr>\n",
       "  </tbody>\n",
       "</table>\n",
       "</div>"
      ],
      "text/plain": [
       "         Models           MAE\n",
       "0       Lin_reg  1.353348e+03\n",
       "1    Svr_linear  2.471195e+03\n",
       "2       SVR_rbf  3.560708e+03\n",
       "3   Ran_for_reg  1.122707e+03\n",
       "4           KNN  2.166730e+03\n",
       "5        Xg_reg  4.536282e+03\n",
       "6  Dec_tree_reg  1.486833e+03\n",
       "7       Bag_reg  1.035422e+03\n",
       "8         Ransa  2.606330e+12\n",
       "9         Lasso  1.356342e+03"
      ]
     },
     "execution_count": 43,
     "metadata": {},
     "output_type": "execute_result"
    }
   ],
   "source": [
    "# Lets see the results of models of MAE\n",
    "df_MAE = pd.DataFrame({'Models': list(MAE.keys()),\n",
    "                          'MAE': list(MAE.values())})\n",
    "df_MAE"
   ]
  },
  {
   "cell_type": "code",
   "execution_count": 44,
   "metadata": {},
   "outputs": [
    {
     "name": "stdout",
     "output_type": "stream",
     "text": [
      "The model with the smallest Mean_absolut_error is Bag_reg and it's error is 1035.4218285714285\n"
     ]
    }
   ],
   "source": [
    "# Model with the smalest error\n",
    "print(f\"The model with the smallest Mean_absolut_error is {min(MAE, key=MAE.get)} and it's error is {MAE[min(MAE, key=MAE.get)]}\")"
   ]
  },
  {
   "cell_type": "code",
   "execution_count": 45,
   "metadata": {},
   "outputs": [],
   "source": [
    "for c in [c for c in df_MAE.columns if np.issubdtype(df_MAE[c].dtype , np.number)]:\n",
    "    df_MAE[c] = np.log(df_MAE[c])"
   ]
  },
  {
   "cell_type": "code",
   "execution_count": 46,
   "metadata": {},
   "outputs": [
    {
     "data": {
      "text/plain": [
       "[Text(0, 0.5, 'MAE')]"
      ]
     },
     "execution_count": 46,
     "metadata": {},
     "output_type": "execute_result"
    },
    {
     "data": {
      "image/png": "[encoded data removed]",
      "text/plain": [
       "<Figure size 1224x504 with 1 Axes>"
      ]
     },
     "metadata": {
      "needs_background": "light"
     },
     "output_type": "display_data"
    }
   ],
   "source": [
    "plt.figure(figsize=(17,7))\n",
    "ax = sns.barplot(x = \"Models\", y = \"MAE\", data = df_MAE)\n",
    "ax.set(ylabel = \"MAE\")"
   ]
  },
  {
   "cell_type": "code",
   "execution_count": 47,
   "metadata": {},
   "outputs": [],
   "source": [
    "y_pred_best=Bag_reg.predict(X_test)"
   ]
  },
  {
   "cell_type": "code",
   "execution_count": 48,
   "metadata": {},
   "outputs": [
    {
     "data": {
      "text/html": [
       "<div>\n",
       "<style scoped>\n",
       "    .dataframe tbody tr th:only-of-type {\n",
       "        vertical-align: middle;\n",
       "    }\n",
       "\n",
       "    .dataframe tbody tr th {\n",
       "        vertical-align: top;\n",
       "    }\n",
       "\n",
       "    .dataframe thead th {\n",
       "        text-align: right;\n",
       "    }\n",
       "</style>\n",
       "<table border=\"1\" class=\"dataframe\">\n",
       "  <thead>\n",
       "    <tr style=\"text-align: right;\">\n",
       "      <th></th>\n",
       "      <th>Actual</th>\n",
       "      <th>Predicted</th>\n",
       "    </tr>\n",
       "  </thead>\n",
       "  <tbody>\n",
       "    <tr>\n",
       "      <th>52</th>\n",
       "      <td>6795.0</td>\n",
       "      <td>6166.6000</td>\n",
       "    </tr>\n",
       "    <tr>\n",
       "      <th>181</th>\n",
       "      <td>15750.0</td>\n",
       "      <td>16469.1000</td>\n",
       "    </tr>\n",
       "    <tr>\n",
       "      <th>5</th>\n",
       "      <td>15250.0</td>\n",
       "      <td>17102.2167</td>\n",
       "    </tr>\n",
       "    <tr>\n",
       "      <th>18</th>\n",
       "      <td>5151.0</td>\n",
       "      <td>6466.1500</td>\n",
       "    </tr>\n",
       "    <tr>\n",
       "      <th>188</th>\n",
       "      <td>9995.0</td>\n",
       "      <td>9417.0000</td>\n",
       "    </tr>\n",
       "  </tbody>\n",
       "</table>\n",
       "</div>"
      ],
      "text/plain": [
       "      Actual   Predicted\n",
       "52    6795.0   6166.6000\n",
       "181  15750.0  16469.1000\n",
       "5    15250.0  17102.2167\n",
       "18    5151.0   6466.1500\n",
       "188   9995.0   9417.0000"
      ]
     },
     "execution_count": 48,
     "metadata": {},
     "output_type": "execute_result"
    }
   ],
   "source": [
    "# At the end let see how good is our prediction\n",
    "df_check = pd.DataFrame({'Actual': y_test, 'Predicted':y_pred_best})\n",
    "df_check.head(5)"
   ]
  },
  {
   "cell_type": "code",
   "execution_count": 49,
   "metadata": {},
   "outputs": [
    {
     "data": {
      "image/png": "[encoded data removed]",
      "text/plain": [
       "<Figure size 720x360 with 1 Axes>"
      ]
     },
     "metadata": {
      "needs_background": "light"
     },
     "output_type": "display_data"
    }
   ],
   "source": [
    "plt.figure(figsize=(10,5))\n",
    "ax = sns.scatterplot(x=range(len(df_check)), y=\"Predicted\", color='red',data=df_check)\n",
    "ax = sns.scatterplot(x=range(len(df_check)), y=\"Actual\", color='blue',data=df_check)"
   ]
  },
  {
   "cell_type": "markdown",
   "metadata": {},
   "source": [
    "Let's see our models with std data"
   ]
  },
  {
   "cell_type": "code",
   "execution_count": 50,
   "metadata": {},
   "outputs": [],
   "source": [
    "# Create a dictionary for each error where you will save the results\n",
    "MSE_std = {}\n",
    "MAE_std= {}\n",
    "RMSE_std={}\n",
    "R2_std={}"
   ]
  },
  {
   "cell_type": "code",
   "execution_count": 51,
   "metadata": {},
   "outputs": [],
   "source": [
    "# Create a funcion to iterate trough model\n",
    "\n",
    "def models_std(model, X_train, y_train, X_test, y_test, model_name):\n",
    "    reg = model\n",
    "    reg.fit(X_train, y_train)\n",
    "    y_pred = reg.predict(X_test)\n",
    "    MSE_std[model_name] = mean_squared_error(y_test, y_pred)\n",
    "    print(f\"Mean_squared_str_error of {model_name}: {MSE_std[model_name]}\\n\")\n",
    "    RMSE_std[model_name]=np.sqrt(metrics.mean_squared_error(y_test, y_pred))\n",
    "    print(f'RMSE_std of {model_name}: {RMSE_std[model_name]}\\n')\n",
    "    MAE_std[model_name]=mean_absolute_error(y_test,y_pred)              \n",
    "    print(f'Mean_absolute_std_error of {model_name}: {MAE_std[model_name]}\\n')\n",
    "    R2_std[model_name]=r2_score(y_test, y_pred)\n",
    "    print(f'R2_std score of {model_name}: {R2_std[model_name]}\\n')\n",
    "    return model, y_pred"
   ]
  },
  {
   "cell_type": "code",
   "execution_count": 52,
   "metadata": {},
   "outputs": [
    {
     "name": "stdout",
     "output_type": "stream",
     "text": [
      "Mean_squared_str_error of Lin_reg: 7.343251110986109e+29\n",
      "\n",
      "RMSE_std of Lin_reg: 856927716379048.5\n",
      "\n",
      "Mean_absolute_std_error of Lin_reg: 186996958354279.38\n",
      "\n",
      "R2_std score of Lin_reg: -1.8382467989261643e+22\n",
      "\n"
     ]
    }
   ],
   "source": [
    "# First model  std LinearRegression\n",
    "from sklearn.linear_model import LinearRegression\n",
    "\n",
    "Lin_reg = LinearRegression()\n",
    "model1 = models_std(Lin_reg, X_train_std, y_train, X_test_std, y_test, 'Lin_reg')"
   ]
  },
  {
   "cell_type": "code",
   "execution_count": 53,
   "metadata": {},
   "outputs": [
    {
     "name": "stdout",
     "output_type": "stream",
     "text": [
      "Mean_squared_str_error of Svr_linear: 28999239.077192914\n",
      "\n",
      "RMSE_std of Svr_linear: 5385.094156762063\n",
      "\n",
      "Mean_absolute_std_error of Svr_linear: 3531.5850942881184\n",
      "\n",
      "R2_std score of Svr_linear: 0.27405780356344334\n",
      "\n"
     ]
    }
   ],
   "source": [
    "# Second model SVC kernel linear\n",
    "from sklearn.svm import SVR, LinearSVR\n",
    "\n",
    "Svr_linear = SVR(kernel='linear', C=1)\n",
    "model2 = models_std(Svr_linear, X_train_std, y_train, X_test_std, y_test, 'Svr_linear')"
   ]
  },
  {
   "cell_type": "code",
   "execution_count": 54,
   "metadata": {},
   "outputs": [
    {
     "name": "stdout",
     "output_type": "stream",
     "text": [
      "Mean_squared_str_error of SVR_rbf: 29307900.018188454\n",
      "\n",
      "RMSE_std of SVR_rbf: 5413.6771254100895\n",
      "\n",
      "Mean_absolute_std_error of SVR_rbf: 3560.707726821511\n",
      "\n",
      "R2_std score of SVR_rbf: 0.2663310490488153\n",
      "\n"
     ]
    }
   ],
   "source": [
    "# Third model SVR_rbf\n",
    "\n",
    "SVR_rbf = SVR(kernel='rbf', C=100)\n",
    "model3 = models_std(SVR_rbf, X_train_std, y_train, X_test_std, y_test, 'SVR_rbf')"
   ]
  },
  {
   "cell_type": "code",
   "execution_count": 55,
   "metadata": {},
   "outputs": [
    {
     "name": "stdout",
     "output_type": "stream",
     "text": [
      "Mean_squared_str_error of Ran_for_reg: 3293290.464614112\n",
      "\n",
      "RMSE_std of Ran_for_reg: 1814.7425339739277\n",
      "\n",
      "Mean_absolute_std_error of Ran_for_reg: 1115.923842222222\n",
      "\n",
      "R2_std score of Ran_for_reg: 0.9175585777605528\n",
      "\n"
     ]
    }
   ],
   "source": [
    "# Forth model RandomForestRegressor\n",
    "from sklearn.ensemble import RandomForestRegressor\n",
    "\n",
    "Ran_for_reg = RandomForestRegressor(random_state=0)\n",
    "model4 = models_std(Ran_for_reg, X_train_std, y_train, X_test_std, y_test, 'Ran_for_reg')"
   ]
  },
  {
   "cell_type": "code",
   "execution_count": 56,
   "metadata": {},
   "outputs": [
    {
     "name": "stdout",
     "output_type": "stream",
     "text": [
      "Mean_squared_str_error of KNN: 4844044.841428573\n",
      "\n",
      "RMSE_std of KNN: 2200.9190901595116\n",
      "\n",
      "Mean_absolute_std_error of KNN: 1500.7476190476193\n",
      "\n",
      "R2_std score of KNN: 0.8787383164619151\n",
      "\n"
     ]
    }
   ],
   "source": [
    "# Fifth model KNN\n",
    "from sklearn.neighbors import KNeighborsRegressor\n",
    "\n",
    "KNN = KNeighborsRegressor()\n",
    "model4 = models_std(KNN, X_train_std, y_train, X_test_std, y_test, 'KNN')"
   ]
  },
  {
   "cell_type": "code",
   "execution_count": 57,
   "metadata": {},
   "outputs": [
    {
     "name": "stdout",
     "output_type": "stream",
     "text": [
      "Mean_squared_str_error of Xg_reg: 31878402.9055431\n",
      "\n",
      "RMSE_std of Xg_reg: 5646.096253655538\n",
      "\n",
      "Mean_absolute_std_error of Xg_reg: 4536.282180059524\n",
      "\n",
      "R2_std score of Xg_reg: 0.20198327402528626\n",
      "\n"
     ]
    }
   ],
   "source": [
    "# 6th XGBoostRegressor\n",
    "import xgboost as xgb\n",
    "\n",
    "Xg_reg = xgb.XGBRegressor(objective ='reg:squarederror', colsample_bytree = 0.3, learning_rate = 0.1,\n",
    "                max_depth = 5, alpha = 10, n_estimators = 10, random_state=0)\n",
    "model5 = models_std(Xg_reg, X_train_std, y_train, X_test_std, y_test, 'Xg_reg')"
   ]
  },
  {
   "cell_type": "code",
   "execution_count": 58,
   "metadata": {},
   "outputs": [
    {
     "name": "stdout",
     "output_type": "stream",
     "text": [
      "Mean_squared_str_error of Dec_tree_reg: 10445111.797619049\n",
      "\n",
      "RMSE_std of Dec_tree_reg: 3231.889818298119\n",
      "\n",
      "Mean_absolute_std_error of Dec_tree_reg: 1436.2142857142858\n",
      "\n",
      "R2_std score of Dec_tree_reg: 0.7385259875197063\n",
      "\n"
     ]
    }
   ],
   "source": [
    "# 7th model DecisionTreeRegressor\n",
    "from sklearn.tree import DecisionTreeRegressor\n",
    "\n",
    "Dec_tree_reg = DecisionTreeRegressor(random_state=0)\n",
    "model7= models_std(Dec_tree_reg, X_train_std, y_train, X_test_std, y_test, 'Dec_tree_reg')"
   ]
  },
  {
   "cell_type": "code",
   "execution_count": 59,
   "metadata": {},
   "outputs": [
    {
     "name": "stdout",
     "output_type": "stream",
     "text": [
      "Mean_squared_str_error of Bag_reg: 2556464.4559294456\n",
      "\n",
      "RMSE_std of Bag_reg: 1598.894760742384\n",
      "\n",
      "Mean_absolute_std_error of Bag_reg: 1065.4789714285712\n",
      "\n",
      "R2_std score of Bag_reg: 0.9360036510851425\n",
      "\n"
     ]
    }
   ],
   "source": [
    "# 8th model BaggingRegressor\n",
    "from sklearn.ensemble import BaggingRegressor\n",
    "\n",
    "Bag_reg = BaggingRegressor( random_state=0)\n",
    "model8= models_std(Bag_reg, X_train_std, y_train, X_test_std, y_test, 'Bag_reg')"
   ]
  },
  {
   "cell_type": "code",
   "execution_count": 60,
   "metadata": {},
   "outputs": [
    {
     "name": "stdout",
     "output_type": "stream",
     "text": [
      "Mean_squared_str_error of Ransa: 1.7150339106412135e+31\n",
      "\n",
      "RMSE_std of Ransa: 4141296790428348.0\n",
      "\n",
      "Mean_absolute_std_error of Ransa: 1020127315796838.6\n",
      "\n",
      "R2_std score of Ransa: -4.293269491451e+23\n",
      "\n"
     ]
    }
   ],
   "source": [
    "#9th model RANSACRegressor\n",
    "from sklearn.linear_model import RANSACRegressor\n",
    "\n",
    "Ransa = RANSACRegressor(random_state=0)\n",
    "\n",
    "model9= models_std(Ransa, X_train_std, y_train, X_test_std, y_test, 'Ransa')"
   ]
  },
  {
   "cell_type": "code",
   "execution_count": 61,
   "metadata": {},
   "outputs": [
    {
     "name": "stdout",
     "output_type": "stream",
     "text": [
      "Mean_squared_str_error of Lasso: 2814495.5779735358\n",
      "\n",
      "RMSE_std of Lasso: 1677.645844024756\n",
      "\n",
      "Mean_absolute_std_error of Lasso: 1353.5753404326365\n",
      "\n",
      "R2_std score of Lasso: 0.9295443202390102\n",
      "\n"
     ]
    }
   ],
   "source": [
    "#10th model lasso\n",
    "from sklearn.linear_model import Lasso\n",
    "\n",
    "Lasso = Lasso(random_state=0, alpha=0.01)\n",
    "model10= models_std(Lasso, X_train_std, y_train, X_test_std, y_test, 'Lasso')"
   ]
  },
  {
   "cell_type": "code",
   "execution_count": 62,
   "metadata": {},
   "outputs": [
    {
     "data": {
      "text/html": [
       "<div>\n",
       "<style scoped>\n",
       "    .dataframe tbody tr th:only-of-type {\n",
       "        vertical-align: middle;\n",
       "    }\n",
       "\n",
       "    .dataframe tbody tr th {\n",
       "        vertical-align: top;\n",
       "    }\n",
       "\n",
       "    .dataframe thead th {\n",
       "        text-align: right;\n",
       "    }\n",
       "</style>\n",
       "<table border=\"1\" class=\"dataframe\">\n",
       "  <thead>\n",
       "    <tr style=\"text-align: right;\">\n",
       "      <th></th>\n",
       "      <th>Models</th>\n",
       "      <th>MSE_std</th>\n",
       "    </tr>\n",
       "  </thead>\n",
       "  <tbody>\n",
       "    <tr>\n",
       "      <th>0</th>\n",
       "      <td>Lin_reg</td>\n",
       "      <td>7.343251e+29</td>\n",
       "    </tr>\n",
       "    <tr>\n",
       "      <th>1</th>\n",
       "      <td>Svr_linear</td>\n",
       "      <td>2.899924e+07</td>\n",
       "    </tr>\n",
       "    <tr>\n",
       "      <th>2</th>\n",
       "      <td>SVR_rbf</td>\n",
       "      <td>2.930790e+07</td>\n",
       "    </tr>\n",
       "    <tr>\n",
       "      <th>3</th>\n",
       "      <td>Ran_for_reg</td>\n",
       "      <td>3.293290e+06</td>\n",
       "    </tr>\n",
       "    <tr>\n",
       "      <th>4</th>\n",
       "      <td>KNN</td>\n",
       "      <td>4.844045e+06</td>\n",
       "    </tr>\n",
       "    <tr>\n",
       "      <th>5</th>\n",
       "      <td>Xg_reg</td>\n",
       "      <td>3.187840e+07</td>\n",
       "    </tr>\n",
       "    <tr>\n",
       "      <th>6</th>\n",
       "      <td>Dec_tree_reg</td>\n",
       "      <td>1.044511e+07</td>\n",
       "    </tr>\n",
       "    <tr>\n",
       "      <th>7</th>\n",
       "      <td>Bag_reg</td>\n",
       "      <td>2.556464e+06</td>\n",
       "    </tr>\n",
       "    <tr>\n",
       "      <th>8</th>\n",
       "      <td>Ransa</td>\n",
       "      <td>1.715034e+31</td>\n",
       "    </tr>\n",
       "    <tr>\n",
       "      <th>9</th>\n",
       "      <td>Lasso</td>\n",
       "      <td>2.814496e+06</td>\n",
       "    </tr>\n",
       "  </tbody>\n",
       "</table>\n",
       "</div>"
      ],
      "text/plain": [
       "         Models       MSE_std\n",
       "0       Lin_reg  7.343251e+29\n",
       "1    Svr_linear  2.899924e+07\n",
       "2       SVR_rbf  2.930790e+07\n",
       "3   Ran_for_reg  3.293290e+06\n",
       "4           KNN  4.844045e+06\n",
       "5        Xg_reg  3.187840e+07\n",
       "6  Dec_tree_reg  1.044511e+07\n",
       "7       Bag_reg  2.556464e+06\n",
       "8         Ransa  1.715034e+31\n",
       "9         Lasso  2.814496e+06"
      ]
     },
     "execution_count": 62,
     "metadata": {},
     "output_type": "execute_result"
    }
   ],
   "source": [
    "# Lets see the results of models of MSE\n",
    "df_MSE_std = pd.DataFrame({'Models': list(MSE_std.keys()),\n",
    "                          'MSE_std': list(MSE_std.values())})\n",
    "df_MSE_std"
   ]
  },
  {
   "cell_type": "code",
   "execution_count": 63,
   "metadata": {},
   "outputs": [
    {
     "name": "stdout",
     "output_type": "stream",
     "text": [
      "The model with the smallest Mean_square_std_error is Bag_reg and it's error is 2556464.4559294456\n"
     ]
    }
   ],
   "source": [
    "# Model with the smalest error\n",
    "print(f\"The model with the smallest Mean_square_std_error is {min(MSE_std, key=MSE_std.get)} and it's error is {MSE_std[min(MSE_std, key=MSE_std.get)]}\")"
   ]
  },
  {
   "cell_type": "code",
   "execution_count": 64,
   "metadata": {},
   "outputs": [],
   "source": [
    "for c in [c for c in df_MSE_std.columns if np.issubdtype(df_MSE_std[c].dtype , np.number)]:\n",
    "    df_MSE_std[c] = np.log(df_MSE_std[c])"
   ]
  },
  {
   "cell_type": "code",
   "execution_count": 65,
   "metadata": {},
   "outputs": [
    {
     "data": {
      "text/plain": [
       "[Text(0, 0.5, 'MSE_std')]"
      ]
     },
     "execution_count": 65,
     "metadata": {},
     "output_type": "execute_result"
    },
    {
     "data": {
      "image/png": "[encoded data removed]",
      "text/plain": [
       "<Figure size 1224x504 with 1 Axes>"
      ]
     },
     "metadata": {
      "needs_background": "light"
     },
     "output_type": "display_data"
    }
   ],
   "source": [
    "plt.figure(figsize=(17,7))\n",
    "ax = sns.barplot(x = \"Models\", y = \"MSE_std\", data = df_MSE_std)\n",
    "ax.set(ylabel = \"MSE_std\")"
   ]
  },
  {
   "cell_type": "code",
   "execution_count": 66,
   "metadata": {},
   "outputs": [
    {
     "data": {
      "text/html": [
       "<div>\n",
       "<style scoped>\n",
       "    .dataframe tbody tr th:only-of-type {\n",
       "        vertical-align: middle;\n",
       "    }\n",
       "\n",
       "    .dataframe tbody tr th {\n",
       "        vertical-align: top;\n",
       "    }\n",
       "\n",
       "    .dataframe thead th {\n",
       "        text-align: right;\n",
       "    }\n",
       "</style>\n",
       "<table border=\"1\" class=\"dataframe\">\n",
       "  <thead>\n",
       "    <tr style=\"text-align: right;\">\n",
       "      <th></th>\n",
       "      <th>Models</th>\n",
       "      <th>MAE_std</th>\n",
       "    </tr>\n",
       "  </thead>\n",
       "  <tbody>\n",
       "    <tr>\n",
       "      <th>0</th>\n",
       "      <td>Lin_reg</td>\n",
       "      <td>1.869970e+14</td>\n",
       "    </tr>\n",
       "    <tr>\n",
       "      <th>1</th>\n",
       "      <td>Svr_linear</td>\n",
       "      <td>3.531585e+03</td>\n",
       "    </tr>\n",
       "    <tr>\n",
       "      <th>2</th>\n",
       "      <td>SVR_rbf</td>\n",
       "      <td>3.560708e+03</td>\n",
       "    </tr>\n",
       "    <tr>\n",
       "      <th>3</th>\n",
       "      <td>Ran_for_reg</td>\n",
       "      <td>1.115924e+03</td>\n",
       "    </tr>\n",
       "    <tr>\n",
       "      <th>4</th>\n",
       "      <td>KNN</td>\n",
       "      <td>1.500748e+03</td>\n",
       "    </tr>\n",
       "    <tr>\n",
       "      <th>5</th>\n",
       "      <td>Xg_reg</td>\n",
       "      <td>4.536282e+03</td>\n",
       "    </tr>\n",
       "    <tr>\n",
       "      <th>6</th>\n",
       "      <td>Dec_tree_reg</td>\n",
       "      <td>1.436214e+03</td>\n",
       "    </tr>\n",
       "    <tr>\n",
       "      <th>7</th>\n",
       "      <td>Bag_reg</td>\n",
       "      <td>1.065479e+03</td>\n",
       "    </tr>\n",
       "    <tr>\n",
       "      <th>8</th>\n",
       "      <td>Ransa</td>\n",
       "      <td>1.020127e+15</td>\n",
       "    </tr>\n",
       "    <tr>\n",
       "      <th>9</th>\n",
       "      <td>Lasso</td>\n",
       "      <td>1.353575e+03</td>\n",
       "    </tr>\n",
       "  </tbody>\n",
       "</table>\n",
       "</div>"
      ],
      "text/plain": [
       "         Models       MAE_std\n",
       "0       Lin_reg  1.869970e+14\n",
       "1    Svr_linear  3.531585e+03\n",
       "2       SVR_rbf  3.560708e+03\n",
       "3   Ran_for_reg  1.115924e+03\n",
       "4           KNN  1.500748e+03\n",
       "5        Xg_reg  4.536282e+03\n",
       "6  Dec_tree_reg  1.436214e+03\n",
       "7       Bag_reg  1.065479e+03\n",
       "8         Ransa  1.020127e+15\n",
       "9         Lasso  1.353575e+03"
      ]
     },
     "execution_count": 66,
     "metadata": {},
     "output_type": "execute_result"
    }
   ],
   "source": [
    "# Lets see the results of models of MAE\n",
    "df_MAE_std = pd.DataFrame({'Models': list(MAE_std.keys()),\n",
    "                          'MAE_std': list(MAE_std.values())})\n",
    "df_MAE_std"
   ]
  },
  {
   "cell_type": "code",
   "execution_count": 67,
   "metadata": {},
   "outputs": [
    {
     "name": "stdout",
     "output_type": "stream",
     "text": [
      "The model with the smallest Mean_absolut_std_error is Bag_reg and it's error is 1065.4789714285712\n"
     ]
    }
   ],
   "source": [
    "# Model with the smalest error\n",
    "print(f\"The model with the smallest Mean_absolut_std_error is {min(MAE_std, key=MAE_std.get)} and it's error is {MAE_std[min(MAE_std, key=MAE_std.get)]}\")"
   ]
  },
  {
   "cell_type": "code",
   "execution_count": 68,
   "metadata": {},
   "outputs": [],
   "source": [
    "for c in [c for c in df_MAE_std.columns if np.issubdtype(df_MAE_std[c].dtype , np.number)]:\n",
    "    df_MAE_std[c] = np.log(df_MAE_std[c])"
   ]
  },
  {
   "cell_type": "code",
   "execution_count": 69,
   "metadata": {},
   "outputs": [
    {
     "data": {
      "text/plain": [
       "[Text(0, 0.5, 'MAE_std')]"
      ]
     },
     "execution_count": 69,
     "metadata": {},
     "output_type": "execute_result"
    },
    {
     "data": {
      "image/png": "[encoded data removed]",
      "text/plain": [
       "<Figure size 1224x504 with 1 Axes>"
      ]
     },
     "metadata": {
      "needs_background": "light"
     },
     "output_type": "display_data"
    }
   ],
   "source": [
    "plt.figure(figsize=(17,7))\n",
    "ax = sns.barplot(x = \"Models\", y = \"MAE_std\", data = df_MAE_std)\n",
    "ax.set(ylabel = \"MAE_std\")"
   ]
  },
  {
   "cell_type": "code",
   "execution_count": 70,
   "metadata": {},
   "outputs": [],
   "source": [
    "y_pred_best_std=Bag_reg.predict(X_test_std)"
   ]
  },
  {
   "cell_type": "code",
   "execution_count": 71,
   "metadata": {},
   "outputs": [
    {
     "data": {
      "text/html": [
       "<div>\n",
       "<style scoped>\n",
       "    .dataframe tbody tr th:only-of-type {\n",
       "        vertical-align: middle;\n",
       "    }\n",
       "\n",
       "    .dataframe tbody tr th {\n",
       "        vertical-align: top;\n",
       "    }\n",
       "\n",
       "    .dataframe thead th {\n",
       "        text-align: right;\n",
       "    }\n",
       "</style>\n",
       "<table border=\"1\" class=\"dataframe\">\n",
       "  <thead>\n",
       "    <tr style=\"text-align: right;\">\n",
       "      <th></th>\n",
       "      <th>Actual</th>\n",
       "      <th>Predicted_std</th>\n",
       "    </tr>\n",
       "  </thead>\n",
       "  <tbody>\n",
       "    <tr>\n",
       "      <th>52</th>\n",
       "      <td>6795.0</td>\n",
       "      <td>6166.6000</td>\n",
       "    </tr>\n",
       "    <tr>\n",
       "      <th>181</th>\n",
       "      <td>15750.0</td>\n",
       "      <td>16469.1000</td>\n",
       "    </tr>\n",
       "    <tr>\n",
       "      <th>5</th>\n",
       "      <td>15250.0</td>\n",
       "      <td>17102.2167</td>\n",
       "    </tr>\n",
       "    <tr>\n",
       "      <th>18</th>\n",
       "      <td>5151.0</td>\n",
       "      <td>6466.1500</td>\n",
       "    </tr>\n",
       "    <tr>\n",
       "      <th>188</th>\n",
       "      <td>9995.0</td>\n",
       "      <td>9384.0000</td>\n",
       "    </tr>\n",
       "  </tbody>\n",
       "</table>\n",
       "</div>"
      ],
      "text/plain": [
       "      Actual  Predicted_std\n",
       "52    6795.0      6166.6000\n",
       "181  15750.0     16469.1000\n",
       "5    15250.0     17102.2167\n",
       "18    5151.0      6466.1500\n",
       "188   9995.0      9384.0000"
      ]
     },
     "execution_count": 71,
     "metadata": {},
     "output_type": "execute_result"
    }
   ],
   "source": [
    "# At the end let see how good is our prediction\n",
    "df_check_std = pd.DataFrame({'Actual': y_test, 'Predicted_std': y_pred_best_std})\n",
    "df_check_std.head(5)"
   ]
  },
  {
   "cell_type": "code",
   "execution_count": 72,
   "metadata": {},
   "outputs": [
    {
     "data": {
      "image/png": "[encoded data removed]",
      "text/plain": [
       "<Figure size 720x360 with 1 Axes>"
      ]
     },
     "metadata": {
      "needs_background": "light"
     },
     "output_type": "display_data"
    }
   ],
   "source": [
    "plt.figure(figsize=(10,5))\n",
    "ax = sns.scatterplot(x=range(len(df_check)), y=\"Predicted_std\", color='red',data=df_check_std)\n",
    "ax = sns.scatterplot(x=range(len(df_check)), y=\"Actual\", color='blue',data=df_check_std)"
   ]
  },
  {
   "cell_type": "markdown",
   "metadata": {},
   "source": [
    "Let's see how normalization will go"
   ]
  },
  {
   "cell_type": "code",
   "execution_count": 73,
   "metadata": {},
   "outputs": [],
   "source": [
    "MSE_norm = {}\n",
    "MAE_norm = {}\n",
    "RMSE_norm ={}\n",
    "R2_norm={}"
   ]
  },
  {
   "cell_type": "code",
   "execution_count": 74,
   "metadata": {},
   "outputs": [],
   "source": [
    "# Define function to go through normalized data \n",
    "def models_norm(model, X_train, y_train, X_test, y_test, model_name):\n",
    "    reg = model\n",
    "    reg.fit(X_train, y_train)\n",
    "    y_pred = reg.predict(X_test)\n",
    "    MSE_norm[model_name] = mean_squared_error(y_test, y_pred)\n",
    "    print(f\"Mean_squared_norm_error of {model_name}: {MSE_norm[model_name]}\\n\")\n",
    "    RMSE_norm[model_name]=np.sqrt(metrics.mean_squared_error(y_test, y_pred))\n",
    "    print(f'RMSE_norm of {model_name}: {RMSE_norm[model_name]}\\n')\n",
    "    MAE_norm[model_name]=mean_absolute_error(y_test,y_pred)              \n",
    "    print(f'Mean_absolute_norm_error of {model_name}: {MAE_norm[model_name]}\\n')\n",
    "    R2_norm[model_name]=r2_score(y_test, y_pred)\n",
    "    print(f'R2_norm score of {model_name}: {R2_norm[model_name]}\\n')\n",
    "    return model, y_pred"
   ]
  },
  {
   "cell_type": "code",
   "execution_count": 75,
   "metadata": {},
   "outputs": [
    {
     "name": "stdout",
     "output_type": "stream",
     "text": [
      "Mean_squared_norm_error of Lin_reg: 2.9070767751502434e+30\n",
      "\n",
      "RMSE_norm of Lin_reg: 1705015183260912.5\n",
      "\n",
      "Mean_absolute_norm_error of Lin_reg: 372064816112850.5\n",
      "\n",
      "R2_norm score of Lin_reg: -7.277327842101954e+22\n",
      "\n"
     ]
    }
   ],
   "source": [
    "# First model LinearRegression\n",
    "from sklearn.linear_model import LinearRegression\n",
    "\n",
    "Lin_reg = LinearRegression()\n",
    "model1 = models_norm(Lin_reg, X_train_norm, y_train, X_test_norm, y_test, 'Lin_reg')"
   ]
  },
  {
   "cell_type": "code",
   "execution_count": 76,
   "metadata": {},
   "outputs": [
    {
     "name": "stdout",
     "output_type": "stream",
     "text": [
      "Mean_squared_norm_error of Svr_linear: 40752378.91241697\n",
      "\n",
      "RMSE_norm of Svr_linear: 6383.758995483537\n",
      "\n",
      "Mean_absolute_norm_error of Svr_linear: 4479.1668003191835\n",
      "\n",
      "R2_norm score of Svr_linear: -0.02016026623821565\n",
      "\n"
     ]
    }
   ],
   "source": [
    "# Second model SVC kernel linear\n",
    "from sklearn.svm import SVR, LinearSVR\n",
    "\n",
    "Svr_linear = SVR(kernel='linear', C=1)\n",
    "model2 = models_norm(Svr_linear, X_train_norm, y_train, X_test_norm, y_test, 'Svr_linear')"
   ]
  },
  {
   "cell_type": "code",
   "execution_count": 77,
   "metadata": {},
   "outputs": [
    {
     "name": "stdout",
     "output_type": "stream",
     "text": [
      "Mean_squared_norm_error of SVR_rbf: 26165976.859505698\n",
      "\n",
      "RMSE_norm of SVR_rbf: 5115.268991901178\n",
      "\n",
      "Mean_absolute_norm_error of SVR_rbf: 3273.432531005184\n",
      "\n",
      "R2_norm score of SVR_rbf: 0.3449832713632578\n",
      "\n"
     ]
    }
   ],
   "source": [
    "# Third model SVR_rbf\n",
    "\n",
    "SVR_rbf = SVR(kernel='rbf', C=100)\n",
    "model3 = models_norm(SVR_rbf, X_train_norm, y_train, X_test_norm, y_test, 'SVR_rbf')"
   ]
  },
  {
   "cell_type": "code",
   "execution_count": 78,
   "metadata": {},
   "outputs": [
    {
     "name": "stdout",
     "output_type": "stream",
     "text": [
      "Mean_squared_norm_error of Ran_for_reg: 3297142.6046218574\n",
      "\n",
      "RMSE_norm of Ran_for_reg: 1815.803569944133\n",
      "\n",
      "Mean_absolute_norm_error of Ran_for_reg: 1121.3771755555551\n",
      "\n",
      "R2_norm score of Ran_for_reg: 0.9174621465759014\n",
      "\n"
     ]
    }
   ],
   "source": [
    "# Forth model RandomForestRegressor\n",
    "from sklearn.ensemble import RandomForestRegressor\n",
    "\n",
    "Ran_for_reg = RandomForestRegressor(random_state=0)\n",
    "model4 = models_norm(Ran_for_reg, X_train_norm, y_train, X_test_norm, y_test, 'Ran_for_reg')"
   ]
  },
  {
   "cell_type": "code",
   "execution_count": 79,
   "metadata": {},
   "outputs": [
    {
     "name": "stdout",
     "output_type": "stream",
     "text": [
      "Mean_squared_norm_error of KNN: 2511550.7633333327\n",
      "\n",
      "RMSE_norm of KNN: 1584.7872927725452\n",
      "\n",
      "Mean_absolute_norm_error of KNN: 1156.3000000000002\n",
      "\n",
      "R2_norm score of KNN: 0.937127982125916\n",
      "\n"
     ]
    }
   ],
   "source": [
    "# Fifth model KNN\n",
    "from sklearn.neighbors import KNeighborsRegressor\n",
    "\n",
    "KNN = KNeighborsRegressor()\n",
    "model4 = models_norm(KNN, X_train_norm, y_train, X_test_norm, y_test, 'KNN')"
   ]
  },
  {
   "cell_type": "code",
   "execution_count": 80,
   "metadata": {},
   "outputs": [
    {
     "name": "stdout",
     "output_type": "stream",
     "text": [
      "Mean_squared_norm_error of Xg_reg: 31878402.9055431\n",
      "\n",
      "RMSE_norm of Xg_reg: 5646.096253655538\n",
      "\n",
      "Mean_absolute_norm_error of Xg_reg: 4536.282180059524\n",
      "\n",
      "R2_norm score of Xg_reg: 0.20198327402528626\n",
      "\n"
     ]
    }
   ],
   "source": [
    "# 6th XGBoostRegressor\n",
    "import xgboost as xgb\n",
    "\n",
    "Xg_reg = xgb.XGBRegressor(objective ='reg:squarederror', colsample_bytree = 0.3, learning_rate = 0.1,\n",
    "                max_depth = 5, alpha = 10, n_estimators = 10,random_state=0)\n",
    "model5 = models_norm(Xg_reg, X_train_norm, y_train, X_test_norm, y_test, 'Xg_reg')"
   ]
  },
  {
   "cell_type": "code",
   "execution_count": 81,
   "metadata": {},
   "outputs": [
    {
     "name": "stdout",
     "output_type": "stream",
     "text": [
      "Mean_squared_norm_error of Dec_tree_reg: 10529291.273809524\n",
      "\n",
      "RMSE_norm of Dec_tree_reg: 3244.8869431475614\n",
      "\n",
      "Mean_absolute_norm_error of Dec_tree_reg: 1486.8333333333333\n",
      "\n",
      "R2_norm score of Dec_tree_reg: 0.7364187103708844\n",
      "\n"
     ]
    }
   ],
   "source": [
    "# 7th model DecisionTreeRegressor\n",
    "from sklearn.tree import DecisionTreeRegressor\n",
    "\n",
    "Dec_tree_reg = DecisionTreeRegressor(random_state=0)\n",
    "model7= models_norm(Dec_tree_reg, X_train_norm, y_train, X_test_norm, y_test, 'Dec_tree_reg')"
   ]
  },
  {
   "cell_type": "code",
   "execution_count": 82,
   "metadata": {},
   "outputs": [
    {
     "name": "stdout",
     "output_type": "stream",
     "text": [
      "Mean_squared_norm_error of Bag_reg: 2557668.7513675406\n",
      "\n",
      "RMSE_norm of Bag_reg: 1599.2713188722983\n",
      "\n",
      "Mean_absolute_norm_error of Bag_reg: 1065.3027809523808\n",
      "\n",
      "R2_norm score of Bag_reg: 0.935973503781168\n",
      "\n"
     ]
    }
   ],
   "source": [
    "# 8th model BaggingRegressor\n",
    "from sklearn.ensemble import BaggingRegressor\n",
    "\n",
    "Bag_reg = BaggingRegressor(random_state=0)\n",
    "model8= models_norm(Bag_reg, X_train_norm, y_train, X_test_norm, y_test, 'Bag_reg')"
   ]
  },
  {
   "cell_type": "code",
   "execution_count": 83,
   "metadata": {},
   "outputs": [
    {
     "name": "stdout",
     "output_type": "stream",
     "text": [
      "Mean_squared_norm_error of Ransa: 1.9781652239506211e+31\n",
      "\n",
      "RMSE_norm of Ransa: 4447656938153640.0\n",
      "\n",
      "Mean_absolute_norm_error of Ransa: 1046604056270866.2\n",
      "\n",
      "R2_norm score of Ransa: -4.9519699595101683e+23\n",
      "\n"
     ]
    }
   ],
   "source": [
    "#9th model RANSACRegressor\n",
    "from sklearn.linear_model import RANSACRegressor\n",
    "\n",
    "Ransa = RANSACRegressor(random_state=0)\n",
    "model9= models_norm(Ransa, X_train_norm, y_train, X_test_norm, y_test, 'Ransa')"
   ]
  },
  {
   "cell_type": "code",
   "execution_count": 84,
   "metadata": {},
   "outputs": [
    {
     "name": "stdout",
     "output_type": "stream",
     "text": [
      "Mean_squared_norm_error of Lasso: 2794305.7955177524\n",
      "\n",
      "RMSE_norm of Lasso: 1671.6177181155242\n",
      "\n",
      "Mean_absolute_norm_error of Lasso: 1368.1121417233146\n",
      "\n",
      "R2_norm score of Lasso: 0.9300497340184033\n",
      "\n"
     ]
    }
   ],
   "source": [
    "#10th model lasso\n",
    "from sklearn.linear_model import Lasso\n",
    "\n",
    "Lasso = Lasso(random_state=0)\n",
    "model10= models_norm(Lasso, X_train_norm, y_train, X_test_norm, y_test, 'Lasso')"
   ]
  },
  {
   "cell_type": "code",
   "execution_count": 85,
   "metadata": {},
   "outputs": [
    {
     "data": {
      "text/html": [
       "<div>\n",
       "<style scoped>\n",
       "    .dataframe tbody tr th:only-of-type {\n",
       "        vertical-align: middle;\n",
       "    }\n",
       "\n",
       "    .dataframe tbody tr th {\n",
       "        vertical-align: top;\n",
       "    }\n",
       "\n",
       "    .dataframe thead th {\n",
       "        text-align: right;\n",
       "    }\n",
       "</style>\n",
       "<table border=\"1\" class=\"dataframe\">\n",
       "  <thead>\n",
       "    <tr style=\"text-align: right;\">\n",
       "      <th></th>\n",
       "      <th>Models</th>\n",
       "      <th>MSE_norm</th>\n",
       "    </tr>\n",
       "  </thead>\n",
       "  <tbody>\n",
       "    <tr>\n",
       "      <th>0</th>\n",
       "      <td>Lin_reg</td>\n",
       "      <td>2.907077e+30</td>\n",
       "    </tr>\n",
       "    <tr>\n",
       "      <th>1</th>\n",
       "      <td>Svr_linear</td>\n",
       "      <td>4.075238e+07</td>\n",
       "    </tr>\n",
       "    <tr>\n",
       "      <th>2</th>\n",
       "      <td>SVR_rbf</td>\n",
       "      <td>2.616598e+07</td>\n",
       "    </tr>\n",
       "    <tr>\n",
       "      <th>3</th>\n",
       "      <td>Ran_for_reg</td>\n",
       "      <td>3.297143e+06</td>\n",
       "    </tr>\n",
       "    <tr>\n",
       "      <th>4</th>\n",
       "      <td>KNN</td>\n",
       "      <td>2.511551e+06</td>\n",
       "    </tr>\n",
       "    <tr>\n",
       "      <th>5</th>\n",
       "      <td>Xg_reg</td>\n",
       "      <td>3.187840e+07</td>\n",
       "    </tr>\n",
       "    <tr>\n",
       "      <th>6</th>\n",
       "      <td>Dec_tree_reg</td>\n",
       "      <td>1.052929e+07</td>\n",
       "    </tr>\n",
       "    <tr>\n",
       "      <th>7</th>\n",
       "      <td>Bag_reg</td>\n",
       "      <td>2.557669e+06</td>\n",
       "    </tr>\n",
       "    <tr>\n",
       "      <th>8</th>\n",
       "      <td>Ransa</td>\n",
       "      <td>1.978165e+31</td>\n",
       "    </tr>\n",
       "    <tr>\n",
       "      <th>9</th>\n",
       "      <td>Lasso</td>\n",
       "      <td>2.794306e+06</td>\n",
       "    </tr>\n",
       "  </tbody>\n",
       "</table>\n",
       "</div>"
      ],
      "text/plain": [
       "         Models      MSE_norm\n",
       "0       Lin_reg  2.907077e+30\n",
       "1    Svr_linear  4.075238e+07\n",
       "2       SVR_rbf  2.616598e+07\n",
       "3   Ran_for_reg  3.297143e+06\n",
       "4           KNN  2.511551e+06\n",
       "5        Xg_reg  3.187840e+07\n",
       "6  Dec_tree_reg  1.052929e+07\n",
       "7       Bag_reg  2.557669e+06\n",
       "8         Ransa  1.978165e+31\n",
       "9         Lasso  2.794306e+06"
      ]
     },
     "execution_count": 85,
     "metadata": {},
     "output_type": "execute_result"
    }
   ],
   "source": [
    "# Lets see the results of models of MSE\n",
    "df_MSE_norm= pd.DataFrame({'Models': list(MSE_norm.keys()),\n",
    "                          'MSE_norm': list(MSE_norm.values())})\n",
    "df_MSE_norm"
   ]
  },
  {
   "cell_type": "code",
   "execution_count": 86,
   "metadata": {},
   "outputs": [
    {
     "name": "stdout",
     "output_type": "stream",
     "text": [
      "The model with the smallest Mean_square_norm_error is KNN and it's error is 2511550.7633333327\n"
     ]
    }
   ],
   "source": [
    "# Model with the smalest error\n",
    "print(f\"The model with the smallest Mean_square_norm_error is {min(MSE_norm, key=MSE_norm.get)} and it's error is {MSE_norm[min(MSE_norm, key=MSE_norm.get)]}\")"
   ]
  },
  {
   "cell_type": "code",
   "execution_count": 87,
   "metadata": {},
   "outputs": [],
   "source": [
    "for c in [c for c in df_MSE_norm.columns if np.issubdtype(df_MSE_norm[c].dtype , np.number)]:\n",
    "    df_MSE_norm[c] = np.log(df_MSE_norm[c])"
   ]
  },
  {
   "cell_type": "code",
   "execution_count": 88,
   "metadata": {},
   "outputs": [
    {
     "data": {
      "text/plain": [
       "[Text(0, 0.5, 'MSE_norm')]"
      ]
     },
     "execution_count": 88,
     "metadata": {},
     "output_type": "execute_result"
    },
    {
     "data": {
      "image/png": "[encoded data removed]",
      "text/plain": [
       "<Figure size 1224x504 with 1 Axes>"
      ]
     },
     "metadata": {
      "needs_background": "light"
     },
     "output_type": "display_data"
    }
   ],
   "source": [
    "plt.figure(figsize=(17,7))\n",
    "ax = sns.barplot(x = \"Models\", y = \"MSE_norm\", data = df_MSE_norm)\n",
    "ax.set(ylabel = \"MSE_norm\")"
   ]
  },
  {
   "cell_type": "code",
   "execution_count": 89,
   "metadata": {},
   "outputs": [
    {
     "data": {
      "text/html": [
       "<div>\n",
       "<style scoped>\n",
       "    .dataframe tbody tr th:only-of-type {\n",
       "        vertical-align: middle;\n",
       "    }\n",
       "\n",
       "    .dataframe tbody tr th {\n",
       "        vertical-align: top;\n",
       "    }\n",
       "\n",
       "    .dataframe thead th {\n",
       "        text-align: right;\n",
       "    }\n",
       "</style>\n",
       "<table border=\"1\" class=\"dataframe\">\n",
       "  <thead>\n",
       "    <tr style=\"text-align: right;\">\n",
       "      <th></th>\n",
       "      <th>Models</th>\n",
       "      <th>MAE_norm</th>\n",
       "    </tr>\n",
       "  </thead>\n",
       "  <tbody>\n",
       "    <tr>\n",
       "      <th>0</th>\n",
       "      <td>Lin_reg</td>\n",
       "      <td>3.720648e+14</td>\n",
       "    </tr>\n",
       "    <tr>\n",
       "      <th>1</th>\n",
       "      <td>Svr_linear</td>\n",
       "      <td>4.479167e+03</td>\n",
       "    </tr>\n",
       "    <tr>\n",
       "      <th>2</th>\n",
       "      <td>SVR_rbf</td>\n",
       "      <td>3.273433e+03</td>\n",
       "    </tr>\n",
       "    <tr>\n",
       "      <th>3</th>\n",
       "      <td>Ran_for_reg</td>\n",
       "      <td>1.121377e+03</td>\n",
       "    </tr>\n",
       "    <tr>\n",
       "      <th>4</th>\n",
       "      <td>KNN</td>\n",
       "      <td>1.156300e+03</td>\n",
       "    </tr>\n",
       "    <tr>\n",
       "      <th>5</th>\n",
       "      <td>Xg_reg</td>\n",
       "      <td>4.536282e+03</td>\n",
       "    </tr>\n",
       "    <tr>\n",
       "      <th>6</th>\n",
       "      <td>Dec_tree_reg</td>\n",
       "      <td>1.486833e+03</td>\n",
       "    </tr>\n",
       "    <tr>\n",
       "      <th>7</th>\n",
       "      <td>Bag_reg</td>\n",
       "      <td>1.065303e+03</td>\n",
       "    </tr>\n",
       "    <tr>\n",
       "      <th>8</th>\n",
       "      <td>Ransa</td>\n",
       "      <td>1.046604e+15</td>\n",
       "    </tr>\n",
       "    <tr>\n",
       "      <th>9</th>\n",
       "      <td>Lasso</td>\n",
       "      <td>1.368112e+03</td>\n",
       "    </tr>\n",
       "  </tbody>\n",
       "</table>\n",
       "</div>"
      ],
      "text/plain": [
       "         Models      MAE_norm\n",
       "0       Lin_reg  3.720648e+14\n",
       "1    Svr_linear  4.479167e+03\n",
       "2       SVR_rbf  3.273433e+03\n",
       "3   Ran_for_reg  1.121377e+03\n",
       "4           KNN  1.156300e+03\n",
       "5        Xg_reg  4.536282e+03\n",
       "6  Dec_tree_reg  1.486833e+03\n",
       "7       Bag_reg  1.065303e+03\n",
       "8         Ransa  1.046604e+15\n",
       "9         Lasso  1.368112e+03"
      ]
     },
     "execution_count": 89,
     "metadata": {},
     "output_type": "execute_result"
    }
   ],
   "source": [
    "# Lets see the results of models of MAE\n",
    "df_MAE_norm= pd.DataFrame({'Models': list(MAE_norm.keys()),\n",
    "                          'MAE_norm': list(MAE_norm.values())})\n",
    "df_MAE_norm"
   ]
  },
  {
   "cell_type": "code",
   "execution_count": 90,
   "metadata": {},
   "outputs": [
    {
     "name": "stdout",
     "output_type": "stream",
     "text": [
      "The model with the smallest Mean_absolut_norm_error is Bag_reg and it's error is 1065.3027809523808\n"
     ]
    }
   ],
   "source": [
    "# Model with the smalest error\n",
    "print(f\"The model with the smallest Mean_absolut_norm_error is {min(MAE_norm, key=MAE_norm.get)} and it's error is {MAE_norm[min(MAE_norm, key=MAE_norm.get)]}\")"
   ]
  },
  {
   "cell_type": "code",
   "execution_count": 91,
   "metadata": {},
   "outputs": [],
   "source": [
    "for c in [c for c in df_MAE_norm.columns if np.issubdtype(df_MAE_norm[c].dtype , np.number)]:\n",
    "    df_MAE_norm[c] = np.log(df_MAE_norm[c])"
   ]
  },
  {
   "cell_type": "code",
   "execution_count": 92,
   "metadata": {},
   "outputs": [
    {
     "data": {
      "text/plain": [
       "[Text(0, 0.5, 'MAE_norm')]"
      ]
     },
     "execution_count": 92,
     "metadata": {},
     "output_type": "execute_result"
    },
    {
     "data": {
      "image/png": "[encoded data removed]",
      "text/plain": [
       "<Figure size 1224x504 with 1 Axes>"
      ]
     },
     "metadata": {
      "needs_background": "light"
     },
     "output_type": "display_data"
    }
   ],
   "source": [
    "plt.figure(figsize=(17,7))\n",
    "ax = sns.barplot(x = \"Models\", y = \"MAE_norm\", data = df_MAE_norm)\n",
    "ax.set(ylabel = \"MAE_norm\")"
   ]
  },
  {
   "cell_type": "code",
   "execution_count": 93,
   "metadata": {},
   "outputs": [],
   "source": [
    "y_pred_best_norm= Bag_reg.predict(X_test_norm)"
   ]
  },
  {
   "cell_type": "code",
   "execution_count": 94,
   "metadata": {},
   "outputs": [
    {
     "data": {
      "text/html": [
       "<div>\n",
       "<style scoped>\n",
       "    .dataframe tbody tr th:only-of-type {\n",
       "        vertical-align: middle;\n",
       "    }\n",
       "\n",
       "    .dataframe tbody tr th {\n",
       "        vertical-align: top;\n",
       "    }\n",
       "\n",
       "    .dataframe thead th {\n",
       "        text-align: right;\n",
       "    }\n",
       "</style>\n",
       "<table border=\"1\" class=\"dataframe\">\n",
       "  <thead>\n",
       "    <tr style=\"text-align: right;\">\n",
       "      <th></th>\n",
       "      <th>Actual</th>\n",
       "      <th>Predicted_norm</th>\n",
       "    </tr>\n",
       "  </thead>\n",
       "  <tbody>\n",
       "    <tr>\n",
       "      <th>52</th>\n",
       "      <td>6795.0</td>\n",
       "      <td>6166.6000</td>\n",
       "    </tr>\n",
       "    <tr>\n",
       "      <th>181</th>\n",
       "      <td>15750.0</td>\n",
       "      <td>16469.1000</td>\n",
       "    </tr>\n",
       "    <tr>\n",
       "      <th>5</th>\n",
       "      <td>15250.0</td>\n",
       "      <td>17115.2167</td>\n",
       "    </tr>\n",
       "    <tr>\n",
       "      <th>18</th>\n",
       "      <td>5151.0</td>\n",
       "      <td>6466.1500</td>\n",
       "    </tr>\n",
       "    <tr>\n",
       "      <th>188</th>\n",
       "      <td>9995.0</td>\n",
       "      <td>9417.0000</td>\n",
       "    </tr>\n",
       "  </tbody>\n",
       "</table>\n",
       "</div>"
      ],
      "text/plain": [
       "      Actual  Predicted_norm\n",
       "52    6795.0       6166.6000\n",
       "181  15750.0      16469.1000\n",
       "5    15250.0      17115.2167\n",
       "18    5151.0       6466.1500\n",
       "188   9995.0       9417.0000"
      ]
     },
     "execution_count": 94,
     "metadata": {},
     "output_type": "execute_result"
    }
   ],
   "source": [
    "# At the end let see how good is our prediction\n",
    "df_check_norm = pd.DataFrame({'Actual': y_test, 'Predicted_norm': y_pred_best_norm})\n",
    "df_check_norm.head(5)"
   ]
  },
  {
   "cell_type": "code",
   "execution_count": 95,
   "metadata": {},
   "outputs": [
    {
     "data": {
      "image/png": "[encoded data removed]",
      "text/plain": [
       "<Figure size 720x360 with 1 Axes>"
      ]
     },
     "metadata": {
      "needs_background": "light"
     },
     "output_type": "display_data"
    }
   ],
   "source": [
    "plt.figure(figsize=(10,5))\n",
    "ax = sns.scatterplot(x=range(len(df_check)), y=\"Predicted_norm\", color='red',data=df_check_norm)\n",
    "ax = sns.scatterplot(x=range(len(df_check)), y=\"Actual\", color='blue',data=df_check_norm)\n"
   ]
  },
  {
   "cell_type": "code",
   "execution_count": 96,
   "metadata": {},
   "outputs": [
    {
     "data": {
      "text/html": [
       "<div>\n",
       "<style scoped>\n",
       "    .dataframe tbody tr th:only-of-type {\n",
       "        vertical-align: middle;\n",
       "    }\n",
       "\n",
       "    .dataframe tbody tr th {\n",
       "        vertical-align: top;\n",
       "    }\n",
       "\n",
       "    .dataframe thead th {\n",
       "        text-align: right;\n",
       "    }\n",
       "</style>\n",
       "<table border=\"1\" class=\"dataframe\">\n",
       "  <thead>\n",
       "    <tr style=\"text-align: right;\">\n",
       "      <th></th>\n",
       "      <th>Lin_reg</th>\n",
       "      <th>Svr_linear</th>\n",
       "      <th>SVR_rbf</th>\n",
       "      <th>Ran_for_reg</th>\n",
       "      <th>KNN</th>\n",
       "      <th>Xg_reg</th>\n",
       "      <th>Dec_tree_reg</th>\n",
       "      <th>Bag_reg</th>\n",
       "      <th>Ransa</th>\n",
       "      <th>Lasso</th>\n",
       "    </tr>\n",
       "  </thead>\n",
       "  <tbody>\n",
       "    <tr>\n",
       "      <th>MAE</th>\n",
       "      <td>1.725550e+03</td>\n",
       "      <td>2260.026165</td>\n",
       "      <td>4472.329336</td>\n",
       "      <td>1365.313810</td>\n",
       "      <td>1689.587305</td>\n",
       "      <td>4327.840355</td>\n",
       "      <td>1560.547619</td>\n",
       "      <td>1061.646824</td>\n",
       "      <td>3.165145e+03</td>\n",
       "      <td>1810.468731</td>\n",
       "    </tr>\n",
       "    <tr>\n",
       "      <th>MAE_std</th>\n",
       "      <td>1.442838e+15</td>\n",
       "      <td>3531.751951</td>\n",
       "      <td>4107.464836</td>\n",
       "      <td>1371.651429</td>\n",
       "      <td>2055.023810</td>\n",
       "      <td>4327.840355</td>\n",
       "      <td>1560.547619</td>\n",
       "      <td>1058.494443</td>\n",
       "      <td>2.346034e+15</td>\n",
       "      <td>1733.686853</td>\n",
       "    </tr>\n",
       "    <tr>\n",
       "      <th>MAE_norm</th>\n",
       "      <td>2.257767e+14</td>\n",
       "      <td>4526.559446</td>\n",
       "      <td>3933.180773</td>\n",
       "      <td>1366.838572</td>\n",
       "      <td>2254.671429</td>\n",
       "      <td>4327.840355</td>\n",
       "      <td>1560.547619</td>\n",
       "      <td>1091.003967</td>\n",
       "      <td>9.970154e+14</td>\n",
       "      <td>1823.777892</td>\n",
       "    </tr>\n",
       "  </tbody>\n",
       "</table>\n",
       "</div>"
      ],
      "text/plain": [
       "               Lin_reg   Svr_linear      SVR_rbf  Ran_for_reg          KNN  \\\n",
       "MAE       1.725550e+03  2260.026165  4472.329336  1365.313810  1689.587305   \n",
       "MAE_std   1.442838e+15  3531.751951  4107.464836  1371.651429  2055.023810   \n",
       "MAE_norm  2.257767e+14  4526.559446  3933.180773  1366.838572  2254.671429   \n",
       "\n",
       "               Xg_reg  Dec_tree_reg      Bag_reg         Ransa        Lasso  \n",
       "MAE       4327.840355   1560.547619  1061.646824  3.165145e+03  1810.468731  \n",
       "MAE_std   4327.840355   1560.547619  1058.494443  2.346034e+15  1733.686853  \n",
       "MAE_norm  4327.840355   1560.547619  1091.003967  9.970154e+14  1823.777892  "
      ]
     },
     "execution_count": 96,
     "metadata": {},
     "output_type": "execute_result"
    }
   ],
   "source": [
    "# Importing MAE error from privious notebook, MAE on basic data\n",
    "MAEerrors=pd.read_csv('MAE_errors.tsv',  sep='\\t')\n",
    "MAEerrors.index = ['MAE', 'MAE_std', 'MAE_norm']\n",
    "MAEerrors"
   ]
  },
  {
   "cell_type": "code",
   "execution_count": 97,
   "metadata": {},
   "outputs": [
    {
     "data": {
      "text/html": [
       "<div>\n",
       "<style scoped>\n",
       "    .dataframe tbody tr th:only-of-type {\n",
       "        vertical-align: middle;\n",
       "    }\n",
       "\n",
       "    .dataframe tbody tr th {\n",
       "        vertical-align: top;\n",
       "    }\n",
       "\n",
       "    .dataframe thead th {\n",
       "        text-align: right;\n",
       "    }\n",
       "</style>\n",
       "<table border=\"1\" class=\"dataframe\">\n",
       "  <thead>\n",
       "    <tr style=\"text-align: right;\">\n",
       "      <th></th>\n",
       "      <th>Lin_reg</th>\n",
       "      <th>Svr_linear</th>\n",
       "      <th>SVR_rbf</th>\n",
       "      <th>Ran_for_reg</th>\n",
       "      <th>KNN</th>\n",
       "      <th>Xg_reg</th>\n",
       "      <th>Dec_tree_reg</th>\n",
       "      <th>Bag_reg</th>\n",
       "      <th>Ransa</th>\n",
       "      <th>Lasso</th>\n",
       "    </tr>\n",
       "  </thead>\n",
       "  <tbody>\n",
       "    <tr>\n",
       "      <th>R2</th>\n",
       "      <td>8.386375e-01</td>\n",
       "      <td>0.822006</td>\n",
       "      <td>-0.009248</td>\n",
       "      <td>0.900750</td>\n",
       "      <td>0.862038</td>\n",
       "      <td>0.298388</td>\n",
       "      <td>0.732652</td>\n",
       "      <td>0.934797</td>\n",
       "      <td>-2.074839e-01</td>\n",
       "      <td>0.821717</td>\n",
       "    </tr>\n",
       "    <tr>\n",
       "      <th>R2_std</th>\n",
       "      <td>-9.688913e+23</td>\n",
       "      <td>0.290894</td>\n",
       "      <td>0.131343</td>\n",
       "      <td>0.901521</td>\n",
       "      <td>0.753319</td>\n",
       "      <td>0.298388</td>\n",
       "      <td>0.732652</td>\n",
       "      <td>0.934945</td>\n",
       "      <td>-2.253929e+24</td>\n",
       "      <td>0.841089</td>\n",
       "    </tr>\n",
       "    <tr>\n",
       "      <th>R2_norm</th>\n",
       "      <td>-1.625365e+22</td>\n",
       "      <td>-0.022082</td>\n",
       "      <td>0.179852</td>\n",
       "      <td>0.900516</td>\n",
       "      <td>0.688062</td>\n",
       "      <td>0.298388</td>\n",
       "      <td>0.732652</td>\n",
       "      <td>0.933417</td>\n",
       "      <td>-3.077258e+23</td>\n",
       "      <td>0.810627</td>\n",
       "    </tr>\n",
       "  </tbody>\n",
       "</table>\n",
       "</div>"
      ],
      "text/plain": [
       "              Lin_reg  Svr_linear   SVR_rbf  Ran_for_reg       KNN    Xg_reg  \\\n",
       "R2       8.386375e-01    0.822006 -0.009248     0.900750  0.862038  0.298388   \n",
       "R2_std  -9.688913e+23    0.290894  0.131343     0.901521  0.753319  0.298388   \n",
       "R2_norm -1.625365e+22   -0.022082  0.179852     0.900516  0.688062  0.298388   \n",
       "\n",
       "         Dec_tree_reg   Bag_reg         Ransa     Lasso  \n",
       "R2           0.732652  0.934797 -2.074839e-01  0.821717  \n",
       "R2_std       0.732652  0.934945 -2.253929e+24  0.841089  \n",
       "R2_norm      0.732652  0.933417 -3.077258e+23  0.810627  "
      ]
     },
     "execution_count": 97,
     "metadata": {},
     "output_type": "execute_result"
    }
   ],
   "source": [
    "# Same here for R2 score\n",
    "R2errors=pd.read_csv('R2_errors.tsv',  sep='\\t')\n",
    "R2errors.index = ['R2', 'R2_std', 'R2_norm']\n",
    "R2errors"
   ]
  },
  {
   "cell_type": "code",
   "execution_count": 98,
   "metadata": {},
   "outputs": [
    {
     "data": {
      "text/html": [
       "<div>\n",
       "<style scoped>\n",
       "    .dataframe tbody tr th:only-of-type {\n",
       "        vertical-align: middle;\n",
       "    }\n",
       "\n",
       "    .dataframe tbody tr th {\n",
       "        vertical-align: top;\n",
       "    }\n",
       "\n",
       "    .dataframe thead th {\n",
       "        text-align: right;\n",
       "    }\n",
       "</style>\n",
       "<table border=\"1\" class=\"dataframe\">\n",
       "  <thead>\n",
       "    <tr style=\"text-align: right;\">\n",
       "      <th></th>\n",
       "      <th>Lin_reg</th>\n",
       "      <th>Svr_linear</th>\n",
       "      <th>SVR_rbf</th>\n",
       "      <th>Ran_for_reg</th>\n",
       "      <th>KNN</th>\n",
       "      <th>Xg_reg</th>\n",
       "      <th>Dec_tree_reg</th>\n",
       "      <th>Bag_reg</th>\n",
       "      <th>Ransa</th>\n",
       "      <th>Lasso</th>\n",
       "    </tr>\n",
       "  </thead>\n",
       "  <tbody>\n",
       "    <tr>\n",
       "      <th>MAE2</th>\n",
       "      <td>1.353348e+03</td>\n",
       "      <td>2471.194555</td>\n",
       "      <td>3560.707727</td>\n",
       "      <td>1122.707176</td>\n",
       "      <td>2166.730162</td>\n",
       "      <td>4536.28218</td>\n",
       "      <td>1486.833333</td>\n",
       "      <td>1035.421829</td>\n",
       "      <td>2.606330e+12</td>\n",
       "      <td>1356.341892</td>\n",
       "    </tr>\n",
       "    <tr>\n",
       "      <th>MAE_std2</th>\n",
       "      <td>1.869970e+14</td>\n",
       "      <td>3531.585094</td>\n",
       "      <td>3560.707727</td>\n",
       "      <td>1115.923842</td>\n",
       "      <td>1500.747619</td>\n",
       "      <td>4536.28218</td>\n",
       "      <td>1436.214286</td>\n",
       "      <td>1065.478971</td>\n",
       "      <td>1.020127e+15</td>\n",
       "      <td>1353.575340</td>\n",
       "    </tr>\n",
       "    <tr>\n",
       "      <th>MAE_norm2</th>\n",
       "      <td>3.720648e+14</td>\n",
       "      <td>4479.166800</td>\n",
       "      <td>3273.432531</td>\n",
       "      <td>1121.377176</td>\n",
       "      <td>1156.300000</td>\n",
       "      <td>4536.28218</td>\n",
       "      <td>1486.833333</td>\n",
       "      <td>1065.302781</td>\n",
       "      <td>1.046604e+15</td>\n",
       "      <td>1368.112142</td>\n",
       "    </tr>\n",
       "  </tbody>\n",
       "</table>\n",
       "</div>"
      ],
      "text/plain": [
       "                Lin_reg   Svr_linear      SVR_rbf  Ran_for_reg          KNN  \\\n",
       "MAE2       1.353348e+03  2471.194555  3560.707727  1122.707176  2166.730162   \n",
       "MAE_std2   1.869970e+14  3531.585094  3560.707727  1115.923842  1500.747619   \n",
       "MAE_norm2  3.720648e+14  4479.166800  3273.432531  1121.377176  1156.300000   \n",
       "\n",
       "               Xg_reg  Dec_tree_reg      Bag_reg         Ransa        Lasso  \n",
       "MAE2       4536.28218   1486.833333  1035.421829  2.606330e+12  1356.341892  \n",
       "MAE_std2   4536.28218   1436.214286  1065.478971  1.020127e+15  1353.575340  \n",
       "MAE_norm2  4536.28218   1486.833333  1065.302781  1.046604e+15  1368.112142  "
      ]
     },
     "execution_count": 98,
     "metadata": {},
     "output_type": "execute_result"
    }
   ],
   "source": [
    "# Making new Df of all MAE from this notebook\n",
    "mydictsMAE2 = [MAE, MAE_std, MAE_norm]\n",
    "MAEerrors2= pd.DataFrame.from_records(mydictsMAE2)\n",
    "MAEerrors2.index = ['MAE2', 'MAE_std2', 'MAE_norm2']\n",
    "MAEerrors2"
   ]
  },
  {
   "cell_type": "code",
   "execution_count": 99,
   "metadata": {},
   "outputs": [
    {
     "data": {
      "text/html": [
       "<div>\n",
       "<style scoped>\n",
       "    .dataframe tbody tr th:only-of-type {\n",
       "        vertical-align: middle;\n",
       "    }\n",
       "\n",
       "    .dataframe tbody tr th {\n",
       "        vertical-align: top;\n",
       "    }\n",
       "\n",
       "    .dataframe thead th {\n",
       "        text-align: right;\n",
       "    }\n",
       "</style>\n",
       "<table border=\"1\" class=\"dataframe\">\n",
       "  <thead>\n",
       "    <tr style=\"text-align: right;\">\n",
       "      <th></th>\n",
       "      <th>Lin_reg</th>\n",
       "      <th>Svr_linear</th>\n",
       "      <th>SVR_rbf</th>\n",
       "      <th>Ran_for_reg</th>\n",
       "      <th>KNN</th>\n",
       "      <th>Xg_reg</th>\n",
       "      <th>Dec_tree_reg</th>\n",
       "      <th>Bag_reg</th>\n",
       "      <th>Ransa</th>\n",
       "      <th>Lasso</th>\n",
       "    </tr>\n",
       "  </thead>\n",
       "  <tbody>\n",
       "    <tr>\n",
       "      <th>R2_2</th>\n",
       "      <td>9.295876e-01</td>\n",
       "      <td>0.781943</td>\n",
       "      <td>0.266331</td>\n",
       "      <td>0.917434</td>\n",
       "      <td>0.808481</td>\n",
       "      <td>0.201983</td>\n",
       "      <td>0.736419</td>\n",
       "      <td>0.937953</td>\n",
       "      <td>-3.571031e+18</td>\n",
       "      <td>0.929613</td>\n",
       "    </tr>\n",
       "    <tr>\n",
       "      <th>R2_std2</th>\n",
       "      <td>-1.838247e+22</td>\n",
       "      <td>0.274058</td>\n",
       "      <td>0.266331</td>\n",
       "      <td>0.917559</td>\n",
       "      <td>0.878738</td>\n",
       "      <td>0.201983</td>\n",
       "      <td>0.738526</td>\n",
       "      <td>0.936004</td>\n",
       "      <td>-4.293269e+23</td>\n",
       "      <td>0.929544</td>\n",
       "    </tr>\n",
       "    <tr>\n",
       "      <th>R2_norm2</th>\n",
       "      <td>-7.277328e+22</td>\n",
       "      <td>-0.020160</td>\n",
       "      <td>0.344983</td>\n",
       "      <td>0.917462</td>\n",
       "      <td>0.937128</td>\n",
       "      <td>0.201983</td>\n",
       "      <td>0.736419</td>\n",
       "      <td>0.935974</td>\n",
       "      <td>-4.951970e+23</td>\n",
       "      <td>0.930050</td>\n",
       "    </tr>\n",
       "  </tbody>\n",
       "</table>\n",
       "</div>"
      ],
      "text/plain": [
       "               Lin_reg  Svr_linear   SVR_rbf  Ran_for_reg       KNN    Xg_reg  \\\n",
       "R2_2      9.295876e-01    0.781943  0.266331     0.917434  0.808481  0.201983   \n",
       "R2_std2  -1.838247e+22    0.274058  0.266331     0.917559  0.878738  0.201983   \n",
       "R2_norm2 -7.277328e+22   -0.020160  0.344983     0.917462  0.937128  0.201983   \n",
       "\n",
       "          Dec_tree_reg   Bag_reg         Ransa     Lasso  \n",
       "R2_2          0.736419  0.937953 -3.571031e+18  0.929613  \n",
       "R2_std2       0.738526  0.936004 -4.293269e+23  0.929544  \n",
       "R2_norm2      0.736419  0.935974 -4.951970e+23  0.930050  "
      ]
     },
     "execution_count": 99,
     "metadata": {},
     "output_type": "execute_result"
    }
   ],
   "source": [
    "#Making new Df of all R2 from this notebook\n",
    "R2mydicts = [R2, R2_std, R2_norm]\n",
    "\n",
    "R2errors2= pd.DataFrame.from_records(R2mydicts)\n",
    "R2errors2.index = ['R2_2', 'R2_std2', 'R2_norm2' ]\n",
    "R2errors2"
   ]
  },
  {
   "cell_type": "code",
   "execution_count": 100,
   "metadata": {},
   "outputs": [
    {
     "data": {
      "text/html": [
       "<div>\n",
       "<style scoped>\n",
       "    .dataframe tbody tr th:only-of-type {\n",
       "        vertical-align: middle;\n",
       "    }\n",
       "\n",
       "    .dataframe tbody tr th {\n",
       "        vertical-align: top;\n",
       "    }\n",
       "\n",
       "    .dataframe thead th {\n",
       "        text-align: right;\n",
       "    }\n",
       "</style>\n",
       "<table border=\"1\" class=\"dataframe\">\n",
       "  <thead>\n",
       "    <tr style=\"text-align: right;\">\n",
       "      <th></th>\n",
       "      <th>Lin_reg</th>\n",
       "      <th>Svr_linear</th>\n",
       "      <th>SVR_rbf</th>\n",
       "      <th>Ran_for_reg</th>\n",
       "      <th>KNN</th>\n",
       "      <th>Xg_reg</th>\n",
       "      <th>Dec_tree_reg</th>\n",
       "      <th>Bag_reg</th>\n",
       "      <th>Ransa</th>\n",
       "      <th>Lasso</th>\n",
       "    </tr>\n",
       "  </thead>\n",
       "  <tbody>\n",
       "    <tr>\n",
       "      <th>MAE</th>\n",
       "      <td>1.725550e+03</td>\n",
       "      <td>2260.026165</td>\n",
       "      <td>4472.329336</td>\n",
       "      <td>1365.313810</td>\n",
       "      <td>1689.587305</td>\n",
       "      <td>4327.840355</td>\n",
       "      <td>1560.547619</td>\n",
       "      <td>1061.646824</td>\n",
       "      <td>3.165145e+03</td>\n",
       "      <td>1810.468731</td>\n",
       "    </tr>\n",
       "    <tr>\n",
       "      <th>MAE_std</th>\n",
       "      <td>1.442838e+15</td>\n",
       "      <td>3531.751951</td>\n",
       "      <td>4107.464836</td>\n",
       "      <td>1371.651429</td>\n",
       "      <td>2055.023810</td>\n",
       "      <td>4327.840355</td>\n",
       "      <td>1560.547619</td>\n",
       "      <td>1058.494443</td>\n",
       "      <td>2.346034e+15</td>\n",
       "      <td>1733.686853</td>\n",
       "    </tr>\n",
       "    <tr>\n",
       "      <th>MAE_norm</th>\n",
       "      <td>2.257767e+14</td>\n",
       "      <td>4526.559446</td>\n",
       "      <td>3933.180773</td>\n",
       "      <td>1366.838572</td>\n",
       "      <td>2254.671429</td>\n",
       "      <td>4327.840355</td>\n",
       "      <td>1560.547619</td>\n",
       "      <td>1091.003967</td>\n",
       "      <td>9.970154e+14</td>\n",
       "      <td>1823.777892</td>\n",
       "    </tr>\n",
       "    <tr>\n",
       "      <th>MAE2</th>\n",
       "      <td>1.353348e+03</td>\n",
       "      <td>2471.194555</td>\n",
       "      <td>3560.707727</td>\n",
       "      <td>1122.707176</td>\n",
       "      <td>2166.730162</td>\n",
       "      <td>4536.282180</td>\n",
       "      <td>1486.833333</td>\n",
       "      <td>1035.421829</td>\n",
       "      <td>2.606330e+12</td>\n",
       "      <td>1356.341892</td>\n",
       "    </tr>\n",
       "    <tr>\n",
       "      <th>MAE_std2</th>\n",
       "      <td>1.869970e+14</td>\n",
       "      <td>3531.585094</td>\n",
       "      <td>3560.707727</td>\n",
       "      <td>1115.923842</td>\n",
       "      <td>1500.747619</td>\n",
       "      <td>4536.282180</td>\n",
       "      <td>1436.214286</td>\n",
       "      <td>1065.478971</td>\n",
       "      <td>1.020127e+15</td>\n",
       "      <td>1353.575340</td>\n",
       "    </tr>\n",
       "    <tr>\n",
       "      <th>MAE_norm2</th>\n",
       "      <td>3.720648e+14</td>\n",
       "      <td>4479.166800</td>\n",
       "      <td>3273.432531</td>\n",
       "      <td>1121.377176</td>\n",
       "      <td>1156.300000</td>\n",
       "      <td>4536.282180</td>\n",
       "      <td>1486.833333</td>\n",
       "      <td>1065.302781</td>\n",
       "      <td>1.046604e+15</td>\n",
       "      <td>1368.112142</td>\n",
       "    </tr>\n",
       "  </tbody>\n",
       "</table>\n",
       "</div>"
      ],
      "text/plain": [
       "                Lin_reg   Svr_linear      SVR_rbf  Ran_for_reg          KNN  \\\n",
       "MAE        1.725550e+03  2260.026165  4472.329336  1365.313810  1689.587305   \n",
       "MAE_std    1.442838e+15  3531.751951  4107.464836  1371.651429  2055.023810   \n",
       "MAE_norm   2.257767e+14  4526.559446  3933.180773  1366.838572  2254.671429   \n",
       "MAE2       1.353348e+03  2471.194555  3560.707727  1122.707176  2166.730162   \n",
       "MAE_std2   1.869970e+14  3531.585094  3560.707727  1115.923842  1500.747619   \n",
       "MAE_norm2  3.720648e+14  4479.166800  3273.432531  1121.377176  1156.300000   \n",
       "\n",
       "                Xg_reg  Dec_tree_reg      Bag_reg         Ransa        Lasso  \n",
       "MAE        4327.840355   1560.547619  1061.646824  3.165145e+03  1810.468731  \n",
       "MAE_std    4327.840355   1560.547619  1058.494443  2.346034e+15  1733.686853  \n",
       "MAE_norm   4327.840355   1560.547619  1091.003967  9.970154e+14  1823.777892  \n",
       "MAE2       4536.282180   1486.833333  1035.421829  2.606330e+12  1356.341892  \n",
       "MAE_std2   4536.282180   1436.214286  1065.478971  1.020127e+15  1353.575340  \n",
       "MAE_norm2  4536.282180   1486.833333  1065.302781  1.046604e+15  1368.112142  "
      ]
     },
     "execution_count": 100,
     "metadata": {},
     "output_type": "execute_result"
    }
   ],
   "source": [
    "# Now let's build df of all MAE\n",
    "ErrorsMAE=pd.concat([MAEerrors,MAEerrors2])\n",
    "ErrorsMAE"
   ]
  },
  {
   "cell_type": "code",
   "execution_count": 101,
   "metadata": {},
   "outputs": [],
   "source": [
    "# Let's explore the results\n",
    "a1=ErrorsMAE.idxmin()"
   ]
  },
  {
   "cell_type": "code",
   "execution_count": 102,
   "metadata": {},
   "outputs": [
    {
     "data": {
      "text/plain": [
       "Bag_reg         1035.421829\n",
       "Ran_for_reg     1115.923842\n",
       "KNN             1156.300000\n",
       "Lin_reg         1353.348214\n",
       "Lasso           1353.575340\n",
       "Dec_tree_reg    1436.214286\n",
       "Svr_linear      2260.026165\n",
       "Ransa           3165.145456\n",
       "SVR_rbf         3273.432531\n",
       "Xg_reg          4327.840355\n",
       "dtype: float64"
      ]
     },
     "execution_count": 102,
     "metadata": {},
     "output_type": "execute_result"
    }
   ],
   "source": [
    "a2=ErrorsMAE.min()\n",
    "a2.sort_values(ascending=True)"
   ]
  },
  {
   "cell_type": "code",
   "execution_count": null,
   "metadata": {},
   "outputs": [],
   "source": [
    "# As we can see the smallest MAE has Bag_reg"
   ]
  },
  {
   "cell_type": "code",
   "execution_count": 103,
   "metadata": {},
   "outputs": [
    {
     "data": {
      "text/html": [
       "<div>\n",
       "<style scoped>\n",
       "    .dataframe tbody tr th:only-of-type {\n",
       "        vertical-align: middle;\n",
       "    }\n",
       "\n",
       "    .dataframe tbody tr th {\n",
       "        vertical-align: top;\n",
       "    }\n",
       "\n",
       "    .dataframe thead th {\n",
       "        text-align: right;\n",
       "    }\n",
       "</style>\n",
       "<table border=\"1\" class=\"dataframe\">\n",
       "  <thead>\n",
       "    <tr style=\"text-align: right;\">\n",
       "      <th></th>\n",
       "      <th>Model</th>\n",
       "      <th>MAE_score</th>\n",
       "      <th>MAE_min</th>\n",
       "    </tr>\n",
       "  </thead>\n",
       "  <tbody>\n",
       "    <tr>\n",
       "      <th>0</th>\n",
       "      <td>Lin_reg</td>\n",
       "      <td>MAE2</td>\n",
       "      <td>1353.348214</td>\n",
       "    </tr>\n",
       "    <tr>\n",
       "      <th>1</th>\n",
       "      <td>Svr_linear</td>\n",
       "      <td>MAE</td>\n",
       "      <td>2260.026165</td>\n",
       "    </tr>\n",
       "    <tr>\n",
       "      <th>2</th>\n",
       "      <td>SVR_rbf</td>\n",
       "      <td>MAE_norm2</td>\n",
       "      <td>3273.432531</td>\n",
       "    </tr>\n",
       "    <tr>\n",
       "      <th>3</th>\n",
       "      <td>Ran_for_reg</td>\n",
       "      <td>MAE_std2</td>\n",
       "      <td>1115.923842</td>\n",
       "    </tr>\n",
       "    <tr>\n",
       "      <th>4</th>\n",
       "      <td>KNN</td>\n",
       "      <td>MAE_norm2</td>\n",
       "      <td>1156.300000</td>\n",
       "    </tr>\n",
       "    <tr>\n",
       "      <th>5</th>\n",
       "      <td>Xg_reg</td>\n",
       "      <td>MAE</td>\n",
       "      <td>4327.840355</td>\n",
       "    </tr>\n",
       "    <tr>\n",
       "      <th>6</th>\n",
       "      <td>Dec_tree_reg</td>\n",
       "      <td>MAE_std2</td>\n",
       "      <td>1436.214286</td>\n",
       "    </tr>\n",
       "    <tr>\n",
       "      <th>7</th>\n",
       "      <td>Bag_reg</td>\n",
       "      <td>MAE2</td>\n",
       "      <td>1035.421829</td>\n",
       "    </tr>\n",
       "    <tr>\n",
       "      <th>8</th>\n",
       "      <td>Ransa</td>\n",
       "      <td>MAE</td>\n",
       "      <td>3165.145456</td>\n",
       "    </tr>\n",
       "    <tr>\n",
       "      <th>9</th>\n",
       "      <td>Lasso</td>\n",
       "      <td>MAE_std2</td>\n",
       "      <td>1353.575340</td>\n",
       "    </tr>\n",
       "  </tbody>\n",
       "</table>\n",
       "</div>"
      ],
      "text/plain": [
       "          Model  MAE_score      MAE_min\n",
       "0       Lin_reg       MAE2  1353.348214\n",
       "1    Svr_linear        MAE  2260.026165\n",
       "2       SVR_rbf  MAE_norm2  3273.432531\n",
       "3   Ran_for_reg   MAE_std2  1115.923842\n",
       "4           KNN  MAE_norm2  1156.300000\n",
       "5        Xg_reg        MAE  4327.840355\n",
       "6  Dec_tree_reg   MAE_std2  1436.214286\n",
       "7       Bag_reg       MAE2  1035.421829\n",
       "8         Ransa        MAE  3165.145456\n",
       "9         Lasso   MAE_std2  1353.575340"
      ]
     },
     "execution_count": 103,
     "metadata": {},
     "output_type": "execute_result"
    }
   ],
   "source": [
    "dfminMAE= pd.DataFrame({'MAE_score': a1, 'MAE_min': a2}).reset_index()\n",
    "\n",
    "dfminMAE_tidy = dfminMAE.rename(columns = {'index': 'Model'}, inplace = False)\n",
    "dfminMAE_tidy"
   ]
  },
  {
   "cell_type": "code",
   "execution_count": 104,
   "metadata": {},
   "outputs": [
    {
     "data": {
      "image/png": "[encoded data removed]",
      "text/plain": [
       "<Figure size 864x576 with 1 Axes>"
      ]
     },
     "metadata": {},
     "output_type": "display_data"
    }
   ],
   "source": [
    "sns.set(rc={'figure.figsize':(12,8)})\n",
    "ax = sns.lineplot(x='Model', y='MAE_min', ci=None,style = 'MAE_score' ,hue = 'MAE_score', data = dfminMAE_tidy, markers=True)\n"
   ]
  },
  {
   "cell_type": "code",
   "execution_count": 105,
   "metadata": {},
   "outputs": [
    {
     "data": {
      "text/html": [
       "<div>\n",
       "<style scoped>\n",
       "    .dataframe tbody tr th:only-of-type {\n",
       "        vertical-align: middle;\n",
       "    }\n",
       "\n",
       "    .dataframe tbody tr th {\n",
       "        vertical-align: top;\n",
       "    }\n",
       "\n",
       "    .dataframe thead th {\n",
       "        text-align: right;\n",
       "    }\n",
       "</style>\n",
       "<table border=\"1\" class=\"dataframe\">\n",
       "  <thead>\n",
       "    <tr style=\"text-align: right;\">\n",
       "      <th></th>\n",
       "      <th>Lin_reg</th>\n",
       "      <th>Svr_linear</th>\n",
       "      <th>SVR_rbf</th>\n",
       "      <th>Ran_for_reg</th>\n",
       "      <th>KNN</th>\n",
       "      <th>Xg_reg</th>\n",
       "      <th>Dec_tree_reg</th>\n",
       "      <th>Bag_reg</th>\n",
       "      <th>Ransa</th>\n",
       "      <th>Lasso</th>\n",
       "    </tr>\n",
       "  </thead>\n",
       "  <tbody>\n",
       "    <tr>\n",
       "      <th>R2</th>\n",
       "      <td>8.386375e-01</td>\n",
       "      <td>0.822006</td>\n",
       "      <td>-0.009248</td>\n",
       "      <td>0.900750</td>\n",
       "      <td>0.862038</td>\n",
       "      <td>0.298388</td>\n",
       "      <td>0.732652</td>\n",
       "      <td>0.934797</td>\n",
       "      <td>-2.074839e-01</td>\n",
       "      <td>0.821717</td>\n",
       "    </tr>\n",
       "    <tr>\n",
       "      <th>R2_std</th>\n",
       "      <td>-9.688913e+23</td>\n",
       "      <td>0.290894</td>\n",
       "      <td>0.131343</td>\n",
       "      <td>0.901521</td>\n",
       "      <td>0.753319</td>\n",
       "      <td>0.298388</td>\n",
       "      <td>0.732652</td>\n",
       "      <td>0.934945</td>\n",
       "      <td>-2.253929e+24</td>\n",
       "      <td>0.841089</td>\n",
       "    </tr>\n",
       "    <tr>\n",
       "      <th>R2_norm</th>\n",
       "      <td>-1.625365e+22</td>\n",
       "      <td>-0.022082</td>\n",
       "      <td>0.179852</td>\n",
       "      <td>0.900516</td>\n",
       "      <td>0.688062</td>\n",
       "      <td>0.298388</td>\n",
       "      <td>0.732652</td>\n",
       "      <td>0.933417</td>\n",
       "      <td>-3.077258e+23</td>\n",
       "      <td>0.810627</td>\n",
       "    </tr>\n",
       "    <tr>\n",
       "      <th>R2_2</th>\n",
       "      <td>9.295876e-01</td>\n",
       "      <td>0.781943</td>\n",
       "      <td>0.266331</td>\n",
       "      <td>0.917434</td>\n",
       "      <td>0.808481</td>\n",
       "      <td>0.201983</td>\n",
       "      <td>0.736419</td>\n",
       "      <td>0.937953</td>\n",
       "      <td>-3.571031e+18</td>\n",
       "      <td>0.929613</td>\n",
       "    </tr>\n",
       "    <tr>\n",
       "      <th>R2_std2</th>\n",
       "      <td>-1.838247e+22</td>\n",
       "      <td>0.274058</td>\n",
       "      <td>0.266331</td>\n",
       "      <td>0.917559</td>\n",
       "      <td>0.878738</td>\n",
       "      <td>0.201983</td>\n",
       "      <td>0.738526</td>\n",
       "      <td>0.936004</td>\n",
       "      <td>-4.293269e+23</td>\n",
       "      <td>0.929544</td>\n",
       "    </tr>\n",
       "    <tr>\n",
       "      <th>R2_norm2</th>\n",
       "      <td>-7.277328e+22</td>\n",
       "      <td>-0.020160</td>\n",
       "      <td>0.344983</td>\n",
       "      <td>0.917462</td>\n",
       "      <td>0.937128</td>\n",
       "      <td>0.201983</td>\n",
       "      <td>0.736419</td>\n",
       "      <td>0.935974</td>\n",
       "      <td>-4.951970e+23</td>\n",
       "      <td>0.930050</td>\n",
       "    </tr>\n",
       "  </tbody>\n",
       "</table>\n",
       "</div>"
      ],
      "text/plain": [
       "               Lin_reg  Svr_linear   SVR_rbf  Ran_for_reg       KNN    Xg_reg  \\\n",
       "R2        8.386375e-01    0.822006 -0.009248     0.900750  0.862038  0.298388   \n",
       "R2_std   -9.688913e+23    0.290894  0.131343     0.901521  0.753319  0.298388   \n",
       "R2_norm  -1.625365e+22   -0.022082  0.179852     0.900516  0.688062  0.298388   \n",
       "R2_2      9.295876e-01    0.781943  0.266331     0.917434  0.808481  0.201983   \n",
       "R2_std2  -1.838247e+22    0.274058  0.266331     0.917559  0.878738  0.201983   \n",
       "R2_norm2 -7.277328e+22   -0.020160  0.344983     0.917462  0.937128  0.201983   \n",
       "\n",
       "          Dec_tree_reg   Bag_reg         Ransa     Lasso  \n",
       "R2            0.732652  0.934797 -2.074839e-01  0.821717  \n",
       "R2_std        0.732652  0.934945 -2.253929e+24  0.841089  \n",
       "R2_norm       0.732652  0.933417 -3.077258e+23  0.810627  \n",
       "R2_2          0.736419  0.937953 -3.571031e+18  0.929613  \n",
       "R2_std2       0.738526  0.936004 -4.293269e+23  0.929544  \n",
       "R2_norm2      0.736419  0.935974 -4.951970e+23  0.930050  "
      ]
     },
     "execution_count": 105,
     "metadata": {},
     "output_type": "execute_result"
    }
   ],
   "source": [
    "# Building dataframe for all R2 errors\n",
    "ErrorsR2=pd.concat([R2errors,R2errors2 ])\n",
    "ErrorsR2"
   ]
  },
  {
   "cell_type": "code",
   "execution_count": 106,
   "metadata": {},
   "outputs": [
    {
     "data": {
      "text/plain": [
       "Bag_reg         0.937953\n",
       "KNN             0.937128\n",
       "Lasso           0.930050\n",
       "Lin_reg         0.929588\n",
       "Ran_for_reg     0.917559\n",
       "Svr_linear      0.822006\n",
       "Dec_tree_reg    0.738526\n",
       "SVR_rbf         0.344983\n",
       "Xg_reg          0.298388\n",
       "Ransa          -0.207484\n",
       "dtype: float64"
      ]
     },
     "execution_count": 106,
     "metadata": {},
     "output_type": "execute_result"
    }
   ],
   "source": [
    "# Let's compare values\n",
    "s1=ErrorsR2.idxmax()\n",
    "s2=ErrorsR2.max()\n",
    "s2.sort_values(ascending=False)"
   ]
  },
  {
   "cell_type": "code",
   "execution_count": 107,
   "metadata": {},
   "outputs": [
    {
     "data": {
      "text/html": [
       "<div>\n",
       "<style scoped>\n",
       "    .dataframe tbody tr th:only-of-type {\n",
       "        vertical-align: middle;\n",
       "    }\n",
       "\n",
       "    .dataframe tbody tr th {\n",
       "        vertical-align: top;\n",
       "    }\n",
       "\n",
       "    .dataframe thead th {\n",
       "        text-align: right;\n",
       "    }\n",
       "</style>\n",
       "<table border=\"1\" class=\"dataframe\">\n",
       "  <thead>\n",
       "    <tr style=\"text-align: right;\">\n",
       "      <th></th>\n",
       "      <th>Model</th>\n",
       "      <th>R2_score</th>\n",
       "      <th>R2_max</th>\n",
       "    </tr>\n",
       "  </thead>\n",
       "  <tbody>\n",
       "    <tr>\n",
       "      <th>0</th>\n",
       "      <td>Lin_reg</td>\n",
       "      <td>R2_2</td>\n",
       "      <td>0.929588</td>\n",
       "    </tr>\n",
       "    <tr>\n",
       "      <th>1</th>\n",
       "      <td>Svr_linear</td>\n",
       "      <td>R2</td>\n",
       "      <td>0.822006</td>\n",
       "    </tr>\n",
       "    <tr>\n",
       "      <th>2</th>\n",
       "      <td>SVR_rbf</td>\n",
       "      <td>R2_norm2</td>\n",
       "      <td>0.344983</td>\n",
       "    </tr>\n",
       "    <tr>\n",
       "      <th>3</th>\n",
       "      <td>Ran_for_reg</td>\n",
       "      <td>R2_std2</td>\n",
       "      <td>0.917559</td>\n",
       "    </tr>\n",
       "    <tr>\n",
       "      <th>4</th>\n",
       "      <td>KNN</td>\n",
       "      <td>R2_norm2</td>\n",
       "      <td>0.937128</td>\n",
       "    </tr>\n",
       "    <tr>\n",
       "      <th>5</th>\n",
       "      <td>Xg_reg</td>\n",
       "      <td>R2</td>\n",
       "      <td>0.298388</td>\n",
       "    </tr>\n",
       "    <tr>\n",
       "      <th>6</th>\n",
       "      <td>Dec_tree_reg</td>\n",
       "      <td>R2_std2</td>\n",
       "      <td>0.738526</td>\n",
       "    </tr>\n",
       "    <tr>\n",
       "      <th>7</th>\n",
       "      <td>Bag_reg</td>\n",
       "      <td>R2_2</td>\n",
       "      <td>0.937953</td>\n",
       "    </tr>\n",
       "    <tr>\n",
       "      <th>8</th>\n",
       "      <td>Ransa</td>\n",
       "      <td>R2</td>\n",
       "      <td>-0.207484</td>\n",
       "    </tr>\n",
       "    <tr>\n",
       "      <th>9</th>\n",
       "      <td>Lasso</td>\n",
       "      <td>R2_norm2</td>\n",
       "      <td>0.930050</td>\n",
       "    </tr>\n",
       "  </tbody>\n",
       "</table>\n",
       "</div>"
      ],
      "text/plain": [
       "          Model  R2_score    R2_max\n",
       "0       Lin_reg      R2_2  0.929588\n",
       "1    Svr_linear        R2  0.822006\n",
       "2       SVR_rbf  R2_norm2  0.344983\n",
       "3   Ran_for_reg   R2_std2  0.917559\n",
       "4           KNN  R2_norm2  0.937128\n",
       "5        Xg_reg        R2  0.298388\n",
       "6  Dec_tree_reg   R2_std2  0.738526\n",
       "7       Bag_reg      R2_2  0.937953\n",
       "8         Ransa        R2 -0.207484\n",
       "9         Lasso  R2_norm2  0.930050"
      ]
     },
     "execution_count": 107,
     "metadata": {},
     "output_type": "execute_result"
    }
   ],
   "source": [
    "dfmaxr2= pd.DataFrame({'R2_score': s1, 'R2_max': s2}).reset_index()\n",
    "\n",
    "dfmaxr2_tidy = dfmaxr2.rename(columns = {'index': 'Model'}, inplace = False)\n",
    "dfmaxr2_tidy"
   ]
  },
  {
   "cell_type": "code",
   "execution_count": 108,
   "metadata": {},
   "outputs": [
    {
     "data": {
      "image/png": "[encoded data removed]",
      "text/plain": [
       "<Figure size 864x576 with 1 Axes>"
      ]
     },
     "metadata": {},
     "output_type": "display_data"
    }
   ],
   "source": [
    "# increase the size\n",
    "sns.set(rc={'figure.figsize':(12,8)})\n",
    "ax = sns.lineplot(x='Model', y='R2_max', ci=None,style = 'R2_score' ,hue = 'R2_score', data = dfmaxr2_tidy, markers=True)\n"
   ]
  },
  {
   "cell_type": "markdown",
   "metadata": {},
   "source": [
    "As Bagging Regressor and KNN has the smallest MAE and R2 score closest to 1, on data without any transformation, and KNN on normalized data. We will try to set the parameters of Bagging Regressor, and later for KNN, hoping that this will improve our score for little bit."
   ]
  },
  {
   "cell_type": "code",
   "execution_count": 109,
   "metadata": {},
   "outputs": [
    {
     "name": "stdout",
     "output_type": "stream",
     "text": [
      "0.9379528715464636\n"
     ]
    }
   ],
   "source": [
    "# Let first see our try our model and see the score one more time\n",
    "Bag_reg_test = BaggingRegressor(random_state=0)\n",
    "Bag_reg_test.fit(X_train,y_train)\n",
    "y_pred=Bag_reg_test.predict(X_test)\n",
    "R2Score=r2_score(y_test,y_pred)\n",
    "print(R2Score)"
   ]
  },
  {
   "cell_type": "code",
   "execution_count": 110,
   "metadata": {},
   "outputs": [],
   "source": [
    "# Let's apply GreadSearch\n",
    "from sklearn.model_selection import GridSearchCV\n",
    "\n",
    "params_bag_GS = {\"n_estimators\": [50,100,200],\n",
    "              \"max_features\":[1,2,4,6,8],\n",
    "              \"max_samples\": [0.5,0.1],\n",
    "            \"bootstrap\": [True, False],\n",
    "         \"bootstrap_features\": [True, False]}"
   ]
  },
  {
   "cell_type": "code",
   "execution_count": 111,
   "metadata": {},
   "outputs": [
    {
     "data": {
      "text/plain": [
       "GridSearchCV(cv=None, error_score=nan,\n",
       "             estimator=BaggingRegressor(base_estimator=None, bootstrap=True,\n",
       "                                        bootstrap_features=False,\n",
       "                                        max_features=1.0, max_samples=1.0,\n",
       "                                        n_estimators=10, n_jobs=None,\n",
       "                                        oob_score=False, random_state=0,\n",
       "                                        verbose=0, warm_start=False),\n",
       "             iid='deprecated', n_jobs=None,\n",
       "             param_grid={'bootstrap': [True, False],\n",
       "                         'bootstrap_features': [True, False],\n",
       "                         'max_features': [1, 2, 4, 6, 8],\n",
       "                         'max_samples': [0.5, 0.1],\n",
       "                         'n_estimators': [50, 100, 200]},\n",
       "             pre_dispatch='2*n_jobs', refit=True, return_train_score=False,\n",
       "             scoring=None, verbose=0)"
      ]
     },
     "execution_count": 111,
     "metadata": {},
     "output_type": "execute_result"
    }
   ],
   "source": [
    "# Fitting the model and chosing the best parameters\n",
    "Bag_model_GS = GridSearchCV(Bag_reg, param_grid=params_bag_GS)\n",
    "Bag_model_GS.fit(X_train,y_train)"
   ]
  },
  {
   "cell_type": "code",
   "execution_count": 112,
   "metadata": {},
   "outputs": [
    {
     "data": {
      "text/plain": [
       "{'bootstrap': False,\n",
       " 'bootstrap_features': False,\n",
       " 'max_features': 8,\n",
       " 'max_samples': 0.5,\n",
       " 'n_estimators': 200}"
      ]
     },
     "execution_count": 112,
     "metadata": {},
     "output_type": "execute_result"
    }
   ],
   "source": [
    "# These are our results\n",
    "Bag_model_GS.best_params_"
   ]
  },
  {
   "cell_type": "code",
   "execution_count": 113,
   "metadata": {},
   "outputs": [
    {
     "name": "stdout",
     "output_type": "stream",
     "text": [
      "0.9368966660493474\n"
     ]
    }
   ],
   "source": [
    "# Using Gread Search best parameters, let see our R2 score\n",
    "\n",
    "Bag_reg_GS = BaggingRegressor(bootstrap = False,\n",
    " bootstrap_features = False,\n",
    " max_features = 8,\n",
    " max_samples = 0.5,\n",
    " n_estimators = 200)\n",
    "Bag_reg_GS.fit(X_train,y_train)\n",
    "y_pred =Bag_reg_GS.predict(X_test)\n",
    "R2Score=r2_score(y_test,y_pred)\n",
    "print(R2Score)"
   ]
  },
  {
   "cell_type": "code",
   "execution_count": 114,
   "metadata": {},
   "outputs": [],
   "source": [
    "# As we can see, there is no any improvement of R2 score"
   ]
  },
  {
   "cell_type": "markdown",
   "metadata": {},
   "source": [
    "# Random Search"
   ]
  },
  {
   "cell_type": "code",
   "execution_count": 115,
   "metadata": {},
   "outputs": [
    {
     "name": "stdout",
     "output_type": "stream",
     "text": [
      "{'n_estimators': [200, 202, 204, 206, 208, 210, 212, 214, 216, 218, 220, 222, 224, 226, 228, 230, 232, 234, 236, 238, 240, 242, 244, 246, 248, 251, 253, 255, 257, 259, 261, 263, 265, 267, 269, 271, 273, 275, 277, 279, 281, 283, 285, 287, 289, 291, 293, 295, 297, 300], 'max_features': [8, 20], 'max_samples': [0.5, 0.9], 'bootstrap_features': [True, False], 'bootstrap': [True, False]}\n"
     ]
    }
   ],
   "source": [
    "#Let's try with Random Search\n",
    "\n",
    "from sklearn.model_selection import RandomizedSearchCV\n",
    "# Number estimators\n",
    "n_estimators = [int(x) for x in np.linspace(start = 200, stop = 300)]\n",
    "# Number of features to consider at every split\n",
    "max_features = [8,20]\n",
    "# Maximum number of samples \n",
    "max_samples = [0.5,0.9]\n",
    "# Method of selecting samples for training each tree\n",
    "bootstrap = [True, False]\n",
    "bootstrap_features = [True, False]\n",
    "    \n",
    "# Create the random grid\n",
    "random_grid = {'n_estimators': n_estimators,\n",
    "               'max_features': max_features,\n",
    "               'max_samples': max_samples,\n",
    "                'bootstrap_features': bootstrap_features,\n",
    "               'bootstrap': bootstrap}\n",
    "print(random_grid)"
   ]
  },
  {
   "cell_type": "code",
   "execution_count": 116,
   "metadata": {},
   "outputs": [
    {
     "name": "stdout",
     "output_type": "stream",
     "text": [
      "Fitting 3 folds for each of 200 candidates, totalling 600 fits\n"
     ]
    },
    {
     "name": "stderr",
     "output_type": "stream",
     "text": [
      "[Parallel(n_jobs=-1)]: Using backend LokyBackend with 4 concurrent workers.\n",
      "[Parallel(n_jobs=-1)]: Done  33 tasks      | elapsed:   14.9s\n",
      "[Parallel(n_jobs=-1)]: Done 154 tasks      | elapsed:   56.5s\n",
      "[Parallel(n_jobs=-1)]: Done 357 tasks      | elapsed:  2.1min\n",
      "[Parallel(n_jobs=-1)]: Done 600 out of 600 | elapsed:  3.4min finished\n"
     ]
    },
    {
     "data": {
      "text/plain": [
       "{'n_estimators': 236,\n",
       " 'max_samples': 0.9,\n",
       " 'max_features': 20,\n",
       " 'bootstrap_features': False,\n",
       " 'bootstrap': True}"
      ]
     },
     "execution_count": 116,
     "metadata": {},
     "output_type": "execute_result"
    }
   ],
   "source": [
    "# Use the random grid to search for best hyperparameters\n",
    "# First create the base model to tune\n",
    "BagR = BaggingRegressor(random_state = 42)\n",
    "# Random search of parameters, using 3 fold cross validation,\n",
    "# search across 100 different combinations, and use all available cores\n",
    "BagR_random = RandomizedSearchCV(estimator=BagR, param_distributions=random_grid,\n",
    "                              n_iter = 200, scoring='neg_mean_absolute_error',\n",
    "                              cv = 3, verbose=2, random_state=42, n_jobs=-1,\n",
    "                              return_train_score=True)\n",
    "# Fit the random search model\n",
    "BagR_random.fit(X_train_norm,y_train)\n",
    "\n",
    "BagR_random.best_params_"
   ]
  },
  {
   "cell_type": "code",
   "execution_count": 117,
   "metadata": {},
   "outputs": [
    {
     "name": "stdout",
     "output_type": "stream",
     "text": [
      "0.8948136508610469\n"
     ]
    }
   ],
   "source": [
    "# Let us see will our score improve with new set of parameters\n",
    "Bag_reg_RS = BaggingRegressor(bootstrap = False,\n",
    " bootstrap_features = False,\n",
    " max_features = 20,\n",
    " max_samples = 0.9,\n",
    " n_estimators = 236)\n",
    "Bag_reg_RS.fit(X_train,y_train)\n",
    "y_pred =Bag_reg_RS.predict(X_test)\n",
    "R2Score=r2_score(y_test,y_pred)\n",
    "print(R2Score)"
   ]
  },
  {
   "cell_type": "code",
   "execution_count": null,
   "metadata": {},
   "outputs": [],
   "source": [
    "# eaven worst, Grid search was better"
   ]
  },
  {
   "cell_type": "code",
   "execution_count": 118,
   "metadata": {},
   "outputs": [
    {
     "name": "stdout",
     "output_type": "stream",
     "text": [
      "0.9211498976509849\n"
     ]
    }
   ],
   "source": [
    "#Let try to improve our model with ExtraTreeRegresor\n",
    "\n",
    "from sklearn.tree import ExtraTreeRegressor\n",
    "Extra_tree = ExtraTreeRegressor(random_state=0)\n",
    "Bag_reg_extra_tree = BaggingRegressor(Extra_tree, random_state=0)\n",
    "Bag_reg_extra_tree.fit(X_train,y_train)\n",
    "y_predET=Bag_reg_extra_tree.predict(X_test)\n",
    "R2Score=r2_score(y_test,y_predET)\n",
    "print(R2Score)"
   ]
  },
  {
   "cell_type": "code",
   "execution_count": 119,
   "metadata": {},
   "outputs": [
    {
     "name": "stdout",
     "output_type": "stream",
     "text": [
      "0.9379528715464636\n"
     ]
    }
   ],
   "source": [
    "# Let's use Decision Tree\n",
    "Bag_reg_dec = BaggingRegressor(Dec_tree_reg, random_state=0)\n",
    "Bag_reg_dec.fit(X_train,y_train)\n",
    "y_predDR=Bag_reg_dec.predict(X_test)\n",
    "R2Score=r2_score(y_test,y_predDR)\n",
    "print(R2Score)"
   ]
  },
  {
   "cell_type": "code",
   "execution_count": null,
   "metadata": {},
   "outputs": [],
   "source": [
    "# All scores are near, but there is no any improvement"
   ]
  },
  {
   "cell_type": "code",
   "execution_count": 120,
   "metadata": {},
   "outputs": [],
   "source": [
    "# Maybe we will have more luck by improving KNN\n",
    "#Try running from k=1 through 25 and record testing accuracy\n",
    "k_range = range(1,26)\n",
    "scores = {}\n",
    "scores_list = []\n",
    "for k in k_range:\n",
    "        knn = KNeighborsRegressor(n_neighbors=k)\n",
    "        knn.fit(X_train_norm,y_train)\n",
    "        y_pred_knn=knn.predict(X_test_norm)\n",
    "        scores[k] = metrics.r2_score(y_test,y_pred_knn)\n",
    "        scores_list.append(metrics.r2_score(y_test,y_pred_knn))"
   ]
  },
  {
   "cell_type": "code",
   "execution_count": 121,
   "metadata": {},
   "outputs": [
    {
     "data": {
      "text/plain": [
       "{1: 0.9319861804535899,\n",
       " 2: 0.9387509631436013,\n",
       " 3: 0.9093267451020003,\n",
       " 4: 0.9178006856390063,\n",
       " 5: 0.937127982125916,\n",
       " 6: 0.9112563113901054,\n",
       " 7: 0.9053272505965817,\n",
       " 8: 0.9030108143283372,\n",
       " 9: 0.9129027752376092,\n",
       " 10: 0.9181204943646082,\n",
       " 11: 0.9129213549908529,\n",
       " 12: 0.906267930139503,\n",
       " 13: 0.9042969411157095,\n",
       " 14: 0.9183220521397182,\n",
       " 15: 0.9217241335208142,\n",
       " 16: 0.9259903088387569,\n",
       " 17: 0.9248801665035629,\n",
       " 18: 0.9170420187906704,\n",
       " 19: 0.9149320803480658,\n",
       " 20: 0.917025082854429,\n",
       " 21: 0.9175957444252356,\n",
       " 22: 0.9175968505661066,\n",
       " 23: 0.9100339977749263,\n",
       " 24: 0.9020411709371411,\n",
       " 25: 0.8911242975714518}"
      ]
     },
     "execution_count": 121,
     "metadata": {},
     "output_type": "execute_result"
    }
   ],
   "source": [
    "#Testing R2 for each value of K\n",
    "scores"
   ]
  },
  {
   "cell_type": "code",
   "execution_count": 122,
   "metadata": {},
   "outputs": [
    {
     "data": {
      "text/plain": [
       "Text(0, 0.5, 'Testing Accuracy')"
      ]
     },
     "execution_count": 122,
     "metadata": {},
     "output_type": "execute_result"
    },
    {
     "data": {
      "image/png": "[encoded data removed]",
      "text/plain": [
       "<Figure size 432x288 with 1 Axes>"
      ]
     },
     "metadata": {
      "needs_background": "light"
     },
     "output_type": "display_data"
    }
   ],
   "source": [
    "# the scope of our error is very small, let plot it\n",
    "%matplotlib inline\n",
    "import matplotlib.pyplot as plt\n",
    "\n",
    "#plot the relationship between K and the testing accuracy\n",
    "plt.plot(k_range,scores_list)\n",
    "plt.xlabel('Value of K for KNN')\n",
    "plt.ylabel('Testing Accuracy')"
   ]
  },
  {
   "cell_type": "code",
   "execution_count": 123,
   "metadata": {},
   "outputs": [
    {
     "data": {
      "text/plain": [
       "KNeighborsRegressor(algorithm='auto', leaf_size=30, metric='minkowski',\n",
       "                    metric_params=None, n_jobs=None, n_neighbors=5, p=2,\n",
       "                    weights='uniform')"
      ]
     },
     "execution_count": 123,
     "metadata": {},
     "output_type": "execute_result"
    }
   ],
   "source": [
    "# we will try with 5 neigbors, fitting and predict\n",
    "knn3 = KNeighborsRegressor(n_neighbors=5)\n",
    "knn3.fit(X_train_norm,y_train)"
   ]
  },
  {
   "cell_type": "code",
   "execution_count": 124,
   "metadata": {},
   "outputs": [],
   "source": [
    "y_pred_knn3=knn3.predict(X_test_norm)"
   ]
  },
  {
   "cell_type": "code",
   "execution_count": 125,
   "metadata": {},
   "outputs": [
    {
     "data": {
      "text/plain": [
       "0.937127982125916"
      ]
     },
     "execution_count": 125,
     "metadata": {},
     "output_type": "execute_result"
    }
   ],
   "source": [
    "# let's print score\n",
    "r2_score(y_test,y_pred_knn3)"
   ]
  },
  {
   "cell_type": "code",
   "execution_count": null,
   "metadata": {},
   "outputs": [],
   "source": [
    "#Good result, but no improvement"
   ]
  },
  {
   "cell_type": "code",
   "execution_count": 126,
   "metadata": {},
   "outputs": [],
   "source": [
    "#Let's try Hyperparameters\n",
    "\n",
    "leaf_size = list(range(1,50))\n",
    "n_neighbors = list(range(1,15))\n",
    "p=[1,2]"
   ]
  },
  {
   "cell_type": "code",
   "execution_count": 127,
   "metadata": {},
   "outputs": [],
   "source": [
    "hyperparameters = dict(leaf_size=leaf_size, n_neighbors=n_neighbors, p=p)"
   ]
  },
  {
   "cell_type": "code",
   "execution_count": 128,
   "metadata": {},
   "outputs": [],
   "source": [
    "knn_2 = KNeighborsRegressor()"
   ]
  },
  {
   "cell_type": "code",
   "execution_count": 129,
   "metadata": {},
   "outputs": [],
   "source": [
    "# cross validation\n",
    "clf = GridSearchCV(knn_2, hyperparameters, cv=10)"
   ]
  },
  {
   "cell_type": "code",
   "execution_count": 130,
   "metadata": {},
   "outputs": [],
   "source": [
    "# This will take sooooooome time (~2min)...\n",
    "best_model = clf.fit(X_train_norm,y_train)"
   ]
  },
  {
   "cell_type": "code",
   "execution_count": 131,
   "metadata": {},
   "outputs": [
    {
     "name": "stdout",
     "output_type": "stream",
     "text": [
      "Best leaf_size: 3\n",
      "Best p: 1\n",
      "Best n_neighbors: 3\n"
     ]
    }
   ],
   "source": [
    "#Print hyperpameters\n",
    "print('Best leaf_size:', best_model.best_estimator_.get_params()['leaf_size'])\n",
    "print('Best p:', best_model.best_estimator_.get_params()['p'])\n",
    "print('Best n_neighbors:', best_model.best_estimator_.get_params()['n_neighbors'])"
   ]
  },
  {
   "cell_type": "code",
   "execution_count": 132,
   "metadata": {},
   "outputs": [],
   "source": [
    "# Now let's use it\n",
    "\n",
    "y_predknn2 = best_model.predict(X_test_norm)"
   ]
  },
  {
   "cell_type": "code",
   "execution_count": 133,
   "metadata": {},
   "outputs": [
    {
     "data": {
      "text/plain": [
       "0.9193284825748278"
      ]
     },
     "execution_count": 133,
     "metadata": {},
     "output_type": "execute_result"
    }
   ],
   "source": [
    "r2_score(y_test,y_predknn2)"
   ]
  },
  {
   "cell_type": "code",
   "execution_count": null,
   "metadata": {},
   "outputs": [],
   "source": [
    "# And no, we get worse result"
   ]
  },
  {
   "cell_type": "code",
   "execution_count": null,
   "metadata": {},
   "outputs": [],
   "source": [
    "# we still have left to try feature inportance"
   ]
  },
  {
   "cell_type": "code",
   "execution_count": 162,
   "metadata": {},
   "outputs": [],
   "source": [
    "#Since our top two best models doesn't have Feature importance in it, we will use feature permutation"
   ]
  },
  {
   "cell_type": "code",
   "execution_count": 149,
   "metadata": {},
   "outputs": [],
   "source": [
    "feature_list = list(df_ml2.columns)"
   ]
  },
  {
   "cell_type": "code",
   "execution_count": 165,
   "metadata": {},
   "outputs": [
    {
     "name": "stdout",
     "output_type": "stream",
     "text": [
      "Feature: curbweight           Importance: 86582919.2502294\n",
      "Feature: horsepower           Importance: 4778600.865936317\n",
      "Feature: enginesize           Importance: 3905393.1685008095\n",
      "Feature: x0_Affordable        Importance: 1784.7008780490607\n",
      "Feature: price                Importance: 594.9002926830202\n",
      "Feature: fueltype             Importance: 0.0\n",
      "Feature: aspiration           Importance: 0.0\n",
      "Feature: cylindernumber       Importance: 0.0\n",
      "Feature: boreratio            Importance: 0.0\n",
      "Feature: x0_Cheap             Importance: 0.0\n",
      "Feature: x0_Expensive         Importance: 0.0\n",
      "Feature: x0_Luxury            Importance: 0.0\n",
      "Feature: x1_convertible       Importance: 0.0\n",
      "Feature: x1_hardtop           Importance: 0.0\n",
      "Feature: x1_hatchback         Importance: 0.0\n",
      "Feature: x1_sedan             Importance: 0.0\n",
      "Feature: x1_wagon             Importance: 0.0\n",
      "Feature: x2_High risk         Importance: 0.0\n",
      "Feature: x2_Low risk          Importance: 0.0\n",
      "Feature: x2_No risk           Importance: 0.0\n",
      "Feature: x3_4wd               Importance: 0.0\n",
      "Feature: x3_fwd               Importance: 0.0\n",
      "Feature: x3_rwd               Importance: 0.0\n",
      "Feature: x4_dohc              Importance: 0.0\n",
      "Feature: x4_dohcv             Importance: 0.0\n",
      "Feature: x4_l                 Importance: 0.0\n",
      "Feature: x4_ohc               Importance: 0.0\n",
      "Feature: x4_ohcf              Importance: 0.0\n",
      "Feature: x4_ohcv              Importance: 0.0\n",
      "Feature: x4_rotor             Importance: 0.0\n",
      "Feature: x5_2bbl              Importance: 0.0\n",
      "Feature: x5_4bbl              Importance: 0.0\n",
      "Feature: x5_idi               Importance: 0.0\n",
      "Feature: x5_mfi               Importance: 0.0\n",
      "Feature: x5_mpfi              Importance: 0.0\n",
      "Feature: x5_spdi              Importance: 0.0\n",
      "Feature: x5_1bbl              Importance: -744.4885853663087\n",
      "Feature: wheelbase            Importance: -1586.4957186345011\n",
      "Feature: carwidth             Importance: -3121.446245463565\n",
      "Feature: carlength            Importance: -36493.6634735696\n",
      "Feature: avgmpg               Importance: -37302.2181346342\n"
     ]
    },
    {
     "data": {
      "image/png": "[encoded data removed]",
      "text/plain": [
       "<Figure size 432x288 with 1 Axes>"
      ]
     },
     "metadata": {
      "needs_background": "light"
     },
     "output_type": "display_data"
    }
   ],
   "source": [
    "from sklearn.inspection import permutation_importance\n",
    "from matplotlib import pyplot\n",
    "\n",
    "model = KNeighborsRegressor()\n",
    "# fit the model\n",
    "model.fit(X,y)\n",
    "#perform permutation importance\n",
    "results = permutation_importance(model, X, y, scoring='neg_mean_squared_error')\n",
    "# get importance\n",
    "importance = results.importances_mean\n",
    "# List of tuples with variable and importance\n",
    "feature_importances = [(feature, importance) for feature, importance in zip(feature_list,importance)]\n",
    " \n",
    "# Sort the feature importances by most important first\n",
    "feature_importances = sorted(feature_importances, key = lambda x: x[1], reverse = True)\n",
    "\n",
    "# Print out the feature and importances \n",
    "[print('Feature: {:20} Importance: {}'.format(*pair)) for pair in feature_importances];\n",
    "\n",
    "# plot feature importance\n",
    "pyplot.bar([x for x in range(len(importance))], importance)\n",
    "pyplot.show()"
   ]
  },
  {
   "cell_type": "code",
   "execution_count": 168,
   "metadata": {},
   "outputs": [
    {
     "name": "stdout",
     "output_type": "stream",
     "text": [
      "Mean Absolute Error: 1669.9095238095238\n",
      "R2 score: 0.8461942652180933\n"
     ]
    }
   ],
   "source": [
    "# Let's use only our top feature\n",
    "knn_most_important = KNeighborsRegressor()\n",
    "\n",
    "# Extract the two most important features\n",
    "important_indices = [feature_list.index('curbweight'),feature_list.index('horsepower'), feature_list.index('enginesize'),\n",
    "                    feature_list.index('x0_Affordable')]\n",
    "train_important = X_train_norm[:, important_indices]\n",
    "test_important = X_test_norm[:, important_indices]\n",
    "\n",
    "# Train the random forest\n",
    "knn_most_important.fit(train_important, y_train)\n",
    "y_pred = knn_most_important.predict(test_important)\n",
    "\n",
    "# Display the performance metrics\n",
    "print('Mean Absolute Error:', mean_absolute_error(y_test,y_pred))\n",
    "print('R2 score:', r2_score(y_test,y_pred))"
   ]
  },
  {
   "cell_type": "code",
   "execution_count": null,
   "metadata": {},
   "outputs": [],
   "source": [
    "# As we can see through all the ways to improve the model, we didn't make a better score of our error, we didn't reduce it significantly, \n",
    "# which tells us that we circling around in the right direction.\n",
    "# Maybe sometimes, less work means better.\n",
    "# Hence let try NN and fastai tabular and let's see what can be done with same data set in only few minutes."
   ]
  }
 ],
 "metadata": {
  "kernelspec": {
   "display_name": "Python 3",
   "language": "python",
   "name": "python3"
  },
  "language_info": {
   "codemirror_mode": {
    "name": "ipython",
    "version": 3
   },
   "file_extension": ".py",
   "mimetype": "text/x-python",
   "name": "python",
   "nbconvert_exporter": "python",
   "pygments_lexer": "ipython3",
   "version": "3.7.6"
  }
 },
 "nbformat": 4,
 "nbformat_minor": 4
}
